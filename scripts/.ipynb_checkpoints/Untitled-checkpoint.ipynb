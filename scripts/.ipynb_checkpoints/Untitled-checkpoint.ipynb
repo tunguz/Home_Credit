{
 "cells": [
  {
   "cell_type": "code",
   "execution_count": 1,
   "id": "1148928d-d4bc-42e5-9efd-fef990887509",
   "metadata": {},
   "outputs": [
    {
     "data": {
      "text/plain": [
       "'1.5.0'"
      ]
     },
     "execution_count": 1,
     "metadata": {},
     "output_type": "execute_result"
    }
   ],
   "source": [
    "import numpy as np\n",
    "import pandas as pd\n",
    "import gc\n",
    "import time\n",
    "\n",
    "from sklearn.metrics import roc_auc_score, roc_curve\n",
    "from sklearn.model_selection import KFold, StratifiedKFold\n",
    "from tqdm import tqdm\n",
    "\n",
    "import warnings\n",
    "from time import time\n",
    "import xgboost as xgb\n",
    "xgb.__version__"
   ]
  },
  {
   "cell_type": "code",
   "execution_count": 2,
   "id": "4b96abf9-2c6a-403b-9b6b-da4cea36622a",
   "metadata": {},
   "outputs": [
    {
     "name": "stdout",
     "output_type": "stream",
     "text": [
      "CPU times: user 44.1 s, sys: 4.27 s, total: 48.3 s\n",
      "Wall time: 48.4 s\n"
     ]
    }
   ],
   "source": [
    "%%time\n",
    "train = pd.read_csv('../input/train_1830.csv')"
   ]
  },
  {
   "cell_type": "code",
   "execution_count": 3,
   "id": "cb0d625f-a9bb-43bc-b607-2ebae74ef980",
   "metadata": {},
   "outputs": [],
   "source": [
    "application_train = pd.read_csv('../input/application_train.csv')\n",
    "target = application_train.TARGET.values"
   ]
  },
  {
   "cell_type": "code",
   "execution_count": 4,
   "id": "052c30d6-941e-4ca9-b2d9-c34edccb1bff",
   "metadata": {},
   "outputs": [],
   "source": [
    "good_features = train.columns[2:]"
   ]
  },
  {
   "cell_type": "code",
   "execution_count": 5,
   "id": "39b49ef9-b27d-442e-9f6d-dea2ede74dfd",
   "metadata": {},
   "outputs": [],
   "source": [
    "params = {\n",
    "    'objective' : \"binary:logistic\",\n",
    "    'booster' : \"gbtree\",\n",
    "    'eval_metric' : \"auc\",\n",
    "    'nthread' : -1,\n",
    "    'eta' : 0.001,\n",
    "    'max_depth' : 6,\n",
    "    'min_child_weight' : 22,\n",
    "    'gamma' :0,\n",
    "    'subsample' : 0.7,\n",
    "    'colsample_bytree' : 0.7,\n",
    "    'colsample_bylevel' : 0.675,\n",
    "    'alpha' : 0.00,\n",
    "    'lambda' : 0.00,\n",
    "    'tree_method' : 'gpu_hist',\n",
    "    'predictor': 'gpu_predictor',\n",
    "    #'scale_pos_weights' : 1,\n",
    "    #'nrounds' : 100000,\n",
    "    #'verbose_eval': 1250,\n",
    "    'seed' : 19947\n",
    "}"
   ]
  },
  {
   "cell_type": "code",
   "execution_count": 6,
   "id": "745d9efa-13ca-4207-a877-7fddb5f3fd3d",
   "metadata": {},
   "outputs": [
    {
     "name": "stdout",
     "output_type": "stream",
     "text": [
      "1\n"
     ]
    },
    {
     "ename": "XGBoostError",
     "evalue": "[13:03:36] ../src/data/data.cc:981: Check failed: valid: Input data contains `inf` or `nan`\nStack trace:\n  [bt] (0) /home/tunguz/.local/lib/python3.8/site-packages/xgboost/lib/libxgboost.so(+0x112d29) [0x7fd36b105d29]\n  [bt] (1) /home/tunguz/.local/lib/python3.8/site-packages/xgboost/lib/libxgboost.so(+0x1336a5) [0x7fd36b1266a5]\n  [bt] (2) /home/tunguz/.local/lib/python3.8/site-packages/xgboost/lib/libxgboost.so(+0x1549e9) [0x7fd36b1479e9]\n  [bt] (3) /home/tunguz/.local/lib/python3.8/site-packages/xgboost/lib/libxgboost.so(+0x124fe5) [0x7fd36b117fe5]\n  [bt] (4) /home/tunguz/.local/lib/python3.8/site-packages/xgboost/lib/libxgboost.so(XGDMatrixCreateFromDense+0x24f) [0x7fd36b0949ef]\n  [bt] (5) /lib/x86_64-linux-gnu/libffi.so.7(+0x6ff5) [0x7fd46ad26ff5]\n  [bt] (6) /lib/x86_64-linux-gnu/libffi.so.7(+0x640a) [0x7fd46ad2640a]\n  [bt] (7) /usr/lib/python3.8/lib-dynload/_ctypes.cpython-38-x86_64-linux-gnu.so(_ctypes_callproc+0x5b6) [0x7fd46a4db306]\n  [bt] (8) /usr/lib/python3.8/lib-dynload/_ctypes.cpython-38-x86_64-linux-gnu.so(+0x139dc) [0x7fd46a4db9dc]\n\n",
     "output_type": "error",
     "traceback": [
      "\u001b[0;31m---------------------------------------------------------------------------\u001b[0m",
      "\u001b[0;31mXGBoostError\u001b[0m                              Traceback (most recent call last)",
      "\u001b[0;32m<timed exec>\u001b[0m in \u001b[0;36m<module>\u001b[0;34m\u001b[0m\n",
      "\u001b[0;32m~/.local/lib/python3.8/site-packages/xgboost/core.py\u001b[0m in \u001b[0;36minner_f\u001b[0;34m(*args, **kwargs)\u001b[0m\n\u001b[1;32m    504\u001b[0m         \u001b[0;32mfor\u001b[0m \u001b[0mk\u001b[0m\u001b[0;34m,\u001b[0m \u001b[0marg\u001b[0m \u001b[0;32min\u001b[0m \u001b[0mzip\u001b[0m\u001b[0;34m(\u001b[0m\u001b[0msig\u001b[0m\u001b[0;34m.\u001b[0m\u001b[0mparameters\u001b[0m\u001b[0;34m,\u001b[0m \u001b[0margs\u001b[0m\u001b[0;34m)\u001b[0m\u001b[0;34m:\u001b[0m\u001b[0;34m\u001b[0m\u001b[0;34m\u001b[0m\u001b[0m\n\u001b[1;32m    505\u001b[0m             \u001b[0mkwargs\u001b[0m\u001b[0;34m[\u001b[0m\u001b[0mk\u001b[0m\u001b[0;34m]\u001b[0m \u001b[0;34m=\u001b[0m \u001b[0marg\u001b[0m\u001b[0;34m\u001b[0m\u001b[0;34m\u001b[0m\u001b[0m\n\u001b[0;32m--> 506\u001b[0;31m         \u001b[0;32mreturn\u001b[0m \u001b[0mf\u001b[0m\u001b[0;34m(\u001b[0m\u001b[0;34m**\u001b[0m\u001b[0mkwargs\u001b[0m\u001b[0;34m)\u001b[0m\u001b[0;34m\u001b[0m\u001b[0;34m\u001b[0m\u001b[0m\n\u001b[0m\u001b[1;32m    507\u001b[0m \u001b[0;34m\u001b[0m\u001b[0m\n\u001b[1;32m    508\u001b[0m     \u001b[0;32mreturn\u001b[0m \u001b[0minner_f\u001b[0m\u001b[0;34m\u001b[0m\u001b[0;34m\u001b[0m\u001b[0m\n",
      "\u001b[0;32m~/.local/lib/python3.8/site-packages/xgboost/core.py\u001b[0m in \u001b[0;36m__init__\u001b[0;34m(self, data, label, weight, base_margin, missing, silent, feature_names, feature_types, nthread, group, qid, label_lower_bound, label_upper_bound, feature_weights, enable_categorical)\u001b[0m\n\u001b[1;32m    614\u001b[0m             \u001b[0;32mreturn\u001b[0m\u001b[0;34m\u001b[0m\u001b[0;34m\u001b[0m\u001b[0m\n\u001b[1;32m    615\u001b[0m \u001b[0;34m\u001b[0m\u001b[0m\n\u001b[0;32m--> 616\u001b[0;31m         handle, feature_names, feature_types = dispatch_data_backend(\n\u001b[0m\u001b[1;32m    617\u001b[0m             \u001b[0mdata\u001b[0m\u001b[0;34m,\u001b[0m\u001b[0;34m\u001b[0m\u001b[0;34m\u001b[0m\u001b[0m\n\u001b[1;32m    618\u001b[0m             \u001b[0mmissing\u001b[0m\u001b[0;34m=\u001b[0m\u001b[0mself\u001b[0m\u001b[0;34m.\u001b[0m\u001b[0mmissing\u001b[0m\u001b[0;34m,\u001b[0m\u001b[0;34m\u001b[0m\u001b[0;34m\u001b[0m\u001b[0m\n",
      "\u001b[0;32m~/.local/lib/python3.8/site-packages/xgboost/data.py\u001b[0m in \u001b[0;36mdispatch_data_backend\u001b[0;34m(data, missing, threads, feature_names, feature_types, enable_categorical)\u001b[0m\n\u001b[1;32m    696\u001b[0m         )\n\u001b[1;32m    697\u001b[0m     \u001b[0;32mif\u001b[0m \u001b[0m_is_numpy_array\u001b[0m\u001b[0;34m(\u001b[0m\u001b[0mdata\u001b[0m\u001b[0;34m)\u001b[0m\u001b[0;34m:\u001b[0m\u001b[0;34m\u001b[0m\u001b[0;34m\u001b[0m\u001b[0m\n\u001b[0;32m--> 698\u001b[0;31m         return _from_numpy_array(data, missing, threads, feature_names,\n\u001b[0m\u001b[1;32m    699\u001b[0m                                  feature_types)\n\u001b[1;32m    700\u001b[0m     \u001b[0;32mif\u001b[0m \u001b[0m_is_uri\u001b[0m\u001b[0;34m(\u001b[0m\u001b[0mdata\u001b[0m\u001b[0;34m)\u001b[0m\u001b[0;34m:\u001b[0m\u001b[0;34m\u001b[0m\u001b[0;34m\u001b[0m\u001b[0m\n",
      "\u001b[0;32m~/.local/lib/python3.8/site-packages/xgboost/data.py\u001b[0m in \u001b[0;36m_from_numpy_array\u001b[0;34m(data, missing, nthread, feature_names, feature_types)\u001b[0m\n\u001b[1;32m    176\u001b[0m     }\n\u001b[1;32m    177\u001b[0m     \u001b[0mconfig\u001b[0m \u001b[0;34m=\u001b[0m \u001b[0mbytes\u001b[0m\u001b[0;34m(\u001b[0m\u001b[0mjson\u001b[0m\u001b[0;34m.\u001b[0m\u001b[0mdumps\u001b[0m\u001b[0;34m(\u001b[0m\u001b[0margs\u001b[0m\u001b[0;34m)\u001b[0m\u001b[0;34m,\u001b[0m \u001b[0;34m\"utf-8\"\u001b[0m\u001b[0;34m)\u001b[0m\u001b[0;34m\u001b[0m\u001b[0;34m\u001b[0m\u001b[0m\n\u001b[0;32m--> 178\u001b[0;31m     _check_call(\n\u001b[0m\u001b[1;32m    179\u001b[0m         _LIB.XGDMatrixCreateFromDense(\n\u001b[1;32m    180\u001b[0m             \u001b[0m_array_interface\u001b[0m\u001b[0;34m(\u001b[0m\u001b[0mdata\u001b[0m\u001b[0;34m)\u001b[0m\u001b[0;34m,\u001b[0m\u001b[0;34m\u001b[0m\u001b[0;34m\u001b[0m\u001b[0m\n",
      "\u001b[0;32m~/.local/lib/python3.8/site-packages/xgboost/core.py\u001b[0m in \u001b[0;36m_check_call\u001b[0;34m(ret)\u001b[0m\n\u001b[1;32m    216\u001b[0m     \"\"\"\n\u001b[1;32m    217\u001b[0m     \u001b[0;32mif\u001b[0m \u001b[0mret\u001b[0m \u001b[0;34m!=\u001b[0m \u001b[0;36m0\u001b[0m\u001b[0;34m:\u001b[0m\u001b[0;34m\u001b[0m\u001b[0;34m\u001b[0m\u001b[0m\n\u001b[0;32m--> 218\u001b[0;31m         \u001b[0;32mraise\u001b[0m \u001b[0mXGBoostError\u001b[0m\u001b[0;34m(\u001b[0m\u001b[0mpy_str\u001b[0m\u001b[0;34m(\u001b[0m\u001b[0m_LIB\u001b[0m\u001b[0;34m.\u001b[0m\u001b[0mXGBGetLastError\u001b[0m\u001b[0;34m(\u001b[0m\u001b[0;34m)\u001b[0m\u001b[0;34m)\u001b[0m\u001b[0;34m)\u001b[0m\u001b[0;34m\u001b[0m\u001b[0;34m\u001b[0m\u001b[0m\n\u001b[0m\u001b[1;32m    219\u001b[0m \u001b[0;34m\u001b[0m\u001b[0m\n\u001b[1;32m    220\u001b[0m \u001b[0;34m\u001b[0m\u001b[0m\n",
      "\u001b[0;31mXGBoostError\u001b[0m: [13:03:36] ../src/data/data.cc:981: Check failed: valid: Input data contains `inf` or `nan`\nStack trace:\n  [bt] (0) /home/tunguz/.local/lib/python3.8/site-packages/xgboost/lib/libxgboost.so(+0x112d29) [0x7fd36b105d29]\n  [bt] (1) /home/tunguz/.local/lib/python3.8/site-packages/xgboost/lib/libxgboost.so(+0x1336a5) [0x7fd36b1266a5]\n  [bt] (2) /home/tunguz/.local/lib/python3.8/site-packages/xgboost/lib/libxgboost.so(+0x1549e9) [0x7fd36b1479e9]\n  [bt] (3) /home/tunguz/.local/lib/python3.8/site-packages/xgboost/lib/libxgboost.so(+0x124fe5) [0x7fd36b117fe5]\n  [bt] (4) /home/tunguz/.local/lib/python3.8/site-packages/xgboost/lib/libxgboost.so(XGDMatrixCreateFromDense+0x24f) [0x7fd36b0949ef]\n  [bt] (5) /lib/x86_64-linux-gnu/libffi.so.7(+0x6ff5) [0x7fd46ad26ff5]\n  [bt] (6) /lib/x86_64-linux-gnu/libffi.so.7(+0x640a) [0x7fd46ad2640a]\n  [bt] (7) /usr/lib/python3.8/lib-dynload/_ctypes.cpython-38-x86_64-linux-gnu.so(_ctypes_callproc+0x5b6) [0x7fd46a4db306]\n  [bt] (8) /usr/lib/python3.8/lib-dynload/_ctypes.cpython-38-x86_64-linux-gnu.so(+0x139dc) [0x7fd46a4db9dc]\n\n"
     ]
    }
   ],
   "source": [
    "%%time\n",
    "start_time = time()\n",
    "kf = StratifiedKFold(5, shuffle=True, random_state=1974)\n",
    "i=1\n",
    "for train_index, test_index in kf.split(train,target):\n",
    "    #if i < 4:\n",
    "        print(i)\n",
    "        xgtrain, xgval = train[good_features].values[train_index], train[good_features].values[test_index]\n",
    "        y_train, y_val = target[train_index], target[test_index]\n",
    "        xgtrain = xgb.DMatrix(xgtrain, label = y_train ) \n",
    "        xgval = xgb.DMatrix(xgval, label = y_val ) \n",
    "        watchlist = [(xgtrain, 'train'), (xgval, 'eval')]\n",
    "        clf = xgb.train(params, xgtrain, num_boost_round=100000, evals=watchlist, \n",
    "                verbose_eval=True, \n",
    "                early_stopping_rounds = 1500)\n",
    "        \n",
    "        #preds = clf.predict(xgtest)\n",
    "        ypred = clf.predict(xgval, ntree_limit=clf.best_ntree_limit)\n",
    "        #y_oof[test_index] = ypred\n",
    "        #preds_total += preds\n",
    "        #np.save(\"preds_hist_\"+str(i), preds)\n",
    "        #p.save(\"oof_preds_hist_\"+str(i), ypred)\n",
    "        print('Time elapsed:', time()-start_time)\n",
    "        #clf.save_model('xgb_gpu_hist_1812_2_fold_'+str(i)+'.model')\n",
    "        del clf\n",
    "        gc.collect()\n",
    "        i +=1\n",
    "        print('Fold AUC:', roc_auc_score(y_val, ypred))\n",
    "        \n",
    "        break"
   ]
  },
  {
   "cell_type": "code",
   "execution_count": 7,
   "id": "3d4b8830-8fd1-4203-8841-641b4c44ae81",
   "metadata": {},
   "outputs": [
    {
     "name": "stdout",
     "output_type": "stream",
     "text": [
      "1\n",
      "True\n",
      "False\n",
      "True\n",
      "False\n",
      "False\n",
      "True\n",
      "True\n",
      "False\n",
      "True\n",
      "False\n",
      "False\n",
      "True\n",
      "CPU times: user 5.27 s, sys: 2.6 s, total: 7.88 s\n",
      "Wall time: 7.89 s\n"
     ]
    }
   ],
   "source": [
    "%%time\n",
    "start_time = time()\n",
    "kf = StratifiedKFold(5, shuffle=True, random_state=1974)\n",
    "i=1\n",
    "for train_index, test_index in kf.split(train,target):\n",
    "    #if i < 4:\n",
    "        print(i)\n",
    "        xgtrain, xgval = train[good_features].values[train_index], train[good_features].values[test_index]\n",
    "        y_train, y_val = target[train_index], target[test_index]\n",
    "        \n",
    "        \n",
    "        break\n",
    "\n",
    "\n",
    "\n",
    "print(np.isnan(xgtrain).any())\n",
    "print(np.isnan(y_train).any())\n",
    "print(np.isinf(xgtrain).any())\n",
    "print(np.isinf(y_train).any())\n",
    "print(np.isfinite(xgtrain).all())\n",
    "print(np.isfinite(y_train).all())\n",
    "\n",
    "print(np.isnan(xgval).any())\n",
    "print(np.isnan(y_val).any())\n",
    "print(np.isinf(xgval).any())\n",
    "print(np.isinf(y_val).any())\n",
    "print(np.isfinite(xgval).all())\n",
    "print(np.isfinite(y_val).all())"
   ]
  },
  {
   "cell_type": "code",
   "execution_count": null,
   "id": "3e34bd48-8bc5-4b5a-99c4-cb3445e3691a",
   "metadata": {},
   "outputs": [],
   "source": []
  }
 ],
 "metadata": {
  "kernelspec": {
   "display_name": "Python 3 (ipykernel)",
   "language": "python",
   "name": "python3"
  },
  "language_info": {
   "codemirror_mode": {
    "name": "ipython",
    "version": 3
   },
   "file_extension": ".py",
   "mimetype": "text/x-python",
   "name": "python",
   "nbconvert_exporter": "python",
   "pygments_lexer": "ipython3",
   "version": "3.8.10"
  }
 },
 "nbformat": 4,
 "nbformat_minor": 5
}
