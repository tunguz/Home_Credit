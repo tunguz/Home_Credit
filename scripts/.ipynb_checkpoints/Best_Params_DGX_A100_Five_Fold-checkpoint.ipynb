{
 "cells": [
  {
   "cell_type": "code",
   "execution_count": 1,
   "id": "1148928d-d4bc-42e5-9efd-fef990887509",
   "metadata": {},
   "outputs": [
    {
     "data": {
      "text/plain": [
       "'1.6.0-dev'"
      ]
     },
     "execution_count": 1,
     "metadata": {},
     "output_type": "execute_result"
    }
   ],
   "source": [
    "import numpy as np\n",
    "import pandas as pd\n",
    "import gc\n",
    "import time\n",
    "\n",
    "from sklearn.metrics import roc_auc_score, roc_curve\n",
    "from sklearn.model_selection import KFold, StratifiedKFold\n",
    "from tqdm import tqdm\n",
    "\n",
    "import warnings\n",
    "from time import time\n",
    "import xgboost as xgb\n",
    "xgb.__version__"
   ]
  },
  {
   "cell_type": "code",
   "execution_count": 2,
   "id": "4b96abf9-2c6a-403b-9b6b-da4cea36622a",
   "metadata": {},
   "outputs": [
    {
     "name": "stdout",
     "output_type": "stream",
     "text": [
      "CPU times: user 44.9 s, sys: 4.34 s, total: 49.2 s\n",
      "Wall time: 51.5 s\n"
     ]
    }
   ],
   "source": [
    "%%time\n",
    "train = pd.read_csv('../input/train_1830.csv')"
   ]
  },
  {
   "cell_type": "code",
   "execution_count": 3,
   "id": "cb0d625f-a9bb-43bc-b607-2ebae74ef980",
   "metadata": {},
   "outputs": [],
   "source": [
    "application_train = pd.read_csv('../input/application_train.csv')\n",
    "target = application_train.TARGET.values"
   ]
  },
  {
   "cell_type": "code",
   "execution_count": 4,
   "id": "052c30d6-941e-4ca9-b2d9-c34edccb1bff",
   "metadata": {},
   "outputs": [],
   "source": [
    "good_features = train.columns[2:]"
   ]
  },
  {
   "cell_type": "code",
   "execution_count": 5,
   "id": "39b49ef9-b27d-442e-9f6d-dea2ede74dfd",
   "metadata": {},
   "outputs": [],
   "source": [
    "params = {'alpha': 0.10267123481648575,\n",
    "          'colsample_bytree': 0.5581906611108047,\n",
    "          'eval_metric': 'auc',\n",
    "          'lambda': 0.4246900552568794,\n",
    "          'learning_rate': 0.017056331528057946,\n",
    "          'max_depth': 15,\n",
    "          'min_child_weight': 96,\n",
    "          'objective': 'binary:logistic',\n",
    "          'subsample': 0.8453437746562742,\n",
    "          'tree_method': 'gpu_hist'}"
   ]
  },
  {
   "cell_type": "code",
   "execution_count": 6,
   "id": "6a055997-07fb-4feb-964e-8e6d510fa573",
   "metadata": {},
   "outputs": [],
   "source": [
    "train.replace([np.inf, -np.inf], np.nan, inplace=True)"
   ]
  },
  {
   "cell_type": "code",
   "execution_count": 7,
   "id": "745d9efa-13ca-4207-a877-7fddb5f3fd3d",
   "metadata": {},
   "outputs": [
    {
     "name": "stdout",
     "output_type": "stream",
     "text": [
      "1\n",
      "[0]\ttrain-auc:0.76983\teval-auc:0.72185\n",
      "[100]\ttrain-auc:0.83528\teval-auc:0.77748\n",
      "[200]\ttrain-auc:0.84342\teval-auc:0.78223\n",
      "[300]\ttrain-auc:0.85803\teval-auc:0.78776\n",
      "[400]\ttrain-auc:0.87236\teval-auc:0.79169\n",
      "[500]\ttrain-auc:0.88437\teval-auc:0.79419\n",
      "[600]\ttrain-auc:0.89476\teval-auc:0.79555\n",
      "[700]\ttrain-auc:0.90397\teval-auc:0.79638\n",
      "[800]\ttrain-auc:0.91224\teval-auc:0.79696\n",
      "[900]\ttrain-auc:0.91975\teval-auc:0.79723\n",
      "[999]\ttrain-auc:0.92659\teval-auc:0.79749\n"
     ]
    },
    {
     "name": "stderr",
     "output_type": "stream",
     "text": [
      "/home/btunguz/.local/lib/python3.8/site-packages/xgboost/core.py:78: UserWarning: ntree_limit is deprecated, use `iteration_range` or model slicing instead.\n",
      "  warnings.warn(\n"
     ]
    },
    {
     "name": "stdout",
     "output_type": "stream",
     "text": [
      "Time elapsed: 81.62638068199158\n",
      "Fold AUC: 0.7975286768958999\n",
      "CPU times: user 1min 57s, sys: 3.43 s, total: 2min\n",
      "Wall time: 1min 21s\n"
     ]
    }
   ],
   "source": [
    "%%time\n",
    "start_time = time()\n",
    "kf = StratifiedKFold(5, shuffle=True, random_state=1974)\n",
    "i=1\n",
    "for train_index, test_index in kf.split(train,target):\n",
    "    #if i < 4:\n",
    "        print(i)\n",
    "        xgtrain, xgval = train[good_features].values[train_index], train[good_features].values[test_index]\n",
    "        y_train, y_val = target[train_index], target[test_index]\n",
    "        xgtrain = xgb.DMatrix(xgtrain, label = y_train ) \n",
    "        xgval = xgb.DMatrix(xgval, label = y_val ) \n",
    "        watchlist = [(xgtrain, 'train'), (xgval, 'eval')]\n",
    "        clf = xgb.train(params, xgtrain, num_boost_round=1000, evals=watchlist, \n",
    "                verbose_eval=500, \n",
    "                early_stopping_rounds = 500)\n",
    "        \n",
    "        #preds = clf.predict(xgtest)\n",
    "        ypred = clf.predict(xgval, ntree_limit=clf.best_ntree_limit)\n",
    "        #y_oof[test_index] = ypred\n",
    "        #preds_total += preds\n",
    "        #np.save(\"preds_hist_\"+str(i), preds)\n",
    "        #p.save(\"oof_preds_hist_\"+str(i), ypred)\n",
    "        print('Time elapsed:', time()-start_time)\n",
    "        #clf.save_model('xgb_gpu_hist_1812_2_fold_'+str(i)+'.model')\n",
    "        del clf\n",
    "        gc.collect()\n",
    "        i +=1\n",
    "        print('Fold AUC:', roc_auc_score(y_val, ypred))\n",
    "        \n",
    "        break"
   ]
  },
  {
   "cell_type": "code",
   "execution_count": 9,
   "id": "897cf953-3cb0-4f44-9447-c9cdb230938b",
   "metadata": {},
   "outputs": [
    {
     "name": "stdout",
     "output_type": "stream",
     "text": [
      "1\n",
      "[0]\ttrain-auc:0.76984\teval-auc:0.72185\n",
      "[500]\ttrain-auc:0.82837\teval-auc:0.77385\n",
      "[1000]\ttrain-auc:0.83324\teval-auc:0.77536\n",
      "[1500]\ttrain-auc:0.83546\teval-auc:0.77684\n",
      "[2000]\ttrain-auc:0.83700\teval-auc:0.77827\n",
      "[2500]\ttrain-auc:0.83861\teval-auc:0.77957\n",
      "[3000]\ttrain-auc:0.84110\teval-auc:0.78109\n",
      "[3500]\ttrain-auc:0.84450\teval-auc:0.78280\n",
      "[4000]\ttrain-auc:0.84843\teval-auc:0.78447\n",
      "[4500]\ttrain-auc:0.85278\teval-auc:0.78615\n",
      "[5000]\ttrain-auc:0.85735\teval-auc:0.78779\n",
      "[5500]\ttrain-auc:0.86178\teval-auc:0.78926\n",
      "[6000]\ttrain-auc:0.86620\teval-auc:0.79063\n",
      "[6500]\ttrain-auc:0.87045\teval-auc:0.79179\n",
      "[7000]\ttrain-auc:0.87443\teval-auc:0.79271\n",
      "[7500]\ttrain-auc:0.87819\teval-auc:0.79347\n",
      "[8000]\ttrain-auc:0.88167\teval-auc:0.79415\n",
      "[8500]\ttrain-auc:0.88499\teval-auc:0.79473\n",
      "[9000]\ttrain-auc:0.88822\teval-auc:0.79521\n",
      "[9500]\ttrain-auc:0.89136\teval-auc:0.79565\n",
      "[10000]\ttrain-auc:0.89437\teval-auc:0.79603\n",
      "[10500]\ttrain-auc:0.89716\teval-auc:0.79635\n",
      "[11000]\ttrain-auc:0.89992\teval-auc:0.79665\n",
      "[11500]\ttrain-auc:0.90259\teval-auc:0.79691\n",
      "[12000]\ttrain-auc:0.90510\teval-auc:0.79715\n",
      "[12500]\ttrain-auc:0.90760\teval-auc:0.79735\n",
      "[13000]\ttrain-auc:0.91003\teval-auc:0.79754\n",
      "[13500]\ttrain-auc:0.91234\teval-auc:0.79769\n",
      "[14000]\ttrain-auc:0.91467\teval-auc:0.79784\n",
      "[14500]\ttrain-auc:0.91691\teval-auc:0.79796\n",
      "[15000]\ttrain-auc:0.91905\teval-auc:0.79812\n",
      "[15500]\ttrain-auc:0.92120\teval-auc:0.79821\n",
      "[16000]\ttrain-auc:0.92323\teval-auc:0.79826\n",
      "[16500]\ttrain-auc:0.92521\teval-auc:0.79833\n",
      "[17000]\ttrain-auc:0.92711\teval-auc:0.79840\n",
      "[17500]\ttrain-auc:0.92896\teval-auc:0.79845\n",
      "[18000]\ttrain-auc:0.93083\teval-auc:0.79848\n",
      "[18500]\ttrain-auc:0.93264\teval-auc:0.79852\n",
      "[19000]\ttrain-auc:0.93444\teval-auc:0.79854\n",
      "[19500]\ttrain-auc:0.93616\teval-auc:0.79858\n",
      "[20000]\ttrain-auc:0.93781\teval-auc:0.79860\n",
      "[20500]\ttrain-auc:0.93943\teval-auc:0.79863\n",
      "[21000]\ttrain-auc:0.94105\teval-auc:0.79866\n",
      "[21500]\ttrain-auc:0.94263\teval-auc:0.79868\n",
      "[22000]\ttrain-auc:0.94417\teval-auc:0.79869\n",
      "[22500]\ttrain-auc:0.94568\teval-auc:0.79870\n",
      "[22618]\ttrain-auc:0.94603\teval-auc:0.79870\n"
     ]
    },
    {
     "name": "stderr",
     "output_type": "stream",
     "text": [
      "/home/btunguz/.local/lib/python3.8/site-packages/xgboost/core.py:78: UserWarning: ntree_limit is deprecated, use `iteration_range` or model slicing instead.\n",
      "  warnings.warn(\n"
     ]
    },
    {
     "name": "stdout",
     "output_type": "stream",
     "text": [
      "Time elapsed: 1596.120820760727\n",
      "Fold AUC: 0.7987088134041834\n",
      "CPU times: user 27min 35s, sys: 3.53 s, total: 27min 38s\n",
      "Wall time: 26min 36s\n"
     ]
    }
   ],
   "source": [
    "%%time\n",
    "params['learning_rate'] = 0.001\n",
    "\n",
    "\n",
    "\n",
    "start_time = time()\n",
    "kf = StratifiedKFold(5, shuffle=True, random_state=1974)\n",
    "i=1\n",
    "for train_index, test_index in kf.split(train,target):\n",
    "    #if i < 4:\n",
    "        print(i)\n",
    "        xgtrain, xgval = train[good_features].values[train_index], train[good_features].values[test_index]\n",
    "        y_train, y_val = target[train_index], target[test_index]\n",
    "        xgtrain = xgb.DMatrix(xgtrain, label = y_train ) \n",
    "        xgval = xgb.DMatrix(xgval, label = y_val ) \n",
    "        watchlist = [(xgtrain, 'train'), (xgval, 'eval')]\n",
    "        clf = xgb.train(params, xgtrain, num_boost_round=200000, evals=watchlist, \n",
    "                verbose_eval=500, \n",
    "                early_stopping_rounds = 500)\n",
    "        \n",
    "        #preds = clf.predict(xgtest)\n",
    "        ypred = clf.predict(xgval, ntree_limit=clf.best_ntree_limit)\n",
    "        #y_oof[test_index] = ypred\n",
    "        #preds_total += preds\n",
    "        #np.save(\"preds_hist_\"+str(i), preds)\n",
    "        #p.save(\"oof_preds_hist_\"+str(i), ypred)\n",
    "        print('Time elapsed:', time()-start_time)\n",
    "        #clf.save_model('xgb_gpu_hist_1812_2_fold_'+str(i)+'.model')\n",
    "        del clf\n",
    "        gc.collect()\n",
    "        i +=1\n",
    "        print('Fold AUC:', roc_auc_score(y_val, ypred))\n",
    "        \n",
    "        break"
   ]
  },
  {
   "cell_type": "code",
   "execution_count": 10,
   "id": "378f0bfd-6191-4d9f-b30c-95c54a2e5060",
   "metadata": {},
   "outputs": [
    {
     "name": "stdout",
     "output_type": "stream",
     "text": [
      "1\n",
      "[0]\ttrain-auc:0.76982\teval-auc:0.72182\n",
      "[2000]\ttrain-auc:0.82289\teval-auc:0.77257\n",
      "[4000]\ttrain-auc:0.82680\teval-auc:0.77369\n",
      "[6000]\ttrain-auc:0.82964\teval-auc:0.77449\n",
      "[8000]\ttrain-auc:0.83166\teval-auc:0.77509\n",
      "[10000]\ttrain-auc:0.83310\teval-auc:0.77559\n",
      "[12000]\ttrain-auc:0.83422\teval-auc:0.77615\n",
      "[14000]\ttrain-auc:0.83504\teval-auc:0.77672\n",
      "[16000]\ttrain-auc:0.83573\teval-auc:0.77732\n",
      "[18000]\ttrain-auc:0.83631\teval-auc:0.77786\n",
      "[20000]\ttrain-auc:0.83687\teval-auc:0.77836\n",
      "[22000]\ttrain-auc:0.83747\teval-auc:0.77886\n",
      "[24000]\ttrain-auc:0.83816\teval-auc:0.77938\n",
      "[26000]\ttrain-auc:0.83896\teval-auc:0.77991\n",
      "[28000]\ttrain-auc:0.83993\teval-auc:0.78051\n",
      "[30000]\ttrain-auc:0.84103\teval-auc:0.78113\n",
      "[32000]\ttrain-auc:0.84228\teval-auc:0.78178\n",
      "[34000]\ttrain-auc:0.84364\teval-auc:0.78243\n",
      "[36000]\ttrain-auc:0.84513\teval-auc:0.78312\n",
      "[38000]\ttrain-auc:0.84673\teval-auc:0.78382\n",
      "[40000]\ttrain-auc:0.84840\teval-auc:0.78451\n",
      "[42000]\ttrain-auc:0.85012\teval-auc:0.78519\n",
      "[44000]\ttrain-auc:0.85188\teval-auc:0.78586\n",
      "[46000]\ttrain-auc:0.85366\teval-auc:0.78653\n",
      "[48000]\ttrain-auc:0.85546\teval-auc:0.78718\n",
      "[50000]\ttrain-auc:0.85726\teval-auc:0.78781\n",
      "[52000]\ttrain-auc:0.85906\teval-auc:0.78841\n",
      "[54000]\ttrain-auc:0.86084\teval-auc:0.78899\n",
      "[56000]\ttrain-auc:0.86263\teval-auc:0.78956\n",
      "[58000]\ttrain-auc:0.86442\teval-auc:0.79011\n",
      "[60000]\ttrain-auc:0.86620\teval-auc:0.79063\n",
      "[62000]\ttrain-auc:0.86792\teval-auc:0.79111\n",
      "[64000]\ttrain-auc:0.86959\teval-auc:0.79157\n",
      "[66000]\ttrain-auc:0.87122\teval-auc:0.79197\n",
      "[68000]\ttrain-auc:0.87281\teval-auc:0.79236\n",
      "[70000]\ttrain-auc:0.87437\teval-auc:0.79272\n",
      "[72000]\ttrain-auc:0.87587\teval-auc:0.79305\n",
      "[74000]\ttrain-auc:0.87736\teval-auc:0.79336\n",
      "[76000]\ttrain-auc:0.87880\teval-auc:0.79367\n",
      "[78000]\ttrain-auc:0.88023\teval-auc:0.79394\n",
      "[80000]\ttrain-auc:0.88161\teval-auc:0.79420\n",
      "[82000]\ttrain-auc:0.88297\teval-auc:0.79445\n",
      "[84000]\ttrain-auc:0.88431\teval-auc:0.79467\n",
      "[86000]\ttrain-auc:0.88562\teval-auc:0.79487\n",
      "[88000]\ttrain-auc:0.88692\teval-auc:0.79507\n",
      "[90000]\ttrain-auc:0.88819\teval-auc:0.79526\n",
      "[92000]\ttrain-auc:0.88945\teval-auc:0.79544\n",
      "[94000]\ttrain-auc:0.89066\teval-auc:0.79561\n",
      "[96000]\ttrain-auc:0.89187\teval-auc:0.79578\n",
      "[98000]\ttrain-auc:0.89305\teval-auc:0.79593\n",
      "[100000]\ttrain-auc:0.89421\teval-auc:0.79608\n",
      "[102000]\ttrain-auc:0.89536\teval-auc:0.79621\n",
      "[104000]\ttrain-auc:0.89649\teval-auc:0.79634\n",
      "[106000]\ttrain-auc:0.89761\teval-auc:0.79647\n",
      "[108000]\ttrain-auc:0.89872\teval-auc:0.79659\n",
      "[110000]\ttrain-auc:0.89981\teval-auc:0.79670\n",
      "[112000]\ttrain-auc:0.90089\teval-auc:0.79681\n",
      "[114000]\ttrain-auc:0.90196\teval-auc:0.79691\n",
      "[116000]\ttrain-auc:0.90300\teval-auc:0.79700\n",
      "[118000]\ttrain-auc:0.90404\teval-auc:0.79709\n",
      "[120000]\ttrain-auc:0.90506\teval-auc:0.79718\n",
      "[122000]\ttrain-auc:0.90606\teval-auc:0.79726\n",
      "[124000]\ttrain-auc:0.90707\teval-auc:0.79734\n",
      "[126000]\ttrain-auc:0.90806\teval-auc:0.79741\n",
      "[128000]\ttrain-auc:0.90903\teval-auc:0.79749\n",
      "[130000]\ttrain-auc:0.90998\teval-auc:0.79756\n",
      "[132000]\ttrain-auc:0.91092\teval-auc:0.79763\n",
      "[134000]\ttrain-auc:0.91187\teval-auc:0.79769\n",
      "[136000]\ttrain-auc:0.91280\teval-auc:0.79775\n",
      "[138000]\ttrain-auc:0.91371\teval-auc:0.79781\n",
      "[140000]\ttrain-auc:0.91462\teval-auc:0.79786\n",
      "[142000]\ttrain-auc:0.91552\teval-auc:0.79791\n",
      "[144000]\ttrain-auc:0.91641\teval-auc:0.79797\n",
      "[146000]\ttrain-auc:0.91728\teval-auc:0.79802\n",
      "[148000]\ttrain-auc:0.91815\teval-auc:0.79806\n",
      "[150000]\ttrain-auc:0.91900\teval-auc:0.79810\n",
      "[152000]\ttrain-auc:0.91985\teval-auc:0.79814\n",
      "[154000]\ttrain-auc:0.92068\teval-auc:0.79818\n",
      "[156000]\ttrain-auc:0.92150\teval-auc:0.79822\n",
      "[158000]\ttrain-auc:0.92233\teval-auc:0.79826\n",
      "[160000]\ttrain-auc:0.92312\teval-auc:0.79828\n",
      "[162000]\ttrain-auc:0.92393\teval-auc:0.79832\n",
      "[164000]\ttrain-auc:0.92473\teval-auc:0.79835\n",
      "[166000]\ttrain-auc:0.92551\teval-auc:0.79838\n",
      "[168000]\ttrain-auc:0.92629\teval-auc:0.79840\n",
      "[170000]\ttrain-auc:0.92706\teval-auc:0.79843\n",
      "[172000]\ttrain-auc:0.92782\teval-auc:0.79846\n",
      "[174000]\ttrain-auc:0.92858\teval-auc:0.79848\n",
      "[176000]\ttrain-auc:0.92932\teval-auc:0.79849\n",
      "[178000]\ttrain-auc:0.93007\teval-auc:0.79851\n",
      "[180000]\ttrain-auc:0.93081\teval-auc:0.79853\n",
      "[182000]\ttrain-auc:0.93154\teval-auc:0.79855\n",
      "[184000]\ttrain-auc:0.93227\teval-auc:0.79857\n",
      "[186000]\ttrain-auc:0.93299\teval-auc:0.79859\n",
      "[188000]\ttrain-auc:0.93369\teval-auc:0.79860\n",
      "[190000]\ttrain-auc:0.93439\teval-auc:0.79862\n",
      "[192000]\ttrain-auc:0.93508\teval-auc:0.79863\n",
      "[194000]\ttrain-auc:0.93577\teval-auc:0.79864\n",
      "[196000]\ttrain-auc:0.93644\teval-auc:0.79866\n",
      "[198000]\ttrain-auc:0.93712\teval-auc:0.79868\n",
      "[200000]\ttrain-auc:0.93779\teval-auc:0.79869\n",
      "[202000]\ttrain-auc:0.93845\teval-auc:0.79869\n",
      "[204000]\ttrain-auc:0.93911\teval-auc:0.79870\n",
      "[206000]\ttrain-auc:0.93975\teval-auc:0.79871\n",
      "[208000]\ttrain-auc:0.94038\teval-auc:0.79872\n",
      "[210000]\ttrain-auc:0.94102\teval-auc:0.79873\n",
      "[212000]\ttrain-auc:0.94165\teval-auc:0.79873\n",
      "[214000]\ttrain-auc:0.94228\teval-auc:0.79874\n",
      "[216000]\ttrain-auc:0.94290\teval-auc:0.79875\n",
      "[218000]\ttrain-auc:0.94351\teval-auc:0.79875\n",
      "[220000]\ttrain-auc:0.94412\teval-auc:0.79876\n",
      "[222000]\ttrain-auc:0.94473\teval-auc:0.79876\n",
      "[223967]\ttrain-auc:0.94532\teval-auc:0.79876\n"
     ]
    },
    {
     "name": "stderr",
     "output_type": "stream",
     "text": [
      "/home/btunguz/.local/lib/python3.8/site-packages/xgboost/core.py:78: UserWarning: ntree_limit is deprecated, use `iteration_range` or model slicing instead.\n",
      "  warnings.warn(\n"
     ]
    },
    {
     "name": "stdout",
     "output_type": "stream",
     "text": [
      "Time elapsed: 15799.227672815323\n",
      "Fold AUC: 0.7987649921447728\n",
      "CPU times: user 4h 23min 47s, sys: 17.7 s, total: 4h 24min 4s\n",
      "Wall time: 4h 23min 19s\n"
     ]
    }
   ],
   "source": [
    "%%time\n",
    "params['learning_rate'] = 0.0001\n",
    "\n",
    "\n",
    "\n",
    "start_time = time()\n",
    "kf = StratifiedKFold(5, shuffle=True, random_state=1974)\n",
    "i=1\n",
    "for train_index, test_index in kf.split(train,target):\n",
    "    #if i < 4:\n",
    "        print(i)\n",
    "        xgtrain, xgval = train[good_features].values[train_index], train[good_features].values[test_index]\n",
    "        y_train, y_val = target[train_index], target[test_index]\n",
    "        xgtrain = xgb.DMatrix(xgtrain, label = y_train ) \n",
    "        xgval = xgb.DMatrix(xgval, label = y_val ) \n",
    "        watchlist = [(xgtrain, 'train'), (xgval, 'eval')]\n",
    "        clf = xgb.train(params, xgtrain, num_boost_round=2000000, evals=watchlist, \n",
    "                verbose_eval=2000, \n",
    "                early_stopping_rounds = 2000)\n",
    "        \n",
    "        #preds = clf.predict(xgtest)\n",
    "        ypred = clf.predict(xgval, ntree_limit=clf.best_ntree_limit)\n",
    "        #y_oof[test_index] = ypred\n",
    "        #preds_total += preds\n",
    "        #np.save(\"preds_hist_\"+str(i), preds)\n",
    "        #p.save(\"oof_preds_hist_\"+str(i), ypred)\n",
    "        print('Time elapsed:', time()-start_time)\n",
    "        #clf.save_model('xgb_gpu_hist_1812_2_fold_'+str(i)+'.model')\n",
    "        del clf\n",
    "        gc.collect()\n",
    "        i +=1\n",
    "        print('Fold AUC:', roc_auc_score(y_val, ypred))\n",
    "        \n",
    "        break"
   ]
  },
  {
   "cell_type": "code",
   "execution_count": 11,
   "id": "176acfe9-ae38-4937-91bb-70f625bdcb1a",
   "metadata": {},
   "outputs": [
    {
     "name": "stdout",
     "output_type": "stream",
     "text": [
      "CPU times: user 7.34 s, sys: 196 ms, total: 7.54 s\n",
      "Wall time: 7.87 s\n"
     ]
    }
   ],
   "source": [
    "%%time\n",
    "test = pd.read_csv('../input/test_1830.csv')"
   ]
  },
  {
   "cell_type": "code",
   "execution_count": 13,
   "id": "10898838-77ac-47ac-8728-d94b3e8b420a",
   "metadata": {},
   "outputs": [],
   "source": [
    "test.replace([np.inf, -np.inf], np.nan, inplace=True)"
   ]
  },
  {
   "cell_type": "code",
   "execution_count": 14,
   "id": "fa90657f-9e14-44ac-87dd-9eec850404be",
   "metadata": {},
   "outputs": [],
   "source": [
    "xgtest = xgb.DMatrix(test[good_features].values)"
   ]
  },
  {
   "cell_type": "code",
   "execution_count": 15,
   "id": "6fa84388-a901-41b3-b0b2-a66fa67a2281",
   "metadata": {},
   "outputs": [],
   "source": [
    "y_oof = np.zeros((train.shape[0],))\n",
    "preds_total = 0"
   ]
  },
  {
   "cell_type": "code",
   "execution_count": 16,
   "id": "460e4b6f-3b48-4fc0-8229-64d9a7d79973",
   "metadata": {},
   "outputs": [
    {
     "name": "stdout",
     "output_type": "stream",
     "text": [
      "1\n",
      "[0]\ttrain-auc:0.76984\teval-auc:0.72185\n",
      "[500]\ttrain-auc:0.82837\teval-auc:0.77385\n",
      "[1000]\ttrain-auc:0.83324\teval-auc:0.77536\n",
      "[1500]\ttrain-auc:0.83546\teval-auc:0.77684\n",
      "[2000]\ttrain-auc:0.83700\teval-auc:0.77827\n",
      "[2500]\ttrain-auc:0.83861\teval-auc:0.77957\n",
      "[3000]\ttrain-auc:0.84110\teval-auc:0.78109\n",
      "[3500]\ttrain-auc:0.84450\teval-auc:0.78280\n",
      "[4000]\ttrain-auc:0.84843\teval-auc:0.78447\n",
      "[4500]\ttrain-auc:0.85278\teval-auc:0.78615\n",
      "[5000]\ttrain-auc:0.85735\teval-auc:0.78779\n",
      "[5500]\ttrain-auc:0.86178\teval-auc:0.78926\n",
      "[6000]\ttrain-auc:0.86620\teval-auc:0.79063\n",
      "[6500]\ttrain-auc:0.87045\teval-auc:0.79179\n",
      "[7000]\ttrain-auc:0.87443\teval-auc:0.79271\n",
      "[7500]\ttrain-auc:0.87819\teval-auc:0.79347\n",
      "[8000]\ttrain-auc:0.88167\teval-auc:0.79415\n",
      "[8500]\ttrain-auc:0.88499\teval-auc:0.79473\n",
      "[9000]\ttrain-auc:0.88822\teval-auc:0.79521\n",
      "[9500]\ttrain-auc:0.89136\teval-auc:0.79565\n",
      "[10000]\ttrain-auc:0.89437\teval-auc:0.79603\n",
      "[10500]\ttrain-auc:0.89716\teval-auc:0.79635\n",
      "[11000]\ttrain-auc:0.89992\teval-auc:0.79665\n",
      "[11500]\ttrain-auc:0.90259\teval-auc:0.79691\n",
      "[12000]\ttrain-auc:0.90510\teval-auc:0.79715\n",
      "[12500]\ttrain-auc:0.90760\teval-auc:0.79735\n",
      "[13000]\ttrain-auc:0.91003\teval-auc:0.79754\n",
      "[13500]\ttrain-auc:0.91234\teval-auc:0.79769\n",
      "[14000]\ttrain-auc:0.91467\teval-auc:0.79784\n",
      "[14500]\ttrain-auc:0.91691\teval-auc:0.79796\n",
      "[15000]\ttrain-auc:0.91905\teval-auc:0.79812\n",
      "[15500]\ttrain-auc:0.92120\teval-auc:0.79821\n",
      "[16000]\ttrain-auc:0.92323\teval-auc:0.79826\n",
      "[16500]\ttrain-auc:0.92521\teval-auc:0.79833\n",
      "[17000]\ttrain-auc:0.92711\teval-auc:0.79840\n",
      "[17500]\ttrain-auc:0.92896\teval-auc:0.79845\n",
      "[18000]\ttrain-auc:0.93083\teval-auc:0.79848\n",
      "[18500]\ttrain-auc:0.93264\teval-auc:0.79852\n",
      "[19000]\ttrain-auc:0.93444\teval-auc:0.79854\n",
      "[19500]\ttrain-auc:0.93616\teval-auc:0.79858\n",
      "[20000]\ttrain-auc:0.93781\teval-auc:0.79860\n",
      "[20500]\ttrain-auc:0.93943\teval-auc:0.79863\n",
      "[21000]\ttrain-auc:0.94105\teval-auc:0.79866\n",
      "[21500]\ttrain-auc:0.94263\teval-auc:0.79868\n",
      "[22000]\ttrain-auc:0.94417\teval-auc:0.79869\n",
      "[22500]\ttrain-auc:0.94568\teval-auc:0.79870\n",
      "[22618]\ttrain-auc:0.94603\teval-auc:0.79870\n"
     ]
    },
    {
     "name": "stderr",
     "output_type": "stream",
     "text": [
      "/home/btunguz/.local/lib/python3.8/site-packages/xgboost/core.py:78: UserWarning: ntree_limit is deprecated, use `iteration_range` or model slicing instead.\n",
      "  warnings.warn(\n"
     ]
    },
    {
     "name": "stdout",
     "output_type": "stream",
     "text": [
      "Time elapsed: 1611.9575431346893\n",
      "Fold AUC: 0.7987088134041834\n",
      "2\n",
      "[0]\ttrain-auc:0.76935\teval-auc:0.71703\n",
      "[500]\ttrain-auc:0.82899\teval-auc:0.77012\n",
      "[1000]\ttrain-auc:0.83366\teval-auc:0.77169\n",
      "[1500]\ttrain-auc:0.83567\teval-auc:0.77267\n",
      "[2000]\ttrain-auc:0.83729\teval-auc:0.77382\n",
      "[2500]\ttrain-auc:0.83908\teval-auc:0.77518\n",
      "[3000]\ttrain-auc:0.84167\teval-auc:0.77676\n",
      "[3500]\ttrain-auc:0.84503\teval-auc:0.77842\n",
      "[4000]\ttrain-auc:0.84894\teval-auc:0.78015\n",
      "[4500]\ttrain-auc:0.85336\teval-auc:0.78202\n",
      "[5000]\ttrain-auc:0.85790\teval-auc:0.78370\n",
      "[5500]\ttrain-auc:0.86232\teval-auc:0.78523\n",
      "[6000]\ttrain-auc:0.86668\teval-auc:0.78658\n",
      "[6500]\ttrain-auc:0.87078\teval-auc:0.78774\n",
      "[7000]\ttrain-auc:0.87458\teval-auc:0.78870\n",
      "[7500]\ttrain-auc:0.87815\teval-auc:0.78953\n",
      "[8000]\ttrain-auc:0.88156\teval-auc:0.79024\n",
      "[8500]\ttrain-auc:0.88476\teval-auc:0.79087\n",
      "[9000]\ttrain-auc:0.88787\teval-auc:0.79142\n",
      "[9500]\ttrain-auc:0.89082\teval-auc:0.79193\n",
      "[10000]\ttrain-auc:0.89370\teval-auc:0.79238\n",
      "[10500]\ttrain-auc:0.89652\teval-auc:0.79275\n",
      "[11000]\ttrain-auc:0.89922\teval-auc:0.79312\n",
      "[11500]\ttrain-auc:0.90176\teval-auc:0.79340\n",
      "[12000]\ttrain-auc:0.90422\teval-auc:0.79368\n",
      "[12500]\ttrain-auc:0.90668\teval-auc:0.79396\n",
      "[13000]\ttrain-auc:0.90899\teval-auc:0.79417\n",
      "[13500]\ttrain-auc:0.91133\teval-auc:0.79439\n",
      "[14000]\ttrain-auc:0.91358\teval-auc:0.79460\n",
      "[14500]\ttrain-auc:0.91576\teval-auc:0.79475\n",
      "[15000]\ttrain-auc:0.91795\teval-auc:0.79487\n",
      "[15500]\ttrain-auc:0.92006\teval-auc:0.79502\n",
      "[16000]\ttrain-auc:0.92209\teval-auc:0.79513\n",
      "[16500]\ttrain-auc:0.92407\teval-auc:0.79521\n",
      "[17000]\ttrain-auc:0.92598\teval-auc:0.79531\n",
      "[17500]\ttrain-auc:0.92790\teval-auc:0.79541\n",
      "[18000]\ttrain-auc:0.92976\teval-auc:0.79546\n",
      "[18500]\ttrain-auc:0.93155\teval-auc:0.79554\n",
      "[19000]\ttrain-auc:0.93330\teval-auc:0.79560\n",
      "[19500]\ttrain-auc:0.93507\teval-auc:0.79562\n",
      "[20000]\ttrain-auc:0.93676\teval-auc:0.79567\n",
      "[20500]\ttrain-auc:0.93844\teval-auc:0.79572\n",
      "[21000]\ttrain-auc:0.94006\teval-auc:0.79573\n",
      "[21500]\ttrain-auc:0.94167\teval-auc:0.79574\n",
      "[22000]\ttrain-auc:0.94319\teval-auc:0.79577\n",
      "[22500]\ttrain-auc:0.94468\teval-auc:0.79578\n",
      "[23000]\ttrain-auc:0.94614\teval-auc:0.79580\n",
      "[23491]\ttrain-auc:0.94759\teval-auc:0.79579\n"
     ]
    },
    {
     "name": "stderr",
     "output_type": "stream",
     "text": [
      "/home/btunguz/.local/lib/python3.8/site-packages/xgboost/core.py:78: UserWarning: ntree_limit is deprecated, use `iteration_range` or model slicing instead.\n",
      "  warnings.warn(\n"
     ]
    },
    {
     "name": "stdout",
     "output_type": "stream",
     "text": [
      "Time elapsed: 3275.0594804286957\n",
      "Fold AUC: 0.7958022481191679\n",
      "3\n",
      "[0]\ttrain-auc:0.76814\teval-auc:0.72861\n",
      "[500]\ttrain-auc:0.82686\teval-auc:0.78559\n",
      "[1000]\ttrain-auc:0.83168\teval-auc:0.78707\n",
      "[1500]\ttrain-auc:0.83379\teval-auc:0.78812\n",
      "[2000]\ttrain-auc:0.83533\teval-auc:0.78903\n",
      "[2500]\ttrain-auc:0.83705\teval-auc:0.79008\n",
      "[3000]\ttrain-auc:0.83959\teval-auc:0.79159\n",
      "[3500]\ttrain-auc:0.84299\teval-auc:0.79328\n",
      "[4000]\ttrain-auc:0.84705\teval-auc:0.79507\n",
      "[4500]\ttrain-auc:0.85148\teval-auc:0.79676\n",
      "[5000]\ttrain-auc:0.85619\teval-auc:0.79830\n",
      "[5500]\ttrain-auc:0.86071\teval-auc:0.79961\n",
      "[6000]\ttrain-auc:0.86516\teval-auc:0.80084\n",
      "[6500]\ttrain-auc:0.86943\teval-auc:0.80185\n",
      "[7000]\ttrain-auc:0.87334\teval-auc:0.80269\n",
      "[7500]\ttrain-auc:0.87709\teval-auc:0.80337\n",
      "[8000]\ttrain-auc:0.88059\teval-auc:0.80397\n",
      "[8500]\ttrain-auc:0.88385\teval-auc:0.80449\n",
      "[9000]\ttrain-auc:0.88702\teval-auc:0.80489\n",
      "[9500]\ttrain-auc:0.89011\teval-auc:0.80529\n",
      "[10000]\ttrain-auc:0.89306\teval-auc:0.80561\n",
      "[10500]\ttrain-auc:0.89588\teval-auc:0.80590\n",
      "[11000]\ttrain-auc:0.89861\teval-auc:0.80613\n",
      "[11500]\ttrain-auc:0.90135\teval-auc:0.80635\n",
      "[12000]\ttrain-auc:0.90399\teval-auc:0.80657\n",
      "[12500]\ttrain-auc:0.90648\teval-auc:0.80672\n",
      "[13000]\ttrain-auc:0.90894\teval-auc:0.80688\n",
      "[13500]\ttrain-auc:0.91130\teval-auc:0.80704\n",
      "[14000]\ttrain-auc:0.91359\teval-auc:0.80715\n",
      "[14500]\ttrain-auc:0.91586\teval-auc:0.80728\n",
      "[15000]\ttrain-auc:0.91803\teval-auc:0.80738\n",
      "[15500]\ttrain-auc:0.92014\teval-auc:0.80748\n",
      "[16000]\ttrain-auc:0.92223\teval-auc:0.80754\n",
      "[16500]\ttrain-auc:0.92424\teval-auc:0.80764\n",
      "[17000]\ttrain-auc:0.92623\teval-auc:0.80772\n",
      "[17500]\ttrain-auc:0.92813\teval-auc:0.80775\n",
      "[18000]\ttrain-auc:0.92997\teval-auc:0.80778\n",
      "[18500]\ttrain-auc:0.93181\teval-auc:0.80782\n",
      "[19000]\ttrain-auc:0.93353\teval-auc:0.80783\n",
      "[19500]\ttrain-auc:0.93527\teval-auc:0.80785\n",
      "[20000]\ttrain-auc:0.93698\teval-auc:0.80786\n",
      "[20390]\ttrain-auc:0.93824\teval-auc:0.80785\n"
     ]
    },
    {
     "name": "stderr",
     "output_type": "stream",
     "text": [
      "/home/btunguz/.local/lib/python3.8/site-packages/xgboost/core.py:78: UserWarning: ntree_limit is deprecated, use `iteration_range` or model slicing instead.\n",
      "  warnings.warn(\n"
     ]
    },
    {
     "name": "stdout",
     "output_type": "stream",
     "text": [
      "Time elapsed: 4762.534660577774\n",
      "Fold AUC: 0.8078738426890136\n",
      "4\n",
      "[0]\ttrain-auc:0.76849\teval-auc:0.72621\n",
      "[500]\ttrain-auc:0.82783\teval-auc:0.77884\n",
      "[1000]\ttrain-auc:0.83260\teval-auc:0.78020\n",
      "[1500]\ttrain-auc:0.83462\teval-auc:0.78134\n",
      "[2000]\ttrain-auc:0.83613\teval-auc:0.78248\n",
      "[2500]\ttrain-auc:0.83785\teval-auc:0.78372\n",
      "[3000]\ttrain-auc:0.84050\teval-auc:0.78527\n",
      "[3500]\ttrain-auc:0.84395\teval-auc:0.78687\n",
      "[4000]\ttrain-auc:0.84792\teval-auc:0.78855\n",
      "[4500]\ttrain-auc:0.85230\teval-auc:0.79034\n",
      "[5000]\ttrain-auc:0.85692\teval-auc:0.79203\n",
      "[5500]\ttrain-auc:0.86136\teval-auc:0.79357\n",
      "[6000]\ttrain-auc:0.86582\teval-auc:0.79498\n",
      "[6500]\ttrain-auc:0.87009\teval-auc:0.79617\n",
      "[7000]\ttrain-auc:0.87407\teval-auc:0.79713\n",
      "[7500]\ttrain-auc:0.87780\teval-auc:0.79795\n",
      "[8000]\ttrain-auc:0.88135\teval-auc:0.79867\n",
      "[8500]\ttrain-auc:0.88475\teval-auc:0.79927\n",
      "[9000]\ttrain-auc:0.88802\teval-auc:0.79980\n",
      "[9500]\ttrain-auc:0.89113\teval-auc:0.80026\n",
      "[10000]\ttrain-auc:0.89409\teval-auc:0.80067\n",
      "[10500]\ttrain-auc:0.89697\teval-auc:0.80102\n",
      "[11000]\ttrain-auc:0.89973\teval-auc:0.80135\n",
      "[11500]\ttrain-auc:0.90241\teval-auc:0.80163\n",
      "[12000]\ttrain-auc:0.90496\teval-auc:0.80189\n",
      "[12500]\ttrain-auc:0.90741\teval-auc:0.80215\n",
      "[13000]\ttrain-auc:0.90986\teval-auc:0.80236\n",
      "[13500]\ttrain-auc:0.91220\teval-auc:0.80255\n",
      "[14000]\ttrain-auc:0.91443\teval-auc:0.80274\n",
      "[14500]\ttrain-auc:0.91661\teval-auc:0.80287\n",
      "[15000]\ttrain-auc:0.91876\teval-auc:0.80302\n",
      "[15500]\ttrain-auc:0.92087\teval-auc:0.80316\n",
      "[16000]\ttrain-auc:0.92286\teval-auc:0.80329\n",
      "[16500]\ttrain-auc:0.92485\teval-auc:0.80340\n",
      "[17000]\ttrain-auc:0.92676\teval-auc:0.80353\n",
      "[17500]\ttrain-auc:0.92864\teval-auc:0.80359\n",
      "[18000]\ttrain-auc:0.93047\teval-auc:0.80368\n",
      "[18500]\ttrain-auc:0.93218\teval-auc:0.80375\n",
      "[19000]\ttrain-auc:0.93398\teval-auc:0.80383\n",
      "[19500]\ttrain-auc:0.93563\teval-auc:0.80388\n",
      "[20000]\ttrain-auc:0.93733\teval-auc:0.80392\n",
      "[20500]\ttrain-auc:0.93896\teval-auc:0.80397\n",
      "[21000]\ttrain-auc:0.94054\teval-auc:0.80399\n",
      "[21500]\ttrain-auc:0.94207\teval-auc:0.80403\n",
      "[22000]\ttrain-auc:0.94359\teval-auc:0.80405\n",
      "[22500]\ttrain-auc:0.94510\teval-auc:0.80410\n",
      "[23000]\ttrain-auc:0.94655\teval-auc:0.80413\n",
      "[23500]\ttrain-auc:0.94798\teval-auc:0.80414\n",
      "[24000]\ttrain-auc:0.94936\teval-auc:0.80417\n",
      "[24500]\ttrain-auc:0.95074\teval-auc:0.80420\n",
      "[25000]\ttrain-auc:0.95206\teval-auc:0.80421\n",
      "[25500]\ttrain-auc:0.95334\teval-auc:0.80421\n",
      "[26000]\ttrain-auc:0.95465\teval-auc:0.80420\n",
      "[26061]\ttrain-auc:0.95481\teval-auc:0.80420\n"
     ]
    },
    {
     "name": "stderr",
     "output_type": "stream",
     "text": [
      "/home/btunguz/.local/lib/python3.8/site-packages/xgboost/core.py:78: UserWarning: ntree_limit is deprecated, use `iteration_range` or model slicing instead.\n",
      "  warnings.warn(\n"
     ]
    },
    {
     "name": "stdout",
     "output_type": "stream",
     "text": [
      "Time elapsed: 6495.508581876755\n",
      "Fold AUC: 0.8042138576879696\n",
      "5\n",
      "[0]\ttrain-auc:0.76738\teval-auc:0.73241\n",
      "[500]\ttrain-auc:0.82751\teval-auc:0.78197\n",
      "[1000]\ttrain-auc:0.83218\teval-auc:0.78362\n",
      "[1500]\ttrain-auc:0.83419\teval-auc:0.78481\n",
      "[2000]\ttrain-auc:0.83587\teval-auc:0.78604\n",
      "[2500]\ttrain-auc:0.83763\teval-auc:0.78735\n",
      "[3000]\ttrain-auc:0.84033\teval-auc:0.78882\n",
      "[3500]\ttrain-auc:0.84379\teval-auc:0.79041\n",
      "[4000]\ttrain-auc:0.84780\teval-auc:0.79192\n",
      "[4500]\ttrain-auc:0.85218\teval-auc:0.79352\n",
      "[5000]\ttrain-auc:0.85682\teval-auc:0.79503\n",
      "[5500]\ttrain-auc:0.86127\teval-auc:0.79626\n",
      "[6000]\ttrain-auc:0.86572\teval-auc:0.79742\n",
      "[6500]\ttrain-auc:0.86994\teval-auc:0.79840\n",
      "[7000]\ttrain-auc:0.87395\teval-auc:0.79921\n",
      "[7500]\ttrain-auc:0.87769\teval-auc:0.79990\n",
      "[8000]\ttrain-auc:0.88132\teval-auc:0.80050\n",
      "[8500]\ttrain-auc:0.88468\teval-auc:0.80096\n",
      "[9000]\ttrain-auc:0.88795\teval-auc:0.80136\n",
      "[9500]\ttrain-auc:0.89100\teval-auc:0.80169\n",
      "[10000]\ttrain-auc:0.89397\teval-auc:0.80198\n",
      "[10500]\ttrain-auc:0.89685\teval-auc:0.80223\n",
      "[11000]\ttrain-auc:0.89964\teval-auc:0.80246\n",
      "[11500]\ttrain-auc:0.90239\teval-auc:0.80267\n",
      "[12000]\ttrain-auc:0.90503\teval-auc:0.80282\n",
      "[12500]\ttrain-auc:0.90759\teval-auc:0.80297\n",
      "[13000]\ttrain-auc:0.90998\teval-auc:0.80308\n",
      "[13500]\ttrain-auc:0.91234\teval-auc:0.80318\n",
      "[14000]\ttrain-auc:0.91463\teval-auc:0.80328\n",
      "[14500]\ttrain-auc:0.91686\teval-auc:0.80335\n",
      "[15000]\ttrain-auc:0.91898\teval-auc:0.80340\n",
      "[15500]\ttrain-auc:0.92109\teval-auc:0.80347\n",
      "[16000]\ttrain-auc:0.92316\teval-auc:0.80349\n",
      "[16500]\ttrain-auc:0.92521\teval-auc:0.80352\n",
      "[17000]\ttrain-auc:0.92718\teval-auc:0.80359\n",
      "[17500]\ttrain-auc:0.92906\teval-auc:0.80361\n",
      "[18000]\ttrain-auc:0.93095\teval-auc:0.80362\n",
      "[18500]\ttrain-auc:0.93276\teval-auc:0.80364\n",
      "[19000]\ttrain-auc:0.93454\teval-auc:0.80363\n",
      "[19107]\ttrain-auc:0.93491\teval-auc:0.80363\n"
     ]
    },
    {
     "name": "stderr",
     "output_type": "stream",
     "text": [
      "/home/btunguz/.local/lib/python3.8/site-packages/xgboost/core.py:78: UserWarning: ntree_limit is deprecated, use `iteration_range` or model slicing instead.\n",
      "  warnings.warn(\n"
     ]
    },
    {
     "name": "stdout",
     "output_type": "stream",
     "text": [
      "Time elapsed: 7938.7318913936615\n",
      "Fold AUC: 0.8036529473938775\n",
      "CPU times: user 2h 31min 54s, sys: 14.4 s, total: 2h 32min 9s\n",
      "Wall time: 2h 12min 18s\n"
     ]
    }
   ],
   "source": [
    "%%time\n",
    "params['learning_rate'] = 0.001\n",
    "\n",
    "start_time = time()\n",
    "kf = StratifiedKFold(5, shuffle=True, random_state=1974)\n",
    "i=1\n",
    "for train_index, test_index in kf.split(train,target):\n",
    "    #if i < 4:\n",
    "        print(i)\n",
    "        xgtrain, xgval = train[good_features].values[train_index], train[good_features].values[test_index]\n",
    "        y_train, y_val = target[train_index], target[test_index]\n",
    "        xgtrain = xgb.DMatrix(xgtrain, label = y_train ) \n",
    "        xgval = xgb.DMatrix(xgval, label = y_val ) \n",
    "        watchlist = [(xgtrain, 'train'), (xgval, 'eval')]\n",
    "        clf = xgb.train(params, xgtrain, num_boost_round=200000, evals=watchlist, \n",
    "                verbose_eval=500, \n",
    "                early_stopping_rounds = 500)\n",
    "        \n",
    "        preds = clf.predict(xgtest)\n",
    "        ypred = clf.predict(xgval, ntree_limit=clf.best_ntree_limit)\n",
    "        y_oof[test_index] = ypred\n",
    "        preds_total += preds/5\n",
    "        #np.save(\"preds_hist_\"+str(i), preds)\n",
    "        #p.save(\"oof_preds_hist_\"+str(i), ypred)\n",
    "        print('Time elapsed:', time()-start_time)\n",
    "        #clf.save_model('xgb_gpu_hist_1812_2_fold_'+str(i)+'.model')\n",
    "        del clf\n",
    "        gc.collect()\n",
    "        i +=1\n",
    "        print('Fold AUC:', roc_auc_score(y_val, ypred))\n",
    "        "
   ]
  },
  {
   "cell_type": "code",
   "execution_count": 17,
   "id": "674f535e-65d3-45ce-8393-8ac883ed5ee1",
   "metadata": {},
   "outputs": [
    {
     "data": {
      "text/plain": [
       "0.8019563918699371"
      ]
     },
     "execution_count": 17,
     "metadata": {},
     "output_type": "execute_result"
    }
   ],
   "source": [
    "roc_auc_score(target, y_oof)"
   ]
  },
  {
   "cell_type": "code",
   "execution_count": null,
   "id": "308e18e7-b5b2-40ab-a090-2b48406364a4",
   "metadata": {},
   "outputs": [],
   "source": []
  }
 ],
 "metadata": {
  "kernelspec": {
   "display_name": "Python 3 (ipykernel)",
   "language": "python",
   "name": "python3"
  },
  "language_info": {
   "codemirror_mode": {
    "name": "ipython",
    "version": 3
   },
   "file_extension": ".py",
   "mimetype": "text/x-python",
   "name": "python",
   "nbconvert_exporter": "python",
   "pygments_lexer": "ipython3",
   "version": "3.8.10"
  }
 },
 "nbformat": 4,
 "nbformat_minor": 5
}
