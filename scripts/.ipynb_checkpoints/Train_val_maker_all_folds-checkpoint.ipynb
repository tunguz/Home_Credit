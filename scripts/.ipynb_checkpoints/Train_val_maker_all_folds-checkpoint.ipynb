{
 "cells": [
  {
   "cell_type": "code",
   "execution_count": 1,
   "id": "f64588e6-ce35-4244-b8a6-37889236f69d",
   "metadata": {},
   "outputs": [
    {
     "data": {
      "text/plain": [
       "'1.5.0'"
      ]
     },
     "execution_count": 1,
     "metadata": {},
     "output_type": "execute_result"
    }
   ],
   "source": [
    "import numpy as np\n",
    "import pandas as pd\n",
    "import gc\n",
    "import time\n",
    "\n",
    "from sklearn.metrics import roc_auc_score, roc_curve\n",
    "from sklearn.model_selection import KFold, StratifiedKFold\n",
    "from tqdm import tqdm\n",
    "\n",
    "import warnings\n",
    "from time import time\n",
    "import xgboost as xgb\n",
    "xgb.__version__"
   ]
  },
  {
   "cell_type": "code",
   "execution_count": 2,
   "id": "eba1b792-fe0b-45dd-b178-bddadcd86835",
   "metadata": {},
   "outputs": [
    {
     "name": "stdout",
     "output_type": "stream",
     "text": [
      "CPU times: user 43.8 s, sys: 3.95 s, total: 47.7 s\n",
      "Wall time: 47.8 s\n"
     ]
    }
   ],
   "source": [
    "%%time\n",
    "train = pd.read_csv('../input/train_1830.csv')"
   ]
  },
  {
   "cell_type": "code",
   "execution_count": 4,
   "id": "a4e2bd3b-12a9-4c20-b0e3-d91adfa07e0d",
   "metadata": {},
   "outputs": [],
   "source": [
    "application_train = pd.read_csv('../input/application_train.csv')\n",
    "target = application_train.TARGET.values"
   ]
  },
  {
   "cell_type": "code",
   "execution_count": 5,
   "id": "f8994352-145d-4e13-9fec-5577ebb5d3fd",
   "metadata": {},
   "outputs": [],
   "source": [
    "good_features = train.columns[2:]"
   ]
  },
  {
   "cell_type": "code",
   "execution_count": 7,
   "id": "d030a55f-d6c9-40f3-8e9b-e07258e695f6",
   "metadata": {},
   "outputs": [
    {
     "name": "stdout",
     "output_type": "stream",
     "text": [
      "0\n",
      "1\n",
      "2\n",
      "3\n",
      "4\n",
      "CPU times: user 19min 50s, sys: 18.3 s, total: 20min 8s\n",
      "Wall time: 20min 13s\n"
     ]
    }
   ],
   "source": [
    "%%time\n",
    "kf = StratifiedKFold(5, shuffle=True, random_state=1974)\n",
    "\n",
    "for i, (train_index, test_index) in enumerate(kf.split(train,target)):\n",
    "\n",
    "        print(i)\n",
    "        xgtrain, xgval = train[good_features].loc[train_index], train[good_features].loc[test_index]\n",
    "        y_train, y_val = target[train_index], target[test_index]\n",
    "        \n",
    "        xgtrain['target'] = y_train\n",
    "        xgval['target'] = y_val\n",
    "        \n",
    "        xgtrain.to_csv(f'../input/xgtrain_fold_{i}.csv', index=False)\n",
    "        xgval.to_csv(f'../input/xgval_fold_{i}.csv', index=False)"
   ]
  },
  {
   "cell_type": "code",
   "execution_count": 8,
   "id": "dc58657c-a7e1-4641-bcd5-b3636338ef1f",
   "metadata": {},
   "outputs": [],
   "source": []
  },
  {
   "cell_type": "code",
   "execution_count": 9,
   "id": "af67a90f-f7d7-4161-89c5-ec9d648e8e33",
   "metadata": {},
   "outputs": [],
   "source": []
  },
  {
   "cell_type": "code",
   "execution_count": null,
   "id": "7d857ab9-6b8e-4459-adbe-aecea339294d",
   "metadata": {},
   "outputs": [],
   "source": []
  }
 ],
 "metadata": {
  "kernelspec": {
   "display_name": "Python 3 (ipykernel)",
   "language": "python",
   "name": "python3"
  },
  "language_info": {
   "codemirror_mode": {
    "name": "ipython",
    "version": 3
   },
   "file_extension": ".py",
   "mimetype": "text/x-python",
   "name": "python",
   "nbconvert_exporter": "python",
   "pygments_lexer": "ipython3",
   "version": "3.8.10"
  }
 },
 "nbformat": 4,
 "nbformat_minor": 5
}
