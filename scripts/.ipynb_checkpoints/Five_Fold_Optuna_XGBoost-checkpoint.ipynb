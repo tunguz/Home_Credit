{
 "cells": [
  {
   "cell_type": "code",
   "execution_count": 14,
   "id": "75ea85fe-0cbf-46f8-b19d-af696892b1bc",
   "metadata": {},
   "outputs": [
    {
     "data": {
      "text/plain": [
       "'1.6.0-dev'"
      ]
     },
     "execution_count": 14,
     "metadata": {},
     "output_type": "execute_result"
    }
   ],
   "source": [
    "from dask.distributed import Client\n",
    "from dask_cuda import LocalCUDACluster\n",
    "from dask import dataframe as dd\n",
    "import pandas as pd\n",
    "import numpy as np\n",
    "import xgboost as xgb\n",
    "from sklearn.model_selection import StratifiedKFold\n",
    "from sklearn.metrics import roc_auc_score\n",
    "from sklearn.preprocessing import StandardScaler\n",
    "from sklearn.preprocessing import LabelEncoder\n",
    "import optuna\n",
    "import gc\n",
    "import logging\n",
    "xgb.__version__"
   ]
  },
  {
   "cell_type": "code",
   "execution_count": 2,
   "id": "363f4bf4-b806-4474-adb2-ae28885357fa",
   "metadata": {},
   "outputs": [
    {
     "name": "stdout",
     "output_type": "stream",
     "text": [
      "Mon Dec  6 11:05:41 2021       \n",
      "+-----------------------------------------------------------------------------+\n",
      "| NVIDIA-SMI 470.57.02    Driver Version: 470.57.02    CUDA Version: 11.4     |\n",
      "|-------------------------------+----------------------+----------------------+\n",
      "| GPU  Name        Persistence-M| Bus-Id        Disp.A | Volatile Uncorr. ECC |\n",
      "| Fan  Temp  Perf  Pwr:Usage/Cap|         Memory-Usage | GPU-Util  Compute M. |\n",
      "|                               |                      |               MIG M. |\n",
      "|===============================+======================+======================|\n",
      "|   0  NVIDIA TITAN RTX    On   | 00000000:09:00.0 Off |                  N/A |\n",
      "| 41%   36C    P8    28W / 280W |      6MiB / 24220MiB |      0%      Default |\n",
      "|                               |                      |                  N/A |\n",
      "+-------------------------------+----------------------+----------------------+\n",
      "|   1  NVIDIA TITAN RTX    On   | 00000000:41:00.0  On |                  N/A |\n",
      "| 41%   36C    P8    33W / 280W |    274MiB / 24217MiB |      4%      Default |\n",
      "|                               |                      |                  N/A |\n",
      "+-------------------------------+----------------------+----------------------+\n",
      "                                                                               \n",
      "+-----------------------------------------------------------------------------+\n",
      "| Processes:                                                                  |\n",
      "|  GPU   GI   CI        PID   Type   Process name                  GPU Memory |\n",
      "|        ID   ID                                                   Usage      |\n",
      "|=============================================================================|\n",
      "|    0   N/A  N/A      1256      G   /usr/lib/xorg/Xorg                  4MiB |\n",
      "|    1   N/A  N/A      1256      G   /usr/lib/xorg/Xorg                121MiB |\n",
      "|    1   N/A  N/A      1502      G   /usr/bin/gnome-shell               28MiB |\n",
      "|    1   N/A  N/A      2154      G   ...mviewer/tv_bin/TeamViewer       13MiB |\n",
      "|    1   N/A  N/A      3027      G   /usr/lib/firefox/firefox          107MiB |\n",
      "+-----------------------------------------------------------------------------+\n"
     ]
    }
   ],
   "source": [
    "!nvidia-smi"
   ]
  },
  {
   "cell_type": "code",
   "execution_count": 3,
   "id": "7732ad39-c2d9-488f-a425-6c47443989a3",
   "metadata": {},
   "outputs": [
    {
     "name": "stderr",
     "output_type": "stream",
     "text": [
      "distributed.preloading - INFO - Import preload module: dask_cuda.initialize\n",
      "distributed.preloading - INFO - Import preload module: dask_cuda.initialize\n"
     ]
    }
   ],
   "source": [
    "cluster = LocalCUDACluster(CUDA_VISIBLE_DEVICES=[0,1])\n",
    "client = Client(cluster)"
   ]
  },
  {
   "cell_type": "code",
   "execution_count": 4,
   "id": "68f5171c-5524-449a-8576-ecf44578e8af",
   "metadata": {},
   "outputs": [
    {
     "name": "stdout",
     "output_type": "stream",
     "text": [
      "Mon Dec  6 11:05:47 2021       \n",
      "+-----------------------------------------------------------------------------+\n",
      "| NVIDIA-SMI 470.57.02    Driver Version: 470.57.02    CUDA Version: 11.4     |\n",
      "|-------------------------------+----------------------+----------------------+\n",
      "| GPU  Name        Persistence-M| Bus-Id        Disp.A | Volatile Uncorr. ECC |\n",
      "| Fan  Temp  Perf  Pwr:Usage/Cap|         Memory-Usage | GPU-Util  Compute M. |\n",
      "|                               |                      |               MIG M. |\n",
      "|===============================+======================+======================|\n",
      "|   0  NVIDIA TITAN RTX    On   | 00000000:09:00.0 Off |                  N/A |\n",
      "| 41%   37C    P2    64W / 280W |    326MiB / 24220MiB |      1%      Default |\n",
      "|                               |                      |                  N/A |\n",
      "+-------------------------------+----------------------+----------------------+\n",
      "|   1  NVIDIA TITAN RTX    On   | 00000000:41:00.0  On |                  N/A |\n",
      "| 40%   37C    P2    72W / 280W |    446MiB / 24217MiB |      4%      Default |\n",
      "|                               |                      |                  N/A |\n",
      "+-------------------------------+----------------------+----------------------+\n",
      "                                                                               \n",
      "+-----------------------------------------------------------------------------+\n",
      "| Processes:                                                                  |\n",
      "|  GPU   GI   CI        PID   Type   Process name                  GPU Memory |\n",
      "|        ID   ID                                                   Usage      |\n",
      "|=============================================================================|\n",
      "|    0   N/A  N/A      1256      G   /usr/lib/xorg/Xorg                  4MiB |\n",
      "|    0   N/A  N/A     18836      C   /usr/bin/python3                  159MiB |\n",
      "|    0   N/A  N/A     18930      C   /usr/bin/python3                  159MiB |\n",
      "|    1   N/A  N/A      1256      G   /usr/lib/xorg/Xorg                121MiB |\n",
      "|    1   N/A  N/A      1502      G   /usr/bin/gnome-shell               28MiB |\n",
      "|    1   N/A  N/A      2154      G   ...mviewer/tv_bin/TeamViewer       13MiB |\n",
      "|    1   N/A  N/A      3027      G   /usr/lib/firefox/firefox          117MiB |\n",
      "|    1   N/A  N/A     18929      C   /usr/bin/python3                  159MiB |\n",
      "+-----------------------------------------------------------------------------+\n"
     ]
    }
   ],
   "source": [
    "!nvidia-smi"
   ]
  },
  {
   "cell_type": "code",
   "execution_count": 5,
   "id": "a4d4f878-20e0-4090-97c9-bfe63d86d7d8",
   "metadata": {},
   "outputs": [
    {
     "name": "stdout",
     "output_type": "stream",
     "text": [
      "Loading fold 0\n",
      "Loading fold 1\n",
      "Loading fold 2\n",
      "Loading fold 3\n",
      "Loading fold 4\n",
      "CPU times: user 4.2 s, sys: 140 ms, total: 4.34 s\n",
      "Wall time: 4.32 s\n"
     ]
    }
   ],
   "source": [
    "%%time\n",
    "train_folds = []\n",
    "val_folds = []\n",
    "train_ys = []\n",
    "val_ys = []\n",
    "\n",
    "for i in range(5):\n",
    "    print(f'Loading fold {i}')\n",
    "    train_fold = dd.read_csv(f'../input/xgtrain_fold_{i}.csv')\n",
    "    val_fold = dd.read_csv(f'../input/xgval_fold_{i}.csv')\n",
    "    \n",
    "    train_fold = train_fold.replace([np.inf, -np.inf], np.nan)\n",
    "    val_fold = val_fold.replace([np.inf, -np.inf], np.nan)\n",
    "    \n",
    "    train_y = train_fold['target']\n",
    "    train_fold = train_fold[train_fold.columns.difference(['target'])]\n",
    "    \n",
    "    val_y = val_fold['target']\n",
    "    val_fold = val_fold[val_fold.columns.difference(['target'])]\n",
    "    \n",
    "    train_folds.append(train_fold)\n",
    "    val_folds.append(val_fold)\n",
    "    \n",
    "    train_ys.append(train_y)\n",
    "    val_ys.append(val_y)"
   ]
  },
  {
   "cell_type": "code",
   "execution_count": 6,
   "id": "0a6778d6-86a2-4346-8c36-8a5732c52796",
   "metadata": {},
   "outputs": [],
   "source": [
    "application_train = pd.read_csv('../input/application_train.csv')\n",
    "target = application_train.TARGET.values\n",
    "train_oof = np.zeros((application_train.shape[0],))"
   ]
  },
  {
   "cell_type": "code",
   "execution_count": 10,
   "id": "db0e70fd-d1ef-4905-a0c7-da0decf93e86",
   "metadata": {},
   "outputs": [],
   "source": [
    "num_round = 1000\n",
    "\n",
    "def objective(trial):\n",
    "        \n",
    "    params = {\n",
    "        'objective': trial.suggest_categorical('objective',['binary:logistic']), \n",
    "        'tree_method': trial.suggest_categorical('tree_method',['gpu_hist']),  # 'gpu_hist','hist'\n",
    "        'lambda': trial.suggest_loguniform('lambda',1e-3,10.0),\n",
    "        'alpha': trial.suggest_loguniform('alpha',1e-3,10.0),\n",
    "        'colsample_bytree': trial.suggest_uniform('colsample_bytree', 0.3,1.0),\n",
    "        'subsample': trial.suggest_uniform('subsample', 0.4, 1.0),\n",
    "        'learning_rate': trial.suggest_loguniform('learning_rate', 0.001,0.1),\n",
    "        #'n_estimators': trial.suggest_categorical('n_estimators', [1000]),\n",
    "        'max_depth': trial.suggest_categorical('max_depth', [3,5,7,9,11,13,15,17,20]),\n",
    "        #'random_state': trial.suggest_categorical('random_state', [24,48,2020]),\n",
    "        'min_child_weight': trial.suggest_int('min_child_weight', 1,300),\n",
    "        'eval_metric': trial.suggest_categorical('eval_metric',['logloss']),\n",
    "\n",
    "    }\n",
    "    \n",
    "    #start_time = time()\n",
    "    kf = StratifiedKFold(5, shuffle=True, random_state=1974)\n",
    "\n",
    "    for i, (train_index, val_index) in enumerate(kf.split(application_train,target)):\n",
    "        dtrain = xgb.dask.DaskDMatrix(client, train_folds[i], train_ys[i])\n",
    "        dval = xgb.dask.DaskDMatrix(client, val_folds[i], val_ys[i])\n",
    "        \n",
    "        output = xgb.dask.train(client, params, dtrain, num_round)\n",
    "        booster = output['booster']  # booster is the trained model\n",
    "        booster.set_param({'predictor': 'gpu_predictor'})\n",
    "        predictions = xgb.dask.predict(client, booster, dval)\n",
    "        predictions = predictions.compute()\n",
    "        train_oof[val_index] = predictions\n",
    "        del dtrain, dval, output\n",
    "        gc.collect()\n",
    "        gc.collect()\n",
    "\n",
    "\n",
    "    acc = roc_auc_score(target, train_oof)\n",
    "    \n",
    "    return acc"
   ]
  },
  {
   "cell_type": "code",
   "execution_count": 11,
   "id": "27cf4525-bfec-4b7c-a5a1-017b5481d82a",
   "metadata": {},
   "outputs": [
    {
     "name": "stderr",
     "output_type": "stream",
     "text": [
      "\u001b[32m[I 2021-12-06 11:15:38,638]\u001b[0m A new study created in memory with name: no-name-a7c0064a-5ade-436a-aff8-1fea43de2719\u001b[0m\n"
     ]
    }
   ],
   "source": [
    "study = optuna.create_study(direction='maximize')"
   ]
  },
  {
   "cell_type": "code",
   "execution_count": 12,
   "id": "2bf7bfb0-13d3-4c2e-97e0-65dd7ef33353",
   "metadata": {},
   "outputs": [
    {
     "name": "stderr",
     "output_type": "stream",
     "text": [
      "[11:16:41] task [xgboost.dask]:tcp://192.168.1.200:32871 got new rank 0\n",
      "[11:16:41] task [xgboost.dask]:tcp://192.168.1.200:37461 got new rank 1\n",
      "[11:19:07] task [xgboost.dask]:tcp://192.168.1.200:32871 got new rank 0\n",
      "[11:19:07] task [xgboost.dask]:tcp://192.168.1.200:37461 got new rank 1\n",
      "[11:21:36] task [xgboost.dask]:tcp://192.168.1.200:32871 got new rank 0\n",
      "[11:21:36] task [xgboost.dask]:tcp://192.168.1.200:37461 got new rank 1\n",
      "[11:24:01] task [xgboost.dask]:tcp://192.168.1.200:37461 got new rank 0\n",
      "[11:24:01] task [xgboost.dask]:tcp://192.168.1.200:32871 got new rank 1\n",
      "[11:26:28] task [xgboost.dask]:tcp://192.168.1.200:37461 got new rank 0\n",
      "[11:26:28] task [xgboost.dask]:tcp://192.168.1.200:32871 got new rank 1\n",
      "\u001b[32m[I 2021-12-06 11:27:55,802]\u001b[0m Trial 0 finished with value: 0.7817463451720963 and parameters: {'objective': 'binary:logistic', 'tree_method': 'gpu_hist', 'lambda': 0.1600776201525473, 'alpha': 2.9186009245942657, 'colsample_bytree': 0.5116726495293111, 'subsample': 0.9095604123310909, 'learning_rate': 0.004114750215189334, 'max_depth': 13, 'min_child_weight': 287, 'eval_metric': 'logloss'}. Best is trial 0 with value: 0.7817463451720963.\u001b[0m\n"
     ]
    },
    {
     "name": "stdout",
     "output_type": "stream",
     "text": [
      "CPU times: user 24.6 s, sys: 10.6 s, total: 35.2 s\n",
      "Wall time: 12min 15s\n"
     ]
    }
   ],
   "source": [
    "%%time\n",
    "study.optimize(objective, n_trials=1)"
   ]
  },
  {
   "cell_type": "code",
   "execution_count": 15,
   "id": "228262f9-57c9-47a2-bca2-d5ee4a5a5d79",
   "metadata": {},
   "outputs": [
    {
     "name": "stderr",
     "output_type": "stream",
     "text": [
      "INFO:optuna.storages._rdb.storage:A new study created in RDB with name: five_fold_optuna_xgb_1\n",
      "INFO:root:Start optimization.\n",
      "INFO:root:start listen on 192.168.1.200:9091\n",
      "[11:29:59] task [xgboost.dask]:tcp://192.168.1.200:32871 got new rank 0\n",
      "[11:29:59] task [xgboost.dask]:tcp://192.168.1.200:37461 got new rank 1\n",
      "INFO:root:@tracker All of 2 nodes getting started\n",
      "INFO:root:@tracker All nodes finishes job\n",
      "INFO:root:@tracker 50.5697021484375 secs between node start and job finish\n",
      "INFO:root:start listen on 192.168.1.200:9091\n",
      "[11:31:54] task [xgboost.dask]:tcp://192.168.1.200:37461 got new rank 0\n",
      "[11:31:54] task [xgboost.dask]:tcp://192.168.1.200:32871 got new rank 1\n",
      "INFO:root:@tracker All of 2 nodes getting started\n",
      "INFO:root:@tracker All nodes finishes job\n",
      "INFO:root:@tracker 55.71733355522156 secs between node start and job finish\n",
      "INFO:root:start listen on 192.168.1.200:9091\n",
      "[11:33:55] task [xgboost.dask]:tcp://192.168.1.200:32871 got new rank 0\n",
      "[11:33:55] task [xgboost.dask]:tcp://192.168.1.200:37461 got new rank 1\n",
      "INFO:root:@tracker All of 2 nodes getting started\n",
      "INFO:root:@tracker All nodes finishes job\n",
      "INFO:root:@tracker 52.50864839553833 secs between node start and job finish\n",
      "INFO:root:start listen on 192.168.1.200:9091\n",
      "[11:35:52] task [xgboost.dask]:tcp://192.168.1.200:37461 got new rank 0\n",
      "[11:35:52] task [xgboost.dask]:tcp://192.168.1.200:32871 got new rank 1\n",
      "INFO:root:@tracker All of 2 nodes getting started\n",
      "INFO:root:@tracker All nodes finishes job\n",
      "INFO:root:@tracker 55.668166399002075 secs between node start and job finish\n",
      "INFO:root:start listen on 192.168.1.200:9091\n",
      "[11:37:51] task [xgboost.dask]:tcp://192.168.1.200:37461 got new rank 0\n",
      "[11:37:51] task [xgboost.dask]:tcp://192.168.1.200:32871 got new rank 1\n",
      "INFO:root:@tracker All of 2 nodes getting started\n",
      "INFO:root:@tracker All nodes finishes job\n",
      "INFO:root:@tracker 54.315258264541626 secs between node start and job finish\n",
      "INFO:optuna.study.study:Trial 0 finished with value: 0.7871088120084473 and parameters: {'objective': 'binary:logistic', 'tree_method': 'gpu_hist', 'lambda': 0.9237827089872013, 'alpha': 2.149527441327325, 'colsample_bytree': 0.8340046076524081, 'subsample': 0.42015675502978456, 'learning_rate': 0.0944374615163666, 'max_depth': 9, 'min_child_weight': 236, 'eval_metric': 'logloss'}. Best is trial 0 with value: 0.7871088120084473.\n",
      "INFO:root:start listen on 192.168.1.200:9091\n",
      "[11:39:51] task [xgboost.dask]:tcp://192.168.1.200:32871 got new rank 0\n",
      "[11:39:51] task [xgboost.dask]:tcp://192.168.1.200:37461 got new rank 1\n",
      "INFO:root:@tracker All of 2 nodes getting started\n",
      "INFO:root:@tracker All nodes finishes job\n",
      "INFO:root:@tracker 111.3668622970581 secs between node start and job finish\n",
      "INFO:root:start listen on 192.168.1.200:9091\n",
      "[11:42:49] task [xgboost.dask]:tcp://192.168.1.200:37461 got new rank 0\n",
      "[11:42:49] task [xgboost.dask]:tcp://192.168.1.200:32871 got new rank 1\n",
      "INFO:root:@tracker All of 2 nodes getting started\n",
      "INFO:root:@tracker All nodes finishes job\n",
      "INFO:root:@tracker 112.10221028327942 secs between node start and job finish\n",
      "distributed.utils_perf - WARNING - full garbage collections took 48% CPU time recently (threshold: 10%)\n",
      "INFO:root:start listen on 192.168.1.200:9091\n",
      "[11:45:48] task [xgboost.dask]:tcp://192.168.1.200:37461 got new rank 0\n",
      "[11:45:48] task [xgboost.dask]:tcp://192.168.1.200:32871 got new rank 1\n",
      "INFO:root:@tracker All of 2 nodes getting started\n",
      "INFO:root:@tracker All nodes finishes job\n",
      "INFO:root:@tracker 109.70658087730408 secs between node start and job finish\n",
      "distributed.utils_perf - WARNING - full garbage collections took 51% CPU time recently (threshold: 10%)\n",
      "distributed.utils_perf - WARNING - full garbage collections took 53% CPU time recently (threshold: 10%)\n",
      "INFO:root:start listen on 192.168.1.200:9091\n",
      "[11:48:45] task [xgboost.dask]:tcp://192.168.1.200:37461 got new rank 0\n",
      "[11:48:45] task [xgboost.dask]:tcp://192.168.1.200:32871 got new rank 1\n",
      "INFO:root:@tracker All of 2 nodes getting started\n",
      "INFO:root:@tracker All nodes finishes job\n",
      "INFO:root:@tracker 114.33773040771484 secs between node start and job finish\n",
      "distributed.utils_perf - WARNING - full garbage collections took 55% CPU time recently (threshold: 10%)\n",
      "distributed.utils_perf - WARNING - full garbage collections took 58% CPU time recently (threshold: 10%)\n",
      "INFO:root:start listen on 192.168.1.200:9091\n",
      "[11:51:46] task [xgboost.dask]:tcp://192.168.1.200:37461 got new rank 0\n",
      "[11:51:46] task [xgboost.dask]:tcp://192.168.1.200:32871 got new rank 1\n",
      "INFO:root:@tracker All of 2 nodes getting started\n",
      "INFO:root:@tracker All nodes finishes job\n",
      "INFO:root:@tracker 110.54170203208923 secs between node start and job finish\n",
      "distributed.utils_perf - WARNING - full garbage collections took 61% CPU time recently (threshold: 10%)\n",
      "distributed.utils_perf - WARNING - full garbage collections took 65% CPU time recently (threshold: 10%)\n",
      "INFO:optuna.study.study:Trial 1 finished with value: 0.7934994420770072 and parameters: {'objective': 'binary:logistic', 'tree_method': 'gpu_hist', 'lambda': 1.0811287135248413, 'alpha': 0.6223376732953362, 'colsample_bytree': 0.5389549547189605, 'subsample': 0.5855494424321495, 'learning_rate': 0.03745130422658053, 'max_depth': 11, 'min_child_weight': 23, 'eval_metric': 'logloss'}. Best is trial 1 with value: 0.7934994420770072.\n",
      "INFO:root:start listen on 192.168.1.200:9091\n",
      "[11:54:43] task [xgboost.dask]:tcp://192.168.1.200:37461 got new rank 0\n",
      "[11:54:43] task [xgboost.dask]:tcp://192.168.1.200:32871 got new rank 1\n",
      "INFO:root:@tracker All of 2 nodes getting started\n",
      "INFO:root:@tracker All nodes finishes job\n",
      "INFO:root:@tracker 70.83005833625793 secs between node start and job finish\n",
      "distributed.utils_perf - WARNING - full garbage collections took 86% CPU time recently (threshold: 10%)\n",
      "distributed.utils_perf - WARNING - full garbage collections took 86% CPU time recently (threshold: 10%)\n",
      "INFO:root:start listen on 192.168.1.200:9091\n",
      "[11:56:58] task [xgboost.dask]:tcp://192.168.1.200:37461 got new rank 0\n",
      "[11:56:58] task [xgboost.dask]:tcp://192.168.1.200:32871 got new rank 1\n",
      "INFO:root:@tracker All of 2 nodes getting started\n",
      "INFO:root:@tracker All nodes finishes job\n",
      "INFO:root:@tracker 52.438966512680054 secs between node start and job finish\n",
      "distributed.utils_perf - WARNING - full garbage collections took 87% CPU time recently (threshold: 10%)\n",
      "distributed.utils_perf - WARNING - full garbage collections took 87% CPU time recently (threshold: 10%)\n",
      "INFO:root:start listen on 192.168.1.200:9091\n",
      "[11:58:55] task [xgboost.dask]:tcp://192.168.1.200:37461 got new rank 0\n",
      "[11:58:55] task [xgboost.dask]:tcp://192.168.1.200:32871 got new rank 1\n",
      "INFO:root:@tracker All of 2 nodes getting started\n",
      "INFO:root:@tracker All nodes finishes job\n",
      "INFO:root:@tracker 54.795610189437866 secs between node start and job finish\n",
      "distributed.utils_perf - WARNING - full garbage collections took 87% CPU time recently (threshold: 10%)\n",
      "distributed.utils_perf - WARNING - full garbage collections took 87% CPU time recently (threshold: 10%)\n",
      "INFO:root:start listen on 192.168.1.200:9091\n",
      "[12:00:54] task [xgboost.dask]:tcp://192.168.1.200:37461 got new rank 0\n",
      "[12:00:54] task [xgboost.dask]:tcp://192.168.1.200:32871 got new rank 1\n",
      "INFO:root:@tracker All of 2 nodes getting started\n",
      "INFO:root:@tracker All nodes finishes job\n",
      "INFO:root:@tracker 59.51777744293213 secs between node start and job finish\n",
      "distributed.utils_perf - WARNING - full garbage collections took 87% CPU time recently (threshold: 10%)\n",
      "distributed.utils_perf - WARNING - full garbage collections took 87% CPU time recently (threshold: 10%)\n",
      "INFO:root:start listen on 192.168.1.200:9091\n",
      "[12:02:58] task [xgboost.dask]:tcp://192.168.1.200:32871 got new rank 0\n",
      "[12:02:58] task [xgboost.dask]:tcp://192.168.1.200:37461 got new rank 1\n",
      "INFO:root:@tracker All of 2 nodes getting started\n",
      "INFO:root:@tracker All nodes finishes job\n",
      "INFO:root:@tracker 60.99387574195862 secs between node start and job finish\n",
      "distributed.utils_perf - WARNING - full garbage collections took 87% CPU time recently (threshold: 10%)\n",
      "distributed.utils_perf - WARNING - full garbage collections took 87% CPU time recently (threshold: 10%)\n",
      "INFO:optuna.study.study:Trial 2 finished with value: 0.7968708543056313 and parameters: {'objective': 'binary:logistic', 'tree_method': 'gpu_hist', 'lambda': 0.008495803117765415, 'alpha': 0.9794347229656094, 'colsample_bytree': 0.36331480978139946, 'subsample': 0.6230732880919797, 'learning_rate': 0.05630883994326929, 'max_depth': 17, 'min_child_weight': 272, 'eval_metric': 'logloss'}. Best is trial 2 with value: 0.7968708543056313.\n"
     ]
    },
    {
     "name": "stdout",
     "output_type": "stream",
     "text": [
      "CPU times: user 1min 14s, sys: 27.3 s, total: 1min 41s\n",
      "Wall time: 35min 6s\n"
     ]
    }
   ],
   "source": [
    "%%time\n",
    "logger = logging.getLogger()\n",
    "logger.setLevel(logging.INFO)  # Setup the root logger.\n",
    "logger.addHandler(logging.FileHandler(\"optuna_xgb_output_3.log\", mode=\"w\"))\n",
    "\n",
    "optuna.logging.enable_propagation()  # Propagate logs to the root logger.\n",
    "optuna.logging.disable_default_handler()  # Stop showing logs in sys.stderr.\n",
    "\n",
    "study = optuna.create_study(direction='maximize', storage=\"sqlite:///xgb_optuna_home_credit.db\", study_name=\"five_fold_optuna_xgb_1\")\n",
    "logger.info(\"Start optimization.\")\n",
    "study.optimize(objective, n_trials=3)"
   ]
  },
  {
   "cell_type": "code",
   "execution_count": null,
   "id": "df655abe-0352-4da3-b71a-a3f43c4cd0ac",
   "metadata": {},
   "outputs": [],
   "source": []
  }
 ],
 "metadata": {
  "kernelspec": {
   "display_name": "Python 3 (ipykernel)",
   "language": "python",
   "name": "python3"
  },
  "language_info": {
   "codemirror_mode": {
    "name": "ipython",
    "version": 3
   },
   "file_extension": ".py",
   "mimetype": "text/x-python",
   "name": "python",
   "nbconvert_exporter": "python",
   "pygments_lexer": "ipython3",
   "version": "3.8.10"
  }
 },
 "nbformat": 4,
 "nbformat_minor": 5
}
