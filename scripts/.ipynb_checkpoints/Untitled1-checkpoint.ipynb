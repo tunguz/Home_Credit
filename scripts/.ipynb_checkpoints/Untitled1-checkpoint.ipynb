{
 "cells": [
  {
   "cell_type": "code",
   "execution_count": 1,
   "id": "22a0920a-fa9b-4c0a-b6bc-516b1c4730e7",
   "metadata": {},
   "outputs": [
    {
     "name": "stdout",
     "output_type": "stream",
     "text": [
      "1.6.0-dev\n"
     ]
    },
    {
     "name": "stderr",
     "output_type": "stream",
     "text": [
      "distributed.preloading - INFO - Import preload module: dask_cuda.initialize\n",
      "distributed.preloading - INFO - Import preload module: dask_cuda.initialize\n"
     ]
    },
    {
     "name": "stdout",
     "output_type": "stream",
     "text": [
      "Loading fold 0\n",
      "Loading fold 1\n",
      "Loading fold 2\n",
      "Loading fold 3\n",
      "Loading fold 4\n"
     ]
    }
   ],
   "source": [
    "from dask.distributed import Client\n",
    "from dask_cuda import LocalCUDACluster\n",
    "from dask import dataframe as dd\n",
    "import pandas as pd\n",
    "import numpy as np\n",
    "import xgboost as xgb\n",
    "from sklearn.model_selection import StratifiedKFold\n",
    "from sklearn.metrics import roc_auc_score\n",
    "from sklearn.preprocessing import StandardScaler\n",
    "from sklearn.preprocessing import LabelEncoder\n",
    "import optuna\n",
    "import gc\n",
    "import logging\n",
    "print(xgb.__version__)\n",
    "\n",
    "cluster = LocalCUDACluster(n_workers=2)\n",
    "client = Client(cluster)\n",
    "\n",
    "train_folds = []\n",
    "val_folds = []\n",
    "train_ys = []\n",
    "val_ys = []\n",
    "\n",
    "for i in range(5):\n",
    "    print(f'Loading fold {i}')\n",
    "    train_fold = dd.read_csv(f'../input/xgtrain_fold_{i}.csv')\n",
    "    val_fold = dd.read_csv(f'../input/xgval_fold_{i}.csv')\n",
    "    \n",
    "    train_fold = train_fold.replace([np.inf, -np.inf], np.nan)\n",
    "    val_fold = val_fold.replace([np.inf, -np.inf], np.nan)\n",
    "    \n",
    "    train_y = train_fold['target']\n",
    "    train_fold = train_fold[train_fold.columns.difference(['target'])]\n",
    "    \n",
    "    val_y = val_fold['target']\n",
    "    val_fold = val_fold[val_fold.columns.difference(['target'])]\n",
    "    \n",
    "    train_folds.append(train_fold)\n",
    "    val_folds.append(val_fold)\n",
    "    \n",
    "    train_ys.append(train_y)\n",
    "    val_ys.append(val_y)\n",
    "    \n",
    "application_train = pd.read_csv('../input/application_train.csv')\n",
    "target = application_train.TARGET.values\n",
    "train_oof = np.zeros((application_train.shape[0],))\n",
    "\n",
    "num_round = 1000\n",
    "\n",
    "def objective(trial):\n",
    "        \n",
    "    params = {\n",
    "        'objective': trial.suggest_categorical('objective',['binary:logistic']), \n",
    "        'tree_method': trial.suggest_categorical('tree_method',['gpu_hist']),  # 'gpu_hist','hist'\n",
    "        'lambda': trial.suggest_loguniform('lambda',1e-3,10.0),\n",
    "        'alpha': trial.suggest_loguniform('alpha',1e-3,10.0),\n",
    "        'colsample_bytree': trial.suggest_uniform('colsample_bytree', 0.3,1.0),\n",
    "        'subsample': trial.suggest_uniform('subsample', 0.4, 1.0),\n",
    "        'learning_rate': trial.suggest_loguniform('learning_rate', 0.001,0.1),\n",
    "        #'n_estimators': trial.suggest_categorical('n_estimators', [1000]),\n",
    "        'max_depth': trial.suggest_categorical('max_depth', [3,5,7,9,11,13,15,17,20]),\n",
    "        #'random_state': trial.suggest_categorical('random_state', [24,48,2020]),\n",
    "        'min_child_weight': trial.suggest_int('min_child_weight', 1,300),\n",
    "        'eval_metric': trial.suggest_categorical('eval_metric',['logloss']),\n",
    "\n",
    "    }\n",
    "    \n",
    "    #start_time = time()\n",
    "    kf = StratifiedKFold(5, shuffle=True, random_state=1974)\n",
    "\n",
    "    for i, (train_index, val_index) in enumerate(kf.split(application_train,target)):\n",
    "        dtrain = xgb.dask.DaskDMatrix(client, train_folds[i], train_ys[i])\n",
    "        dval = xgb.dask.DaskDMatrix(client, val_folds[i], val_ys[i])\n",
    "        \n",
    "        output = xgb.dask.train(client, params, dtrain, num_round)\n",
    "        booster = output['booster']  # booster is the trained model\n",
    "        booster.set_param({'predictor': 'gpu_predictor'})\n",
    "        predictions = xgb.dask.predict(client, booster, dval)\n",
    "        predictions = predictions.compute()\n",
    "        train_oof[val_index] = predictions\n",
    "        del dtrain, dval, output\n",
    "        gc.collect()\n",
    "        gc.collect()\n",
    "\n",
    "\n",
    "    acc = roc_auc_score(target, train_oof)\n",
    "    \n",
    "    return acc\n",
    "\n"
   ]
  },
  {
   "cell_type": "code",
   "execution_count": 2,
   "id": "00f7d8c9-5229-4cfd-a6c8-86dfc0d0619e",
   "metadata": {},
   "outputs": [],
   "source": [
    "logger = logging.getLogger()\n",
    "logger.setLevel(logging.INFO)  # Setup the root logger.\n",
    "logger.addHandler(logging.FileHandler(\"optuna_xgb_output_3.log\", mode=\"w\"))\n",
    "\n",
    "optuna.logging.enable_propagation()  # Propagate logs to the root logger.\n",
    "optuna.logging.disable_default_handler()  # Stop showing logs in sys.stderr.\n",
    "\n",
    "study = optuna.create_study(direction='maximize', storage=\"sqlite:///xgb_optuna_home_credit.db\", study_name=\"five_fold_optuna_xgb_3\")\n"
   ]
  },
  {
   "cell_type": "code",
   "execution_count": 3,
   "id": "dd1895c9-1af3-4010-8148-687223553326",
   "metadata": {},
   "outputs": [
    {
     "name": "stderr",
     "output_type": "stream",
     "text": [
      "[16:24:45] task [xgboost.dask]:tcp://192.168.1.200:35291 got new rank 0\n",
      "[16:24:45] task [xgboost.dask]:tcp://192.168.1.200:46691 got new rank 1\n",
      "[16:26:57] task [xgboost.dask]:tcp://192.168.1.200:46691 got new rank 0\n",
      "[16:26:57] task [xgboost.dask]:tcp://192.168.1.200:35291 got new rank 1\n",
      "[16:29:07] task [xgboost.dask]:tcp://192.168.1.200:46691 got new rank 0\n",
      "[16:29:07] task [xgboost.dask]:tcp://192.168.1.200:35291 got new rank 1\n",
      "[16:31:19] task [xgboost.dask]:tcp://192.168.1.200:35291 got new rank 0\n",
      "[16:31:19] task [xgboost.dask]:tcp://192.168.1.200:46691 got new rank 1\n",
      "[16:33:32] task [xgboost.dask]:tcp://192.168.1.200:46691 got new rank 0\n",
      "[16:33:32] task [xgboost.dask]:tcp://192.168.1.200:35291 got new rank 1\n",
      "[16:35:47] task [xgboost.dask]:tcp://192.168.1.200:35291 got new rank 0\n",
      "[16:35:47] task [xgboost.dask]:tcp://192.168.1.200:46691 got new rank 1\n",
      "[16:37:20] task [xgboost.dask]:tcp://192.168.1.200:35291 got new rank 0\n",
      "[16:37:20] task [xgboost.dask]:tcp://192.168.1.200:46691 got new rank 1\n",
      "[16:38:54] task [xgboost.dask]:tcp://192.168.1.200:35291 got new rank 0\n",
      "[16:38:54] task [xgboost.dask]:tcp://192.168.1.200:46691 got new rank 1\n",
      "[16:40:26] task [xgboost.dask]:tcp://192.168.1.200:35291 got new rank 0\n",
      "[16:40:26] task [xgboost.dask]:tcp://192.168.1.200:46691 got new rank 1\n",
      "[16:42:03] task [xgboost.dask]:tcp://192.168.1.200:46691 got new rank 0\n",
      "[16:42:03] task [xgboost.dask]:tcp://192.168.1.200:35291 got new rank 1\n",
      "[16:43:38] task [xgboost.dask]:tcp://192.168.1.200:46691 got new rank 0\n",
      "[16:43:38] task [xgboost.dask]:tcp://192.168.1.200:35291 got new rank 1\n",
      "[16:46:41] task [xgboost.dask]:tcp://192.168.1.200:46691 got new rank 0\n",
      "[16:46:41] task [xgboost.dask]:tcp://192.168.1.200:35291 got new rank 1\n",
      "distributed.utils_perf - WARNING - full garbage collections took 48% CPU time recently (threshold: 10%)\n",
      "[16:49:37] task [xgboost.dask]:tcp://192.168.1.200:46691 got new rank 0\n",
      "[16:49:37] task [xgboost.dask]:tcp://192.168.1.200:35291 got new rank 1\n",
      "distributed.utils_perf - WARNING - full garbage collections took 50% CPU time recently (threshold: 10%)\n",
      "distributed.utils_perf - WARNING - full garbage collections took 52% CPU time recently (threshold: 10%)\n",
      "[16:52:33] task [xgboost.dask]:tcp://192.168.1.200:35291 got new rank 0\n",
      "[16:52:33] task [xgboost.dask]:tcp://192.168.1.200:46691 got new rank 1\n",
      "distributed.utils_perf - WARNING - full garbage collections took 55% CPU time recently (threshold: 10%)\n",
      "distributed.utils_perf - WARNING - full garbage collections took 58% CPU time recently (threshold: 10%)\n",
      "[16:55:26] task [xgboost.dask]:tcp://192.168.1.200:35291 got new rank 0\n",
      "[16:55:26] task [xgboost.dask]:tcp://192.168.1.200:46691 got new rank 1\n",
      "distributed.utils_perf - WARNING - full garbage collections took 61% CPU time recently (threshold: 10%)\n",
      "distributed.utils_perf - WARNING - full garbage collections took 65% CPU time recently (threshold: 10%)\n"
     ]
    }
   ],
   "source": [
    "logger.info(\"Start optimization.\")\n",
    "study.optimize(objective, n_trials=3)\n"
   ]
  },
  {
   "cell_type": "code",
   "execution_count": 4,
   "id": "6055b444-01ae-4302-9ae7-b853f7942e20",
   "metadata": {},
   "outputs": [],
   "source": [
    "df = study.trials_dataframe(attrs=('number', 'value', 'params', 'state'))\n",
    "df.to_csv('optuna_xgb_output_3.csv', index=False)"
   ]
  },
  {
   "cell_type": "code",
   "execution_count": null,
   "id": "cbc2ad64-8aaf-418c-b8b0-83b954a2f14c",
   "metadata": {},
   "outputs": [],
   "source": []
  }
 ],
 "metadata": {
  "kernelspec": {
   "display_name": "Python 3 (ipykernel)",
   "language": "python",
   "name": "python3"
  },
  "language_info": {
   "codemirror_mode": {
    "name": "ipython",
    "version": 3
   },
   "file_extension": ".py",
   "mimetype": "text/x-python",
   "name": "python",
   "nbconvert_exporter": "python",
   "pygments_lexer": "ipython3",
   "version": "3.8.10"
  }
 },
 "nbformat": 4,
 "nbformat_minor": 5
}
