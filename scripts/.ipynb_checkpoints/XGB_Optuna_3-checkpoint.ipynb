{
 "cells": [
  {
   "cell_type": "code",
   "execution_count": 1,
   "id": "658e941e-f936-4e5c-bbf1-fa2774fbe7cd",
   "metadata": {},
   "outputs": [
    {
     "data": {
      "text/plain": [
       "'1.5.0'"
      ]
     },
     "execution_count": 1,
     "metadata": {},
     "output_type": "execute_result"
    }
   ],
   "source": [
    "import numpy as np\n",
    "import pandas as pd\n",
    "import xgboost as xgb\n",
    "from sklearn.model_selection import KFold, train_test_split\n",
    "from sklearn.metrics import roc_auc_score\n",
    "from sklearn.preprocessing import StandardScaler\n",
    "from sklearn.preprocessing import LabelEncoder\n",
    "import optuna\n",
    "import gc\n",
    "xgb.__version__"
   ]
  },
  {
   "cell_type": "code",
   "execution_count": 2,
   "id": "fb2d6a11-962b-4e1b-b5ea-68473a3b7976",
   "metadata": {},
   "outputs": [],
   "source": [
    "train_x = pd.read_csv('../input/xgtrain.csv')\n",
    "test_x = pd.read_csv('../input/xgval.csv')"
   ]
  },
  {
   "cell_type": "code",
   "execution_count": 3,
   "id": "d2c480d8-4476-4a34-9220-f3f0140c4be2",
   "metadata": {},
   "outputs": [],
   "source": [
    "train_y = train_x['target']\n",
    "test_y = test_x['target']\n",
    "\n",
    "del train_x['target']\n",
    "del test_x['target']"
   ]
  },
  {
   "cell_type": "code",
   "execution_count": 4,
   "id": "724598ae-cf25-4f48-866d-0dac522cfd22",
   "metadata": {},
   "outputs": [],
   "source": [
    "train_x.replace([np.inf, -np.inf], np.nan, inplace=True)\n",
    "test_x.replace([np.inf, -np.inf], np.nan, inplace=True)"
   ]
  },
  {
   "cell_type": "code",
   "execution_count": 5,
   "id": "e0289e3e-e8a1-4800-8342-37719635e923",
   "metadata": {},
   "outputs": [],
   "source": [
    "dtrain = xgb.DMatrix(train_x, label=train_y)\n",
    "dvalid = xgb.DMatrix(test_x, label=test_y)"
   ]
  },
  {
   "cell_type": "code",
   "execution_count": 6,
   "id": "2085bcda-3df9-44ea-aa9c-7e4670f5eca4",
   "metadata": {},
   "outputs": [],
   "source": [
    "num_round = 1000"
   ]
  },
  {
   "cell_type": "code",
   "execution_count": 7,
   "id": "cdbf6fc8-e5cb-4d5b-b02a-af96618330c9",
   "metadata": {},
   "outputs": [],
   "source": [
    "def objective(trial):\n",
    "        \n",
    "    params = {\n",
    "        'objective': trial.suggest_categorical('objective',['binary:logistic']), \n",
    "        'tree_method': trial.suggest_categorical('tree_method',['gpu_hist']),  # 'gpu_hist','hist'\n",
    "        'lambda': trial.suggest_loguniform('lambda',1e-3,10.0),\n",
    "        'alpha': trial.suggest_loguniform('alpha',1e-3,10.0),\n",
    "        'colsample_bytree': trial.suggest_uniform('colsample_bytree', 0.3,1.0),\n",
    "        'subsample': trial.suggest_uniform('subsample', 0.4, 1.0),\n",
    "        'learning_rate': trial.suggest_loguniform('learning_rate', 0.001,0.1),\n",
    "        #'n_estimators': trial.suggest_categorical('n_estimators', [1000]),\n",
    "        'max_depth': trial.suggest_categorical('max_depth', [3,5,7,9,11,13,15,17,20]),\n",
    "        #'random_state': trial.suggest_categorical('random_state', [24,48,2020]),\n",
    "        'min_child_weight': trial.suggest_int('min_child_weight', 1,300),\n",
    "        'eval_metric': trial.suggest_categorical('eval_metric',['logloss']),\n",
    "\n",
    "    }\n",
    "\n",
    "    model = xgb.train(params, dtrain, num_round)\n",
    "    predictions = model.predict(dvalid)\n",
    "\n",
    "    roc = roc_auc_score(test_y, predictions)\n",
    "    \n",
    "    return roc"
   ]
  },
  {
   "cell_type": "code",
   "execution_count": 8,
   "id": "0069a21e-1739-4a3b-87c0-47ad9a9938a4",
   "metadata": {},
   "outputs": [
    {
     "name": "stderr",
     "output_type": "stream",
     "text": [
      "\u001b[32m[I 2021-11-14 13:12:49,110]\u001b[0m A new study created in memory with name: no-name-9ae846cd-c193-4869-940c-d507f2353a15\u001b[0m\n"
     ]
    }
   ],
   "source": [
    "study = optuna.create_study(direction='maximize')"
   ]
  },
  {
   "cell_type": "code",
   "execution_count": 9,
   "id": "e4d34566-603d-4256-bd79-634661852bb1",
   "metadata": {},
   "outputs": [
    {
     "name": "stderr",
     "output_type": "stream",
     "text": [
      "\u001b[32m[I 2021-11-14 13:13:44,723]\u001b[0m Trial 0 finished with value: 0.7599902989254044 and parameters: {'objective': 'binary:logistic', 'tree_method': 'gpu_hist', 'lambda': 1.2767801092284488, 'alpha': 0.010838285032591802, 'colsample_bytree': 0.6215133356593129, 'subsample': 0.9163982927024152, 'learning_rate': 0.0013327977499660696, 'max_depth': 5, 'min_child_weight': 195, 'eval_metric': 'logloss'}. Best is trial 0 with value: 0.7599902989254044.\u001b[0m\n",
      "\u001b[32m[I 2021-11-14 13:16:57,164]\u001b[0m Trial 1 finished with value: 0.7730942252850145 and parameters: {'objective': 'binary:logistic', 'tree_method': 'gpu_hist', 'lambda': 0.5413020892709048, 'alpha': 0.06757242655647304, 'colsample_bytree': 0.9478087079374942, 'subsample': 0.701343831900148, 'learning_rate': 0.0015111027192229393, 'max_depth': 15, 'min_child_weight': 132, 'eval_metric': 'logloss'}. Best is trial 1 with value: 0.7730942252850145.\u001b[0m\n"
     ]
    },
    {
     "name": "stdout",
     "output_type": "stream",
     "text": [
      "CPU times: user 4min 14s, sys: 225 ms, total: 4min 14s\n",
      "Wall time: 4min 3s\n"
     ]
    }
   ],
   "source": [
    "%%time\n",
    "study.optimize(objective, n_trials=2)"
   ]
  },
  {
   "cell_type": "code",
   "execution_count": 10,
   "id": "c9350da1-d52c-4bd5-9c79-bdccc7882750",
   "metadata": {},
   "outputs": [
    {
     "name": "stderr",
     "output_type": "stream",
     "text": [
      "\u001b[32m[I 2021-11-14 13:17:28,265]\u001b[0m Trial 2 finished with value: 0.7447187548682155 and parameters: {'objective': 'binary:logistic', 'tree_method': 'gpu_hist', 'lambda': 0.031884295075786204, 'alpha': 0.019275246876602856, 'colsample_bytree': 0.35920920781450877, 'subsample': 0.4096600473494486, 'learning_rate': 0.00157749203914937, 'max_depth': 3, 'min_child_weight': 98, 'eval_metric': 'logloss'}. Best is trial 1 with value: 0.7730942252850145.\u001b[0m\n",
      "\u001b[32m[I 2021-11-14 13:18:54,672]\u001b[0m Trial 3 finished with value: 0.7867325176265696 and parameters: {'objective': 'binary:logistic', 'tree_method': 'gpu_hist', 'lambda': 0.04174785621450093, 'alpha': 0.9653706462566634, 'colsample_bytree': 0.4171517448821714, 'subsample': 0.9817759401632996, 'learning_rate': 0.0064583697026000435, 'max_depth': 15, 'min_child_weight': 292, 'eval_metric': 'logloss'}. Best is trial 3 with value: 0.7867325176265696.\u001b[0m\n",
      "\u001b[32m[I 2021-11-14 13:19:49,824]\u001b[0m Trial 4 finished with value: 0.7950120670296091 and parameters: {'objective': 'binary:logistic', 'tree_method': 'gpu_hist', 'lambda': 0.7426216283038297, 'alpha': 0.12290881206424968, 'colsample_bytree': 0.483299948915428, 'subsample': 0.49792356393665593, 'learning_rate': 0.01571557618025152, 'max_depth': 7, 'min_child_weight': 172, 'eval_metric': 'logloss'}. Best is trial 4 with value: 0.7950120670296091.\u001b[0m\n",
      "\u001b[32m[I 2021-11-14 13:21:34,093]\u001b[0m Trial 5 finished with value: 0.775503158638112 and parameters: {'objective': 'binary:logistic', 'tree_method': 'gpu_hist', 'lambda': 0.001271940274311498, 'alpha': 0.011754565658038313, 'colsample_bytree': 0.5327205926376266, 'subsample': 0.6022460919417155, 'learning_rate': 0.0030665685273331754, 'max_depth': 15, 'min_child_weight': 216, 'eval_metric': 'logloss'}. Best is trial 4 with value: 0.7950120670296091.\u001b[0m\n",
      "\u001b[32m[I 2021-11-14 13:22:36,422]\u001b[0m Trial 6 finished with value: 0.7908549257231194 and parameters: {'objective': 'binary:logistic', 'tree_method': 'gpu_hist', 'lambda': 0.01783734493743219, 'alpha': 0.19592405622135464, 'colsample_bytree': 0.8246708267693776, 'subsample': 0.7693483460472825, 'learning_rate': 0.05587337270108087, 'max_depth': 7, 'min_child_weight': 17, 'eval_metric': 'logloss'}. Best is trial 4 with value: 0.7950120670296091.\u001b[0m\n",
      "\u001b[32m[I 2021-11-14 13:25:21,024]\u001b[0m Trial 7 finished with value: 0.79565244054948 and parameters: {'objective': 'binary:logistic', 'tree_method': 'gpu_hist', 'lambda': 0.040668849519680646, 'alpha': 0.0060193204697278355, 'colsample_bytree': 0.6654919431384434, 'subsample': 0.9137480051312559, 'learning_rate': 0.020520361508516907, 'max_depth': 15, 'min_child_weight': 42, 'eval_metric': 'logloss'}. Best is trial 7 with value: 0.79565244054948.\u001b[0m\n",
      "\u001b[32m[I 2021-11-14 13:27:11,654]\u001b[0m Trial 8 finished with value: 0.7959892475956691 and parameters: {'objective': 'binary:logistic', 'tree_method': 'gpu_hist', 'lambda': 0.06402852681700724, 'alpha': 0.7753455572822124, 'colsample_bytree': 0.7503057635943404, 'subsample': 0.9985444428536618, 'learning_rate': 0.027267621796288947, 'max_depth': 15, 'min_child_weight': 118, 'eval_metric': 'logloss'}. Best is trial 8 with value: 0.7959892475956691.\u001b[0m\n",
      "\u001b[32m[I 2021-11-14 13:28:02,161]\u001b[0m Trial 9 finished with value: 0.7890562174636655 and parameters: {'objective': 'binary:logistic', 'tree_method': 'gpu_hist', 'lambda': 0.9472821692029683, 'alpha': 0.011310926093791022, 'colsample_bytree': 0.8170971949502948, 'subsample': 0.9506334961597642, 'learning_rate': 0.09956891936608096, 'max_depth': 7, 'min_child_weight': 141, 'eval_metric': 'logloss'}. Best is trial 8 with value: 0.7959892475956691.\u001b[0m\n",
      "\u001b[32m[I 2021-11-14 13:30:36,887]\u001b[0m Trial 10 finished with value: 0.7953541428365675 and parameters: {'objective': 'binary:logistic', 'tree_method': 'gpu_hist', 'lambda': 9.274070807882984, 'alpha': 9.637280702340595, 'colsample_bytree': 0.751935673116436, 'subsample': 0.8389877567165692, 'learning_rate': 0.03553405560513845, 'max_depth': 17, 'min_child_weight': 70, 'eval_metric': 'logloss'}. Best is trial 8 with value: 0.7959892475956691.\u001b[0m\n",
      "\u001b[32m[I 2021-11-14 13:33:50,674]\u001b[0m Trial 11 finished with value: 0.7943954777431906 and parameters: {'objective': 'binary:logistic', 'tree_method': 'gpu_hist', 'lambda': 0.003853393167426079, 'alpha': 0.0024509510572263402, 'colsample_bytree': 0.6971136858429533, 'subsample': 0.8451675226341058, 'learning_rate': 0.017585885608769992, 'max_depth': 11, 'min_child_weight': 7, 'eval_metric': 'logloss'}. Best is trial 8 with value: 0.7959892475956691.\u001b[0m\n",
      "\u001b[32m[I 2021-11-14 13:36:27,507]\u001b[0m Trial 12 finished with value: 0.7954884303321452 and parameters: {'objective': 'binary:logistic', 'tree_method': 'gpu_hist', 'lambda': 0.11990546913860875, 'alpha': 1.1786342139954618, 'colsample_bytree': 0.6222368432664118, 'subsample': 0.9992934592832873, 'learning_rate': 0.025373419947140687, 'max_depth': 20, 'min_child_weight': 66, 'eval_metric': 'logloss'}. Best is trial 8 with value: 0.7959892475956691.\u001b[0m\n",
      "\u001b[32m[I 2021-11-14 13:38:31,958]\u001b[0m Trial 13 finished with value: 0.7925311985269414 and parameters: {'objective': 'binary:logistic', 'tree_method': 'gpu_hist', 'lambda': 0.15051313362280933, 'alpha': 0.0013125914129570935, 'colsample_bytree': 0.8140759845218087, 'subsample': 0.8604976412745226, 'learning_rate': 0.008256998372766658, 'max_depth': 9, 'min_child_weight': 54, 'eval_metric': 'logloss'}. Best is trial 8 with value: 0.7959892475956691.\u001b[0m\n",
      "\u001b[32m[I 2021-11-14 13:40:18,326]\u001b[0m Trial 14 finished with value: 0.7915900193782813 and parameters: {'objective': 'binary:logistic', 'tree_method': 'gpu_hist', 'lambda': 0.008273483840172726, 'alpha': 0.7342946084867513, 'colsample_bytree': 0.9891623505899868, 'subsample': 0.7171123510710148, 'learning_rate': 0.04841489800205526, 'max_depth': 13, 'min_child_weight': 110, 'eval_metric': 'logloss'}. Best is trial 8 with value: 0.7959892475956691.\u001b[0m\n",
      "\u001b[32m[I 2021-11-14 13:41:46,895]\u001b[0m Trial 15 finished with value: 0.782407235522548 and parameters: {'objective': 'binary:logistic', 'tree_method': 'gpu_hist', 'lambda': 0.1942356811367597, 'alpha': 4.555760916891923, 'colsample_bytree': 0.5508910247447094, 'subsample': 0.9066400118875327, 'learning_rate': 0.005182390176313289, 'max_depth': 15, 'min_child_weight': 242, 'eval_metric': 'logloss'}. Best is trial 8 with value: 0.7959892475956691.\u001b[0m\n",
      "\u001b[32m[I 2021-11-14 13:44:56,325]\u001b[0m Trial 16 finished with value: 0.7969157532990225 and parameters: {'objective': 'binary:logistic', 'tree_method': 'gpu_hist', 'lambda': 0.05088378352105531, 'alpha': 0.04948756587059086, 'colsample_bytree': 0.7125658981480867, 'subsample': 0.7883174544909823, 'learning_rate': 0.014176609564137946, 'max_depth': 15, 'min_child_weight': 42, 'eval_metric': 'logloss'}. Best is trial 16 with value: 0.7969157532990225.\u001b[0m\n",
      "\u001b[32m[I 2021-11-14 13:47:05,451]\u001b[0m Trial 17 finished with value: 0.7957656138157951 and parameters: {'objective': 'binary:logistic', 'tree_method': 'gpu_hist', 'lambda': 0.005918687563927692, 'alpha': 0.04459764725202417, 'colsample_bytree': 0.87855982249284, 'subsample': 0.6143908628204352, 'learning_rate': 0.011439249581807415, 'max_depth': 13, 'min_child_weight': 98, 'eval_metric': 'logloss'}. Best is trial 16 with value: 0.7969157532990225.\u001b[0m\n",
      "\u001b[32m[I 2021-11-14 13:53:00,362]\u001b[0m Trial 18 finished with value: 0.7882105528611492 and parameters: {'objective': 'binary:logistic', 'tree_method': 'gpu_hist', 'lambda': 0.2916257404761801, 'alpha': 0.332481859956696, 'colsample_bytree': 0.7289039346802694, 'subsample': 0.782661246053142, 'learning_rate': 0.004245791477791531, 'max_depth': 17, 'min_child_weight': 34, 'eval_metric': 'logloss'}. Best is trial 16 with value: 0.7969157532990225.\u001b[0m\n",
      "\u001b[32m[I 2021-11-14 13:53:29,450]\u001b[0m Trial 19 finished with value: 0.7946174870775538 and parameters: {'objective': 'binary:logistic', 'tree_method': 'gpu_hist', 'lambda': 3.551906187315091, 'alpha': 2.0986466469528815, 'colsample_bytree': 0.9040713558759427, 'subsample': 0.6182230241589397, 'learning_rate': 0.09345310460644338, 'max_depth': 3, 'min_child_weight': 165, 'eval_metric': 'logloss'}. Best is trial 16 with value: 0.7969157532990225.\u001b[0m\n",
      "\u001b[32m[I 2021-11-14 13:55:41,702]\u001b[0m Trial 20 finished with value: 0.7914334580985859 and parameters: {'objective': 'binary:logistic', 'tree_method': 'gpu_hist', 'lambda': 0.06401756542853597, 'alpha': 0.3790474481158005, 'colsample_bytree': 0.7573278504326451, 'subsample': 0.5489398023165588, 'learning_rate': 0.03166432206508174, 'max_depth': 20, 'min_child_weight': 76, 'eval_metric': 'logloss'}. Best is trial 16 with value: 0.7969157532990225.\u001b[0m\n",
      "\u001b[32m[I 2021-11-14 13:57:47,192]\u001b[0m Trial 21 finished with value: 0.794597975919519 and parameters: {'objective': 'binary:logistic', 'tree_method': 'gpu_hist', 'lambda': 0.010266025197488128, 'alpha': 0.033081054765054276, 'colsample_bytree': 0.8744694355359687, 'subsample': 0.6382991322217882, 'learning_rate': 0.011542883990913026, 'max_depth': 13, 'min_child_weight': 107, 'eval_metric': 'logloss'}. Best is trial 16 with value: 0.7969157532990225.\u001b[0m\n",
      "\u001b[32m[I 2021-11-14 14:00:01,912]\u001b[0m Trial 22 finished with value: 0.796027097888552 and parameters: {'objective': 'binary:logistic', 'tree_method': 'gpu_hist', 'lambda': 0.0029154071011315568, 'alpha': 0.051812476193205295, 'colsample_bytree': 0.8382583861561892, 'subsample': 0.7505444424446249, 'learning_rate': 0.012719971215361163, 'max_depth': 13, 'min_child_weight': 93, 'eval_metric': 'logloss'}. Best is trial 16 with value: 0.7969157532990225.\u001b[0m\n",
      "\u001b[32m[I 2021-11-14 14:00:48,684]\u001b[0m Trial 23 finished with value: 0.790622760041932 and parameters: {'objective': 'binary:logistic', 'tree_method': 'gpu_hist', 'lambda': 0.0010384327962345793, 'alpha': 0.10013293730943637, 'colsample_bytree': 0.7797409009150672, 'subsample': 0.7751603353072763, 'learning_rate': 0.012478185071118471, 'max_depth': 5, 'min_child_weight': 129, 'eval_metric': 'logloss'}. Best is trial 16 with value: 0.7969157532990225.\u001b[0m\n",
      "\u001b[32m[I 2021-11-14 14:02:25,135]\u001b[0m Trial 24 finished with value: 0.7970311530531542 and parameters: {'objective': 'binary:logistic', 'tree_method': 'gpu_hist', 'lambda': 0.0027780420318763007, 'alpha': 0.2506675515777241, 'colsample_bytree': 0.6972294872080347, 'subsample': 0.7204304963083803, 'learning_rate': 0.02378976748759797, 'max_depth': 11, 'min_child_weight': 83, 'eval_metric': 'logloss'}. Best is trial 24 with value: 0.7970311530531542.\u001b[0m\n",
      "\u001b[32m[I 2021-11-14 14:04:34,179]\u001b[0m Trial 25 finished with value: 0.7933228360666944 and parameters: {'objective': 'binary:logistic', 'tree_method': 'gpu_hist', 'lambda': 0.002603073263272632, 'alpha': 0.2167710276784958, 'colsample_bytree': 0.6682899650918614, 'subsample': 0.7422706488970577, 'learning_rate': 0.00819983912124132, 'max_depth': 11, 'min_child_weight': 83, 'eval_metric': 'logloss'}. Best is trial 24 with value: 0.7970311530531542.\u001b[0m\n",
      "\u001b[32m[I 2021-11-14 14:06:12,450]\u001b[0m Trial 26 finished with value: 0.7887123497793123 and parameters: {'objective': 'binary:logistic', 'tree_method': 'gpu_hist', 'lambda': 0.002287043437760447, 'alpha': 0.03477826181686166, 'colsample_bytree': 0.577144086250114, 'subsample': 0.6564453735815378, 'learning_rate': 0.046167071031535396, 'max_depth': 11, 'min_child_weight': 30, 'eval_metric': 'logloss'}. Best is trial 24 with value: 0.7970311530531542.\u001b[0m\n",
      "\u001b[32m[I 2021-11-14 14:09:27,166]\u001b[0m Trial 27 finished with value: 0.7772714886977957 and parameters: {'objective': 'binary:logistic', 'tree_method': 'gpu_hist', 'lambda': 0.01382241557186593, 'alpha': 0.07073304182896917, 'colsample_bytree': 0.6951177106214493, 'subsample': 0.8158930245934783, 'learning_rate': 0.0024809275159706724, 'max_depth': 9, 'min_child_weight': 3, 'eval_metric': 'logloss'}. Best is trial 24 with value: 0.7970311530531542.\u001b[0m\n",
      "\u001b[32m[I 2021-11-14 14:11:35,302]\u001b[0m Trial 28 finished with value: 0.796873904234021 and parameters: {'objective': 'binary:logistic', 'tree_method': 'gpu_hist', 'lambda': 0.004919903334673891, 'alpha': 0.003595920575369759, 'colsample_bytree': 0.5938001216983444, 'subsample': 0.6764632135040172, 'learning_rate': 0.015887026482079472, 'max_depth': 13, 'min_child_weight': 53, 'eval_metric': 'logloss'}. Best is trial 24 with value: 0.7970311530531542.\u001b[0m\n",
      "\u001b[32m[I 2021-11-14 14:12:17,215]\u001b[0m Trial 29 finished with value: 0.7958669083243107 and parameters: {'objective': 'binary:logistic', 'tree_method': 'gpu_hist', 'lambda': 0.020971540728684686, 'alpha': 0.004382694218213818, 'colsample_bytree': 0.6083573568104815, 'subsample': 0.6668476619106793, 'learning_rate': 0.022301062041136424, 'max_depth': 5, 'min_child_weight': 62, 'eval_metric': 'logloss'}. Best is trial 24 with value: 0.7970311530531542.\u001b[0m\n",
      "\u001b[32m[I 2021-11-14 14:13:41,910]\u001b[0m Trial 30 finished with value: 0.7776956773754319 and parameters: {'objective': 'binary:logistic', 'tree_method': 'gpu_hist', 'lambda': 0.005599776557431893, 'alpha': 0.0011822484746644654, 'colsample_bytree': 0.5032734516594922, 'subsample': 0.559855080169689, 'learning_rate': 0.06754079708635838, 'max_depth': 11, 'min_child_weight': 42, 'eval_metric': 'logloss'}. Best is trial 24 with value: 0.7970311530531542.\u001b[0m\n",
      "\u001b[32m[I 2021-11-14 14:15:41,060]\u001b[0m Trial 31 finished with value: 0.796847015385957 and parameters: {'objective': 'binary:logistic', 'tree_method': 'gpu_hist', 'lambda': 0.002085437869958736, 'alpha': 0.00675060546447061, 'colsample_bytree': 0.6316117960058669, 'subsample': 0.7276949611448452, 'learning_rate': 0.014995813364192662, 'max_depth': 13, 'min_child_weight': 81, 'eval_metric': 'logloss'}. Best is trial 24 with value: 0.7970311530531542.\u001b[0m\n",
      "\u001b[32m[I 2021-11-14 14:17:51,007]\u001b[0m Trial 32 finished with value: 0.7969994140240304 and parameters: {'objective': 'binary:logistic', 'tree_method': 'gpu_hist', 'lambda': 0.001577810886755274, 'alpha': 0.00528070874937956, 'colsample_bytree': 0.6151609775745152, 'subsample': 0.6964072059873316, 'learning_rate': 0.017036061306861392, 'max_depth': 13, 'min_child_weight': 52, 'eval_metric': 'logloss'}. Best is trial 24 with value: 0.7970311530531542.\u001b[0m\n",
      "\u001b[32m[I 2021-11-14 14:21:23,759]\u001b[0m Trial 33 finished with value: 0.7955959518817866 and parameters: {'objective': 'binary:logistic', 'tree_method': 'gpu_hist', 'lambda': 0.0014426235965854272, 'alpha': 0.003078259065422486, 'colsample_bytree': 0.45014706422411743, 'subsample': 0.7983442534680546, 'learning_rate': 0.008446532683278855, 'max_depth': 13, 'min_child_weight': 21, 'eval_metric': 'logloss'}. Best is trial 24 with value: 0.7970311530531542.\u001b[0m\n",
      "\u001b[32m[I 2021-11-14 14:23:13,392]\u001b[0m Trial 34 finished with value: 0.7909754374932783 and parameters: {'objective': 'binary:logistic', 'tree_method': 'gpu_hist', 'lambda': 0.006414221112293465, 'alpha': 0.022872731259532868, 'colsample_bytree': 0.5825218320017971, 'subsample': 0.6932092026220792, 'learning_rate': 0.03575858343018175, 'max_depth': 13, 'min_child_weight': 49, 'eval_metric': 'logloss'}. Best is trial 24 with value: 0.7970311530531542.\u001b[0m\n",
      "\u001b[32m[I 2021-11-14 14:23:43,101]\u001b[0m Trial 35 finished with value: 0.7894964012297765 and parameters: {'objective': 'binary:logistic', 'tree_method': 'gpu_hist', 'lambda': 0.004661829486312073, 'alpha': 0.0021067609584418715, 'colsample_bytree': 0.32301742877355366, 'subsample': 0.6886845606103628, 'learning_rate': 0.020573278598611976, 'max_depth': 3, 'min_child_weight': 58, 'eval_metric': 'logloss'}. Best is trial 24 with value: 0.7970311530531542.\u001b[0m\n",
      "\u001b[32m[I 2021-11-14 14:25:46,717]\u001b[0m Trial 36 finished with value: 0.7967786354921325 and parameters: {'objective': 'binary:logistic', 'tree_method': 'gpu_hist', 'lambda': 0.02638835536299982, 'alpha': 0.017333778867707483, 'colsample_bytree': 0.686428871177515, 'subsample': 0.46608158611724265, 'learning_rate': 0.016607156032412734, 'max_depth': 11, 'min_child_weight': 27, 'eval_metric': 'logloss'}. Best is trial 24 with value: 0.7970311530531542.\u001b[0m\n",
      "\u001b[32m[I 2021-11-14 14:27:20,320]\u001b[0m Trial 37 finished with value: 0.793307777884293 and parameters: {'objective': 'binary:logistic', 'tree_method': 'gpu_hist', 'lambda': 0.3756371546250635, 'alpha': 0.0074493216082497735, 'colsample_bytree': 0.5368626891643743, 'subsample': 0.5864632730886943, 'learning_rate': 0.009511938525772484, 'max_depth': 15, 'min_child_weight': 157, 'eval_metric': 'logloss'}. Best is trial 24 with value: 0.7970311530531542.\u001b[0m\n",
      "\u001b[32m[I 2021-11-14 14:28:34,938]\u001b[0m Trial 38 finished with value: 0.79748002012175 and parameters: {'objective': 'binary:logistic', 'tree_method': 'gpu_hist', 'lambda': 0.0016603435780173734, 'alpha': 0.15287788601954605, 'colsample_bytree': 0.4088610631981912, 'subsample': 0.6799233304957526, 'learning_rate': 0.027849687155741893, 'max_depth': 13, 'min_child_weight': 178, 'eval_metric': 'logloss'}. Best is trial 38 with value: 0.79748002012175.\u001b[0m\n",
      "\u001b[32m[I 2021-11-14 14:29:36,930]\u001b[0m Trial 39 finished with value: 0.7966644024176166 and parameters: {'objective': 'binary:logistic', 'tree_method': 'gpu_hist', 'lambda': 0.0015359153707498333, 'alpha': 0.15544126521446158, 'colsample_bytree': 0.4266324669203091, 'subsample': 0.7136611424091559, 'learning_rate': 0.02836798461833251, 'max_depth': 9, 'min_child_weight': 192, 'eval_metric': 'logloss'}. Best is trial 38 with value: 0.79748002012175.\u001b[0m\n",
      "\u001b[32m[I 2021-11-14 14:31:15,499]\u001b[0m Trial 40 finished with value: 0.7875026882613898 and parameters: {'objective': 'binary:logistic', 'tree_method': 'gpu_hist', 'lambda': 0.013840203418458687, 'alpha': 0.33602131842644745, 'colsample_bytree': 0.3961299931042203, 'subsample': 0.7491079418117622, 'learning_rate': 0.006045920288241128, 'max_depth': 15, 'min_child_weight': 182, 'eval_metric': 'logloss'}. Best is trial 38 with value: 0.79748002012175.\u001b[0m\n",
      "\u001b[32m[I 2021-11-14 14:32:30,007]\u001b[0m Trial 41 finished with value: 0.7964668559501926 and parameters: {'objective': 'binary:logistic', 'tree_method': 'gpu_hist', 'lambda': 0.002787611378291956, 'alpha': 0.0776568221961038, 'colsample_bytree': 0.4793131342537108, 'subsample': 0.6642347313356302, 'learning_rate': 0.018409082118913383, 'max_depth': 13, 'min_child_weight': 235, 'eval_metric': 'logloss'}. Best is trial 38 with value: 0.79748002012175.\u001b[0m\n",
      "\u001b[32m[I 2021-11-14 14:33:57,845]\u001b[0m Trial 42 finished with value: 0.7941989661473038 and parameters: {'objective': 'binary:logistic', 'tree_method': 'gpu_hist', 'lambda': 0.0011100519168021996, 'alpha': 0.016246551795807123, 'colsample_bytree': 0.718865251190601, 'subsample': 0.6936514484865623, 'learning_rate': 0.03840851799084121, 'max_depth': 13, 'min_child_weight': 144, 'eval_metric': 'logloss'}. Best is trial 38 with value: 0.79748002012175.\u001b[0m\n",
      "\u001b[32m[I 2021-11-14 14:34:52,401]\u001b[0m Trial 43 finished with value: 0.7959732222269602 and parameters: {'objective': 'binary:logistic', 'tree_method': 'gpu_hist', 'lambda': 0.004088852809424005, 'alpha': 0.5838882407066612, 'colsample_bytree': 0.6486774846860699, 'subsample': 0.6606137383636564, 'learning_rate': 0.02461862082577712, 'max_depth': 7, 'min_child_weight': 209, 'eval_metric': 'logloss'}. Best is trial 38 with value: 0.79748002012175.\u001b[0m\n",
      "\u001b[32m[I 2021-11-14 14:37:19,193]\u001b[0m Trial 44 finished with value: 0.7715846612017613 and parameters: {'objective': 'binary:logistic', 'tree_method': 'gpu_hist', 'lambda': 0.001742365632489989, 'alpha': 0.009836792239917241, 'colsample_bytree': 0.301439510076795, 'subsample': 0.8172762866791464, 'learning_rate': 0.0011937107334120138, 'max_depth': 13, 'min_child_weight': 127, 'eval_metric': 'logloss'}. Best is trial 38 with value: 0.79748002012175.\u001b[0m\n",
      "\u001b[32m[I 2021-11-14 14:39:59,153]\u001b[0m Trial 45 finished with value: 0.797420398340401 and parameters: {'objective': 'binary:logistic', 'tree_method': 'gpu_hist', 'lambda': 0.07325923838507375, 'alpha': 0.13431193910985592, 'colsample_bytree': 0.36838862413335816, 'subsample': 0.8720225998132349, 'learning_rate': 0.014663058416713812, 'max_depth': 17, 'min_child_weight': 41, 'eval_metric': 'logloss'}. Best is trial 38 with value: 0.79748002012175.\u001b[0m\n",
      "\u001b[32m[I 2021-11-14 14:41:21,043]\u001b[0m Trial 46 finished with value: 0.7957138168032287 and parameters: {'objective': 'binary:logistic', 'tree_method': 'gpu_hist', 'lambda': 0.053269309981013695, 'alpha': 0.13499978974065402, 'colsample_bytree': 0.36750885356271407, 'subsample': 0.9520015682523468, 'learning_rate': 0.01446258948365901, 'max_depth': 17, 'min_child_weight': 262, 'eval_metric': 'logloss'}. Best is trial 38 with value: 0.79748002012175.\u001b[0m\n",
      "\u001b[32m[I 2021-11-14 14:45:02,207]\u001b[0m Trial 47 finished with value: 0.7944738608014779 and parameters: {'objective': 'binary:logistic', 'tree_method': 'gpu_hist', 'lambda': 0.09076525616539527, 'alpha': 1.3298511119491592, 'colsample_bytree': 0.34244469512634074, 'subsample': 0.884641411485701, 'learning_rate': 0.021184567329327095, 'max_depth': 17, 'min_child_weight': 15, 'eval_metric': 'logloss'}. Best is trial 38 with value: 0.79748002012175.\u001b[0m\n",
      "\u001b[32m[I 2021-11-14 14:47:18,786]\u001b[0m Trial 48 finished with value: 0.793378621164238 and parameters: {'objective': 'binary:logistic', 'tree_method': 'gpu_hist', 'lambda': 0.028309828547689892, 'alpha': 0.21904240327239072, 'colsample_bytree': 0.39638494877491304, 'subsample': 0.8711916057639651, 'learning_rate': 0.029331028275132922, 'max_depth': 17, 'min_child_weight': 40, 'eval_metric': 'logloss'}. Best is trial 38 with value: 0.79748002012175.\u001b[0m\n",
      "\u001b[32m[I 2021-11-14 14:49:57,156]\u001b[0m Trial 49 finished with value: 0.7923115207706198 and parameters: {'objective': 'binary:logistic', 'tree_method': 'gpu_hist', 'lambda': 0.20534969110930656, 'alpha': 0.4807418531414054, 'colsample_bytree': 0.5051221579018457, 'subsample': 0.8223999589261628, 'learning_rate': 0.0067613576055214, 'max_depth': 20, 'min_child_weight': 89, 'eval_metric': 'logloss'}. Best is trial 38 with value: 0.79748002012175.\u001b[0m\n",
      "\u001b[32m[I 2021-11-14 14:52:38,952]\u001b[0m Trial 50 finished with value: 0.7862412190437593 and parameters: {'objective': 'binary:logistic', 'tree_method': 'gpu_hist', 'lambda': 1.2543550003058341, 'alpha': 0.09721849600784385, 'colsample_bytree': 0.4666811964975097, 'subsample': 0.7875753833572492, 'learning_rate': 0.04104488051886982, 'max_depth': 15, 'min_child_weight': 17, 'eval_metric': 'logloss'}. Best is trial 38 with value: 0.79748002012175.\u001b[0m\n",
      "\u001b[32m[I 2021-11-14 14:55:18,724]\u001b[0m Trial 51 finished with value: 0.7960632222080796 and parameters: {'objective': 'binary:logistic', 'tree_method': 'gpu_hist', 'lambda': 0.0036888719710992074, 'alpha': 0.0046457529926710985, 'colsample_bytree': 0.5941138945735541, 'subsample': 0.7498729315043036, 'learning_rate': 0.0178810424422762, 'max_depth': 17, 'min_child_weight': 51, 'eval_metric': 'logloss'}. Best is trial 38 with value: 0.79748002012175.\u001b[0m\n"
     ]
    },
    {
     "name": "stdout",
     "output_type": "stream",
     "text": [
      "CPU times: user 1h 45min 35s, sys: 2.28 s, total: 1h 45min 38s\n",
      "Wall time: 1h 38min 21s\n"
     ]
    }
   ],
   "source": [
    "%%time\n",
    "study.optimize(objective, n_trials=50)"
   ]
  },
  {
   "cell_type": "code",
   "execution_count": 11,
   "id": "a51f3059-fe95-4c8f-aa68-d37467c36c7f",
   "metadata": {},
   "outputs": [
    {
     "data": {
      "text/plain": [
       "{'objective': 'binary:logistic',\n",
       " 'tree_method': 'gpu_hist',\n",
       " 'lambda': 0.0016603435780173734,\n",
       " 'alpha': 0.15287788601954605,\n",
       " 'colsample_bytree': 0.4088610631981912,\n",
       " 'subsample': 0.6799233304957526,\n",
       " 'learning_rate': 0.027849687155741893,\n",
       " 'max_depth': 13,\n",
       " 'min_child_weight': 178,\n",
       " 'eval_metric': 'logloss'}"
      ]
     },
     "execution_count": 11,
     "metadata": {},
     "output_type": "execute_result"
    }
   ],
   "source": [
    "study.best_trial.params"
   ]
  },
  {
   "cell_type": "code",
   "execution_count": null,
   "id": "4ac27eea-fb37-4a70-80d5-0cf77347ac15",
   "metadata": {},
   "outputs": [],
   "source": []
  }
 ],
 "metadata": {
  "kernelspec": {
   "display_name": "Python 3 (ipykernel)",
   "language": "python",
   "name": "python3"
  },
  "language_info": {
   "codemirror_mode": {
    "name": "ipython",
    "version": 3
   },
   "file_extension": ".py",
   "mimetype": "text/x-python",
   "name": "python",
   "nbconvert_exporter": "python",
   "pygments_lexer": "ipython3",
   "version": "3.8.10"
  }
 },
 "nbformat": 4,
 "nbformat_minor": 5
}
