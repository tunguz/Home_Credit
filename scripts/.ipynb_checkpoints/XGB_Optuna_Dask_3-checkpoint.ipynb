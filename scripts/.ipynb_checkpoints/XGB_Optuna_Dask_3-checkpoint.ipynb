{
 "cells": [
  {
   "cell_type": "code",
   "execution_count": 6,
   "id": "150f1380-cbe6-4519-9558-8a709b67337a",
   "metadata": {},
   "outputs": [],
   "source": [
    "from dask.distributed import Client\n",
    "from dask_cuda import LocalCUDACluster\n",
    "from dask import dataframe as dd\n",
    "import pandas as pd\n",
    "import numpy as np\n",
    "import xgboost as xgb\n",
    "from sklearn.model_selection import KFold, train_test_split\n",
    "from sklearn.metrics import roc_auc_score\n",
    "from sklearn.preprocessing import StandardScaler\n",
    "from sklearn.preprocessing import LabelEncoder\n",
    "import optuna\n",
    "import gc"
   ]
  },
  {
   "cell_type": "code",
   "execution_count": 2,
   "id": "ec4a5014-51a1-4dd9-b276-d6116fcd7c38",
   "metadata": {},
   "outputs": [
    {
     "name": "stdout",
     "output_type": "stream",
     "text": [
      "Sun Nov 14 14:59:32 2021       \n",
      "+-----------------------------------------------------------------------------+\n",
      "| NVIDIA-SMI 470.57.02    Driver Version: 470.57.02    CUDA Version: 11.4     |\n",
      "|-------------------------------+----------------------+----------------------+\n",
      "| GPU  Name        Persistence-M| Bus-Id        Disp.A | Volatile Uncorr. ECC |\n",
      "| Fan  Temp  Perf  Pwr:Usage/Cap|         Memory-Usage | GPU-Util  Compute M. |\n",
      "|                               |                      |               MIG M. |\n",
      "|===============================+======================+======================|\n",
      "|   0  NVIDIA TITAN RTX    On   | 00000000:09:00.0 Off |                  N/A |\n",
      "| 41%   47C    P8    29W / 280W |      6MiB / 24220MiB |      0%      Default |\n",
      "|                               |                      |                  N/A |\n",
      "+-------------------------------+----------------------+----------------------+\n",
      "|   1  NVIDIA TITAN RTX    On   | 00000000:41:00.0  On |                  N/A |\n",
      "| 41%   46C    P8    33W / 280W |    344MiB / 24217MiB |      2%      Default |\n",
      "|                               |                      |                  N/A |\n",
      "+-------------------------------+----------------------+----------------------+\n",
      "                                                                               \n",
      "+-----------------------------------------------------------------------------+\n",
      "| Processes:                                                                  |\n",
      "|  GPU   GI   CI        PID   Type   Process name                  GPU Memory |\n",
      "|        ID   ID                                                   Usage      |\n",
      "|=============================================================================|\n",
      "|    0   N/A  N/A      1230      G   /usr/lib/xorg/Xorg                  4MiB |\n",
      "|    1   N/A  N/A      1230      G   /usr/lib/xorg/Xorg                165MiB |\n",
      "|    1   N/A  N/A      1488      G   /usr/bin/gnome-shell               27MiB |\n",
      "|    1   N/A  N/A      2053      G   /usr/lib/firefox/firefox          133MiB |\n",
      "|    1   N/A  N/A     10155      G   ...mviewer/tv_bin/TeamViewer       12MiB |\n",
      "+-----------------------------------------------------------------------------+\n"
     ]
    }
   ],
   "source": [
    "!nvidia-smi"
   ]
  },
  {
   "cell_type": "code",
   "execution_count": 3,
   "id": "b38205a5-f6bc-40da-8235-d54d1eacf50c",
   "metadata": {},
   "outputs": [],
   "source": [
    "train_x = dd.read_csv('../input/xgtrain.csv')\n",
    "test_x = dd.read_csv('../input/xgval.csv')"
   ]
  },
  {
   "cell_type": "code",
   "execution_count": 4,
   "id": "7f67c8cb-e31b-4c97-9cff-dfc1606cdf38",
   "metadata": {},
   "outputs": [],
   "source": [
    "train_y = train_x['target']\n",
    "train_x = train_x[train_x.columns.difference(['target'])]\n",
    "\n",
    "test_y = test_x['target']\n",
    "test_x = test_x[test_x.columns.difference(['target'])]"
   ]
  },
  {
   "cell_type": "code",
   "execution_count": 8,
   "id": "9102dcb4-735d-4241-b69d-88a4fe4105c0",
   "metadata": {},
   "outputs": [],
   "source": [
    "train_x = train_x.replace([np.inf, -np.inf], np.nan)\n",
    "test_x = test_x.replace([np.inf, -np.inf], np.nan)"
   ]
  },
  {
   "cell_type": "code",
   "execution_count": 9,
   "id": "abdedb1f-a4f4-4ef0-8083-85fa5afd6262",
   "metadata": {},
   "outputs": [
    {
     "name": "stderr",
     "output_type": "stream",
     "text": [
      "distributed.preloading - INFO - Import preload module: dask_cuda.initialize\n",
      "distributed.preloading - INFO - Import preload module: dask_cuda.initialize\n"
     ]
    }
   ],
   "source": [
    "cluster = LocalCUDACluster(n_workers=2)\n",
    "client = Client(cluster)"
   ]
  },
  {
   "cell_type": "code",
   "execution_count": 10,
   "id": "2287878c-b497-4a8e-90c5-632b20874914",
   "metadata": {},
   "outputs": [],
   "source": [
    "dtrain = xgb.dask.DaskDMatrix(client, train_x, train_y)"
   ]
  },
  {
   "cell_type": "code",
   "execution_count": 11,
   "id": "a531ff3b-8c28-4701-b083-6c9858102126",
   "metadata": {},
   "outputs": [],
   "source": [
    "dtest = xgb.dask.DaskDMatrix(client, test_x, test_y)"
   ]
  },
  {
   "cell_type": "code",
   "execution_count": 12,
   "id": "d4b6744c-1c55-4271-abe4-859962127575",
   "metadata": {},
   "outputs": [],
   "source": [
    "num_round = 1000"
   ]
  },
  {
   "cell_type": "code",
   "execution_count": 13,
   "id": "625172e2-a5fc-4e7a-b38e-c31d4905049e",
   "metadata": {},
   "outputs": [],
   "source": [
    "def objective(trial):\n",
    "        \n",
    "    params = {\n",
    "        'objective': trial.suggest_categorical('objective',['binary:logistic']), \n",
    "        'tree_method': trial.suggest_categorical('tree_method',['gpu_hist']),  # 'gpu_hist','hist'\n",
    "        'lambda': trial.suggest_loguniform('lambda',1e-3,10.0),\n",
    "        'alpha': trial.suggest_loguniform('alpha',1e-3,10.0),\n",
    "        'colsample_bytree': trial.suggest_uniform('colsample_bytree', 0.3,1.0),\n",
    "        'subsample': trial.suggest_uniform('subsample', 0.4, 1.0),\n",
    "        'learning_rate': trial.suggest_loguniform('learning_rate', 0.001,0.1),\n",
    "        #'n_estimators': trial.suggest_categorical('n_estimators', [1000]),\n",
    "        'max_depth': trial.suggest_categorical('max_depth', [3,5,7,9,11,13,15,17,20]),\n",
    "        #'random_state': trial.suggest_categorical('random_state', [24,48,2020]),\n",
    "        'min_child_weight': trial.suggest_int('min_child_weight', 1,300),\n",
    "        'eval_metric': trial.suggest_categorical('eval_metric',['logloss']),\n",
    "\n",
    "    }\n",
    "\n",
    "    output = xgb.dask.train(client, params, dtrain, num_round)\n",
    "    \n",
    "    booster = output['booster']  # booster is the trained model\n",
    "    booster.set_param({'predictor': 'gpu_predictor'})\n",
    "\n",
    "    predictions = xgb.dask.predict(client, booster, dtest)\n",
    "    \n",
    "    predictions = predictions.compute()\n",
    "\n",
    "    roc = roc_auc_score(test_y, predictions)\n",
    "    \n",
    "    return roc"
   ]
  },
  {
   "cell_type": "code",
   "execution_count": 14,
   "id": "1c1d5c6e-c231-4ff2-aa3b-8f6b61408dba",
   "metadata": {},
   "outputs": [
    {
     "name": "stderr",
     "output_type": "stream",
     "text": [
      "\u001b[32m[I 2021-11-14 15:01:40,681]\u001b[0m A new study created in memory with name: no-name-64bf40ca-f6c9-4d64-82c0-363b969913bd\u001b[0m\n"
     ]
    }
   ],
   "source": [
    "study = optuna.create_study(direction='maximize')"
   ]
  },
  {
   "cell_type": "code",
   "execution_count": 15,
   "id": "39e5f448-2b09-4f1f-89f0-db56c900f252",
   "metadata": {},
   "outputs": [
    {
     "name": "stderr",
     "output_type": "stream",
     "text": [
      "[15:01:41] task [xgboost.dask]:tcp://192.168.1.200:46877 got new rank 0\n",
      "[15:01:41] task [xgboost.dask]:tcp://192.168.1.200:35873 got new rank 1\n",
      "\u001b[32m[I 2021-11-14 15:05:53,304]\u001b[0m Trial 0 finished with value: 0.7900731755704626 and parameters: {'objective': 'binary:logistic', 'tree_method': 'gpu_hist', 'lambda': 0.041089615489132994, 'alpha': 0.00494036533080873, 'colsample_bytree': 0.9035315483013782, 'subsample': 0.597568483224114, 'learning_rate': 0.025070904873936418, 'max_depth': 20, 'min_child_weight': 30, 'eval_metric': 'logloss'}. Best is trial 0 with value: 0.7900731755704626.\u001b[0m\n",
      "[15:05:53] task [xgboost.dask]:tcp://192.168.1.200:35873 got new rank 0\n",
      "[15:05:53] task [xgboost.dask]:tcp://192.168.1.200:46877 got new rank 1\n",
      "\u001b[32m[I 2021-11-14 15:09:50,526]\u001b[0m Trial 1 finished with value: 0.7939551924492353 and parameters: {'objective': 'binary:logistic', 'tree_method': 'gpu_hist', 'lambda': 0.018860800189022853, 'alpha': 0.817203366904566, 'colsample_bytree': 0.847225587363762, 'subsample': 0.4965824666826849, 'learning_rate': 0.008399998214354339, 'max_depth': 11, 'min_child_weight': 12, 'eval_metric': 'logloss'}. Best is trial 1 with value: 0.7939551924492353.\u001b[0m\n"
     ]
    },
    {
     "name": "stdout",
     "output_type": "stream",
     "text": [
      "CPU times: user 15.7 s, sys: 4.34 s, total: 20.1 s\n",
      "Wall time: 8min 8s\n"
     ]
    }
   ],
   "source": [
    "%%time\n",
    "study.optimize(objective, n_trials=2)"
   ]
  },
  {
   "cell_type": "code",
   "execution_count": 16,
   "id": "0a8d7cf2-c69e-4738-b669-b7db5f7c3850",
   "metadata": {},
   "outputs": [
    {
     "name": "stderr",
     "output_type": "stream",
     "text": [
      "[15:09:50] task [xgboost.dask]:tcp://192.168.1.200:35873 got new rank 0\n",
      "[15:09:50] task [xgboost.dask]:tcp://192.168.1.200:46877 got new rank 1\n",
      "\u001b[32m[I 2021-11-14 15:10:26,968]\u001b[0m Trial 2 finished with value: 0.7482935556144774 and parameters: {'objective': 'binary:logistic', 'tree_method': 'gpu_hist', 'lambda': 0.004544023309469089, 'alpha': 0.004342151485300922, 'colsample_bytree': 0.6045626423557863, 'subsample': 0.5213778810890927, 'learning_rate': 0.0011009658611694805, 'max_depth': 3, 'min_child_weight': 262, 'eval_metric': 'logloss'}. Best is trial 1 with value: 0.7939551924492353.\u001b[0m\n",
      "[15:10:26] task [xgboost.dask]:tcp://192.168.1.200:35873 got new rank 0\n",
      "[15:10:26] task [xgboost.dask]:tcp://192.168.1.200:46877 got new rank 1\n",
      "\u001b[32m[I 2021-11-14 15:11:43,607]\u001b[0m Trial 3 finished with value: 0.7747693759389768 and parameters: {'objective': 'binary:logistic', 'tree_method': 'gpu_hist', 'lambda': 7.006770996307279, 'alpha': 0.016574919358730015, 'colsample_bytree': 0.6809303154339557, 'subsample': 0.7464540846969692, 'learning_rate': 0.0033814646809417915, 'max_depth': 7, 'min_child_weight': 144, 'eval_metric': 'logloss'}. Best is trial 1 with value: 0.7939551924492353.\u001b[0m\n",
      "[15:11:43] task [xgboost.dask]:tcp://192.168.1.200:35873 got new rank 0\n",
      "[15:11:43] task [xgboost.dask]:tcp://192.168.1.200:46877 got new rank 1\n",
      "\u001b[32m[I 2021-11-14 15:12:54,426]\u001b[0m Trial 4 finished with value: 0.7811763582475182 and parameters: {'objective': 'binary:logistic', 'tree_method': 'gpu_hist', 'lambda': 0.4583115645945909, 'alpha': 0.001071991808923997, 'colsample_bytree': 0.6517363798104631, 'subsample': 0.6862952777016114, 'learning_rate': 0.08312988959790914, 'max_depth': 9, 'min_child_weight': 74, 'eval_metric': 'logloss'}. Best is trial 1 with value: 0.7939551924492353.\u001b[0m\n",
      "[15:12:54] task [xgboost.dask]:tcp://192.168.1.200:35873 got new rank 0\n",
      "[15:12:54] task [xgboost.dask]:tcp://192.168.1.200:46877 got new rank 1\n",
      "\u001b[32m[I 2021-11-14 15:14:23,348]\u001b[0m Trial 5 finished with value: 0.7851870340606681 and parameters: {'objective': 'binary:logistic', 'tree_method': 'gpu_hist', 'lambda': 1.5133898106792083, 'alpha': 0.0756586133311204, 'colsample_bytree': 0.701140010497689, 'subsample': 0.7573134000579032, 'learning_rate': 0.00608619853199548, 'max_depth': 17, 'min_child_weight': 276, 'eval_metric': 'logloss'}. Best is trial 1 with value: 0.7939551924492353.\u001b[0m\n",
      "[15:14:23] task [xgboost.dask]:tcp://192.168.1.200:35873 got new rank 0\n",
      "[15:14:23] task [xgboost.dask]:tcp://192.168.1.200:46877 got new rank 1\n",
      "\u001b[32m[I 2021-11-14 15:16:12,508]\u001b[0m Trial 6 finished with value: 0.7977266704420776 and parameters: {'objective': 'binary:logistic', 'tree_method': 'gpu_hist', 'lambda': 0.008416757023168712, 'alpha': 0.017666476922893744, 'colsample_bytree': 0.8709207057046353, 'subsample': 0.8281737773756209, 'learning_rate': 0.02395255427503995, 'max_depth': 15, 'min_child_weight': 155, 'eval_metric': 'logloss'}. Best is trial 6 with value: 0.7977266704420776.\u001b[0m\n",
      "[15:16:12] task [xgboost.dask]:tcp://192.168.1.200:35873 got new rank 0\n",
      "[15:16:12] task [xgboost.dask]:tcp://192.168.1.200:46877 got new rank 1\n",
      "\u001b[32m[I 2021-11-14 15:17:03,296]\u001b[0m Trial 7 finished with value: 0.7757856215696725 and parameters: {'objective': 'binary:logistic', 'tree_method': 'gpu_hist', 'lambda': 2.5631450172833565, 'alpha': 0.504047178436535, 'colsample_bytree': 0.5256417155874474, 'subsample': 0.5032959470974737, 'learning_rate': 0.004492073930516562, 'max_depth': 5, 'min_child_weight': 86, 'eval_metric': 'logloss'}. Best is trial 6 with value: 0.7977266704420776.\u001b[0m\n",
      "[15:17:03] task [xgboost.dask]:tcp://192.168.1.200:35873 got new rank 0\n",
      "[15:17:03] task [xgboost.dask]:tcp://192.168.1.200:46877 got new rank 1\n",
      "\u001b[32m[I 2021-11-14 15:24:59,158]\u001b[0m Trial 8 finished with value: 0.7789491561735858 and parameters: {'objective': 'binary:logistic', 'tree_method': 'gpu_hist', 'lambda': 0.2801731915462126, 'alpha': 0.03572145438983396, 'colsample_bytree': 0.7397535355044791, 'subsample': 0.7674644695687735, 'learning_rate': 0.0012236773920195412, 'max_depth': 20, 'min_child_weight': 46, 'eval_metric': 'logloss'}. Best is trial 6 with value: 0.7977266704420776.\u001b[0m\n",
      "[15:24:59] task [xgboost.dask]:tcp://192.168.1.200:35873 got new rank 0\n",
      "[15:24:59] task [xgboost.dask]:tcp://192.168.1.200:46877 got new rank 1\n",
      "\u001b[32m[I 2021-11-14 15:26:02,980]\u001b[0m Trial 9 finished with value: 0.7894995806543786 and parameters: {'objective': 'binary:logistic', 'tree_method': 'gpu_hist', 'lambda': 0.007391446889510596, 'alpha': 0.46974844144825, 'colsample_bytree': 0.7055350694755915, 'subsample': 0.44238886345464523, 'learning_rate': 0.008774691400470791, 'max_depth': 7, 'min_child_weight': 173, 'eval_metric': 'logloss'}. Best is trial 6 with value: 0.7977266704420776.\u001b[0m\n",
      "[15:26:03] task [xgboost.dask]:tcp://192.168.1.200:46877 got new rank 0\n",
      "[15:26:03] task [xgboost.dask]:tcp://192.168.1.200:35873 got new rank 1\n",
      "\u001b[32m[I 2021-11-14 15:27:16,985]\u001b[0m Trial 10 finished with value: 0.79725149341225 and parameters: {'objective': 'binary:logistic', 'tree_method': 'gpu_hist', 'lambda': 0.001782964722884735, 'alpha': 3.369541381785024, 'colsample_bytree': 0.3338211300214369, 'subsample': 0.9405184633456323, 'learning_rate': 0.03077054952610107, 'max_depth': 15, 'min_child_weight': 200, 'eval_metric': 'logloss'}. Best is trial 6 with value: 0.7977266704420776.\u001b[0m\n",
      "[15:27:17] task [xgboost.dask]:tcp://192.168.1.200:35873 got new rank 0\n",
      "[15:27:17] task [xgboost.dask]:tcp://192.168.1.200:46877 got new rank 1\n",
      "\u001b[32m[I 2021-11-14 15:28:30,878]\u001b[0m Trial 11 finished with value: 0.7973281932457479 and parameters: {'objective': 'binary:logistic', 'tree_method': 'gpu_hist', 'lambda': 0.0011001454071209035, 'alpha': 6.3101868749042955, 'colsample_bytree': 0.32176857741900794, 'subsample': 0.9604573519070033, 'learning_rate': 0.028253936038752363, 'max_depth': 15, 'min_child_weight': 209, 'eval_metric': 'logloss'}. Best is trial 6 with value: 0.7977266704420776.\u001b[0m\n",
      "[15:28:30] task [xgboost.dask]:tcp://192.168.1.200:46877 got new rank 0\n",
      "[15:28:30] task [xgboost.dask]:tcp://192.168.1.200:35873 got new rank 1\n",
      "\u001b[32m[I 2021-11-14 15:30:11,343]\u001b[0m Trial 12 finished with value: 0.795704558176292 and parameters: {'objective': 'binary:logistic', 'tree_method': 'gpu_hist', 'lambda': 0.002424603846725277, 'alpha': 8.583013618768838, 'colsample_bytree': 0.98751905264433, 'subsample': 0.9934423891810452, 'learning_rate': 0.028882080188401913, 'max_depth': 15, 'min_child_weight': 227, 'eval_metric': 'logloss'}. Best is trial 6 with value: 0.7977266704420776.\u001b[0m\n",
      "[15:30:11] task [xgboost.dask]:tcp://192.168.1.200:35873 got new rank 0\n",
      "[15:30:11] task [xgboost.dask]:tcp://192.168.1.200:46877 got new rank 1\n",
      "\u001b[32m[I 2021-11-14 15:31:29,188]\u001b[0m Trial 13 finished with value: 0.7851061644607871 and parameters: {'objective': 'binary:logistic', 'tree_method': 'gpu_hist', 'lambda': 0.0011449968561047007, 'alpha': 0.16971983275657795, 'colsample_bytree': 0.31506520527940085, 'subsample': 0.8631797816902649, 'learning_rate': 0.07270317189570832, 'max_depth': 15, 'min_child_weight': 132, 'eval_metric': 'logloss'}. Best is trial 6 with value: 0.7977266704420776.\u001b[0m\n",
      "[15:31:29] task [xgboost.dask]:tcp://192.168.1.200:46877 got new rank 0\n",
      "[15:31:29] task [xgboost.dask]:tcp://192.168.1.200:35873 got new rank 1\n",
      "\u001b[32m[I 2021-11-14 15:32:49,356]\u001b[0m Trial 14 finished with value: 0.79592413974834 and parameters: {'objective': 'binary:logistic', 'tree_method': 'gpu_hist', 'lambda': 0.01225879903246241, 'alpha': 0.012379226711405414, 'colsample_bytree': 0.4551866726889213, 'subsample': 0.8579573917552524, 'learning_rate': 0.015728063104682458, 'max_depth': 13, 'min_child_weight': 218, 'eval_metric': 'logloss'}. Best is trial 6 with value: 0.7977266704420776.\u001b[0m\n",
      "[15:32:49] task [xgboost.dask]:tcp://192.168.1.200:35873 got new rank 0\n",
      "[15:32:49] task [xgboost.dask]:tcp://192.168.1.200:46877 got new rank 1\n",
      "\u001b[32m[I 2021-11-14 15:34:38,873]\u001b[0m Trial 15 finished with value: 0.7918912257748774 and parameters: {'objective': 'binary:logistic', 'tree_method': 'gpu_hist', 'lambda': 0.04531476881894309, 'alpha': 1.7887328125860764, 'colsample_bytree': 0.8199381614022272, 'subsample': 0.8710891992459273, 'learning_rate': 0.04761862762993614, 'max_depth': 15, 'min_child_weight': 121, 'eval_metric': 'logloss'}. Best is trial 6 with value: 0.7977266704420776.\u001b[0m\n",
      "[15:34:38] task [xgboost.dask]:tcp://192.168.1.200:46877 got new rank 0\n",
      "[15:34:38] task [xgboost.dask]:tcp://192.168.1.200:35873 got new rank 1\n",
      "\u001b[32m[I 2021-11-14 15:36:06,657]\u001b[0m Trial 16 finished with value: 0.7968055546204308 and parameters: {'objective': 'binary:logistic', 'tree_method': 'gpu_hist', 'lambda': 0.00407400023699548, 'alpha': 0.16288578674051124, 'colsample_bytree': 0.430691027677084, 'subsample': 0.9985461464132391, 'learning_rate': 0.020653598817951434, 'max_depth': 15, 'min_child_weight': 179, 'eval_metric': 'logloss'}. Best is trial 6 with value: 0.7977266704420776.\u001b[0m\n",
      "[15:36:06] task [xgboost.dask]:tcp://192.168.1.200:35873 got new rank 0\n",
      "[15:36:06] task [xgboost.dask]:tcp://192.168.1.200:46877 got new rank 1\n",
      "\u001b[32m[I 2021-11-14 15:37:18,002]\u001b[0m Trial 17 finished with value: 0.7947462902883415 and parameters: {'objective': 'binary:logistic', 'tree_method': 'gpu_hist', 'lambda': 0.001012995532015804, 'alpha': 0.054098642340923486, 'colsample_bytree': 0.5571006095517312, 'subsample': 0.9163503934146021, 'learning_rate': 0.01388304567398137, 'max_depth': 9, 'min_child_weight': 243, 'eval_metric': 'logloss'}. Best is trial 6 with value: 0.7977266704420776.\u001b[0m\n",
      "[15:37:18] task [xgboost.dask]:tcp://192.168.1.200:46877 got new rank 0\n",
      "[15:37:18] task [xgboost.dask]:tcp://192.168.1.200:35873 got new rank 1\n",
      "\u001b[32m[I 2021-11-14 15:38:47,756]\u001b[0m Trial 18 finished with value: 0.7924872779376753 and parameters: {'objective': 'binary:logistic', 'tree_method': 'gpu_hist', 'lambda': 0.019828275029844532, 'alpha': 0.002368378092097224, 'colsample_bytree': 0.7952573247197985, 'subsample': 0.8227625105042977, 'learning_rate': 0.04332190136046024, 'max_depth': 11, 'min_child_weight': 103, 'eval_metric': 'logloss'}. Best is trial 6 with value: 0.7977266704420776.\u001b[0m\n",
      "[15:38:47] task [xgboost.dask]:tcp://192.168.1.200:35873 got new rank 0\n",
      "[15:38:47] task [xgboost.dask]:tcp://192.168.1.200:46877 got new rank 1\n",
      "\u001b[32m[I 2021-11-14 15:40:17,686]\u001b[0m Trial 19 finished with value: 0.7907051204980551 and parameters: {'objective': 'binary:logistic', 'tree_method': 'gpu_hist', 'lambda': 0.16502307861892396, 'alpha': 0.013196836209869667, 'colsample_bytree': 0.9249470551564821, 'subsample': 0.6202206528565807, 'learning_rate': 0.052405257838486104, 'max_depth': 17, 'min_child_weight': 180, 'eval_metric': 'logloss'}. Best is trial 6 with value: 0.7977266704420776.\u001b[0m\n",
      "[15:40:17] task [xgboost.dask]:tcp://192.168.1.200:35873 got new rank 0\n",
      "[15:40:17] task [xgboost.dask]:tcp://192.168.1.200:46877 got new rank 1\n",
      "\u001b[32m[I 2021-11-14 15:40:52,779]\u001b[0m Trial 20 finished with value: 0.7852224690595675 and parameters: {'objective': 'binary:logistic', 'tree_method': 'gpu_hist', 'lambda': 0.006599756971036387, 'alpha': 3.2586828817184172, 'colsample_bytree': 0.40334092573420943, 'subsample': 0.9454221557932955, 'learning_rate': 0.015694773273197064, 'max_depth': 3, 'min_child_weight': 294, 'eval_metric': 'logloss'}. Best is trial 6 with value: 0.7977266704420776.\u001b[0m\n",
      "[15:40:52] task [xgboost.dask]:tcp://192.168.1.200:46877 got new rank 0\n",
      "[15:40:52] task [xgboost.dask]:tcp://192.168.1.200:35873 got new rank 1\n",
      "\u001b[32m[I 2021-11-14 15:42:06,086]\u001b[0m Trial 21 finished with value: 0.7975617268810502 and parameters: {'objective': 'binary:logistic', 'tree_method': 'gpu_hist', 'lambda': 0.0019257712768046495, 'alpha': 8.209506561671098, 'colsample_bytree': 0.3055621998481159, 'subsample': 0.9288417092254249, 'learning_rate': 0.027592558942768842, 'max_depth': 15, 'min_child_weight': 204, 'eval_metric': 'logloss'}. Best is trial 6 with value: 0.7977266704420776.\u001b[0m\n",
      "[15:42:06] task [xgboost.dask]:tcp://192.168.1.200:35873 got new rank 0\n",
      "[15:42:06] task [xgboost.dask]:tcp://192.168.1.200:46877 got new rank 1\n",
      "\u001b[32m[I 2021-11-14 15:43:26,078]\u001b[0m Trial 22 finished with value: 0.7953510061605314 and parameters: {'objective': 'binary:logistic', 'tree_method': 'gpu_hist', 'lambda': 0.004308515193822351, 'alpha': 8.120133800041382, 'colsample_bytree': 0.3677548367816333, 'subsample': 0.8150590104646214, 'learning_rate': 0.03823489815537895, 'max_depth': 15, 'min_child_weight': 162, 'eval_metric': 'logloss'}. Best is trial 6 with value: 0.7977266704420776.\u001b[0m\n",
      "[15:43:26] task [xgboost.dask]:tcp://192.168.1.200:35873 got new rank 0\n",
      "[15:43:26] task [xgboost.dask]:tcp://192.168.1.200:46877 got new rank 1\n",
      "\u001b[32m[I 2021-11-14 15:44:51,243]\u001b[0m Trial 23 finished with value: 0.7970527571097368 and parameters: {'objective': 'binary:logistic', 'tree_method': 'gpu_hist', 'lambda': 0.002218521906097025, 'alpha': 1.5041160400026967, 'colsample_bytree': 0.5272879382649631, 'subsample': 0.9126792394133076, 'learning_rate': 0.021358306634800605, 'max_depth': 15, 'min_child_weight': 203, 'eval_metric': 'logloss'}. Best is trial 6 with value: 0.7977266704420776.\u001b[0m\n",
      "[15:44:51] task [xgboost.dask]:tcp://192.168.1.200:46877 got new rank 0\n",
      "[15:44:51] task [xgboost.dask]:tcp://192.168.1.200:35873 got new rank 1\n",
      "\u001b[32m[I 2021-11-14 15:45:36,535]\u001b[0m Trial 24 finished with value: 0.7887620806111848 and parameters: {'objective': 'binary:logistic', 'tree_method': 'gpu_hist', 'lambda': 0.06000684183567758, 'alpha': 3.921865271736422, 'colsample_bytree': 0.4664854988907375, 'subsample': 0.9661136461349418, 'learning_rate': 0.011981450073977098, 'max_depth': 5, 'min_child_weight': 240, 'eval_metric': 'logloss'}. Best is trial 6 with value: 0.7977266704420776.\u001b[0m\n",
      "[15:45:36] task [xgboost.dask]:tcp://192.168.1.200:35873 got new rank 0\n",
      "[15:45:36] task [xgboost.dask]:tcp://192.168.1.200:46877 got new rank 1\n",
      "\u001b[32m[I 2021-11-14 15:46:48,758]\u001b[0m Trial 25 finished with value: 0.7926129890021832 and parameters: {'objective': 'binary:logistic', 'tree_method': 'gpu_hist', 'lambda': 0.013575534394997571, 'alpha': 0.22354793963852673, 'colsample_bytree': 0.35502216605281456, 'subsample': 0.8930420052574911, 'learning_rate': 0.057624371330930936, 'max_depth': 15, 'min_child_weight': 199, 'eval_metric': 'logloss'}. Best is trial 6 with value: 0.7977266704420776.\u001b[0m\n",
      "[15:46:48] task [xgboost.dask]:tcp://192.168.1.200:35873 got new rank 0\n",
      "[15:46:48] task [xgboost.dask]:tcp://192.168.1.200:46877 got new rank 1\n",
      "\u001b[32m[I 2021-11-14 15:48:06,435]\u001b[0m Trial 26 finished with value: 0.7967508133003756 and parameters: {'objective': 'binary:logistic', 'tree_method': 'gpu_hist', 'lambda': 0.0021629796947863563, 'alpha': 0.027385264165974532, 'colsample_bytree': 0.30294783873991243, 'subsample': 0.8067998606768463, 'learning_rate': 0.03482891706842179, 'max_depth': 15, 'min_child_weight': 147, 'eval_metric': 'logloss'}. Best is trial 6 with value: 0.7977266704420776.\u001b[0m\n",
      "[15:48:06] task [xgboost.dask]:tcp://192.168.1.200:46877 got new rank 0\n",
      "[15:48:06] task [xgboost.dask]:tcp://192.168.1.200:35873 got new rank 1\n",
      "\u001b[32m[I 2021-11-14 15:49:11,266]\u001b[0m Trial 27 finished with value: 0.7876638450119388 and parameters: {'objective': 'binary:logistic', 'tree_method': 'gpu_hist', 'lambda': 0.007946661756565616, 'alpha': 8.52605748796954, 'colsample_bytree': 0.3973622235220946, 'subsample': 0.7074212003566557, 'learning_rate': 0.09290172102992036, 'max_depth': 13, 'min_child_weight': 257, 'eval_metric': 'logloss'}. Best is trial 6 with value: 0.7977266704420776.\u001b[0m\n",
      "[15:49:11] task [xgboost.dask]:tcp://192.168.1.200:35873 got new rank 0\n",
      "[15:49:11] task [xgboost.dask]:tcp://192.168.1.200:46877 got new rank 1\n",
      "\u001b[32m[I 2021-11-14 15:50:51,318]\u001b[0m Trial 28 finished with value: 0.7974804885747866 and parameters: {'objective': 'binary:logistic', 'tree_method': 'gpu_hist', 'lambda': 0.001328194955990733, 'alpha': 1.4634502266875242, 'colsample_bytree': 0.4802017141846206, 'subsample': 0.8330626409976551, 'learning_rate': 0.01964546916363217, 'max_depth': 15, 'min_child_weight': 119, 'eval_metric': 'logloss'}. Best is trial 6 with value: 0.7977266704420776.\u001b[0m\n",
      "[15:50:51] task [xgboost.dask]:tcp://192.168.1.200:35873 got new rank 0\n",
      "[15:50:51] task [xgboost.dask]:tcp://192.168.1.200:46877 got new rank 1\n",
      "\u001b[32m[I 2021-11-14 15:53:05,149]\u001b[0m Trial 29 finished with value: 0.7966822161013402 and parameters: {'objective': 'binary:logistic', 'tree_method': 'gpu_hist', 'lambda': 0.07679362042791403, 'alpha': 1.0131592647727674, 'colsample_bytree': 0.8804800659982642, 'subsample': 0.6652803077029955, 'learning_rate': 0.021948350465970597, 'max_depth': 20, 'min_child_weight': 110, 'eval_metric': 'logloss'}. Best is trial 6 with value: 0.7977266704420776.\u001b[0m\n",
      "[15:53:05] task [xgboost.dask]:tcp://192.168.1.200:35873 got new rank 0\n",
      "[15:53:05] task [xgboost.dask]:tcp://192.168.1.200:46877 got new rank 1\n",
      "\u001b[32m[I 2021-11-14 15:56:03,164]\u001b[0m Trial 30 finished with value: 0.7930503584876939 and parameters: {'objective': 'binary:logistic', 'tree_method': 'gpu_hist', 'lambda': 0.03076923167945334, 'alpha': 0.005068394384853249, 'colsample_bytree': 0.5847475326376961, 'subsample': 0.7850952493607581, 'learning_rate': 0.006989148304541638, 'max_depth': 15, 'min_child_weight': 80, 'eval_metric': 'logloss'}. Best is trial 6 with value: 0.7977266704420776.\u001b[0m\n",
      "[15:56:03] task [xgboost.dask]:tcp://192.168.1.200:35873 got new rank 0\n",
      "[15:56:03] task [xgboost.dask]:tcp://192.168.1.200:46877 got new rank 1\n",
      "\u001b[32m[I 2021-11-14 15:57:33,035]\u001b[0m Trial 31 finished with value: 0.7966905645400573 and parameters: {'objective': 'binary:logistic', 'tree_method': 'gpu_hist', 'lambda': 0.0011886137766032722, 'alpha': 4.8307466307860585, 'colsample_bytree': 0.5055172102925969, 'subsample': 0.8489364594643088, 'learning_rate': 0.025515795913572326, 'max_depth': 15, 'min_child_weight': 153, 'eval_metric': 'logloss'}. Best is trial 6 with value: 0.7977266704420776.\u001b[0m\n",
      "[15:57:33] task [xgboost.dask]:tcp://192.168.1.200:35873 got new rank 0\n",
      "[15:57:33] task [xgboost.dask]:tcp://192.168.1.200:46877 got new rank 1\n",
      "\u001b[32m[I 2021-11-14 15:58:54,420]\u001b[0m Trial 32 finished with value: 0.7974273414200083 and parameters: {'objective': 'binary:logistic', 'tree_method': 'gpu_hist', 'lambda': 0.0032686893064357288, 'alpha': 1.7631718280371116, 'colsample_bytree': 0.38136526989892044, 'subsample': 0.9057844829772111, 'learning_rate': 0.01871794763389885, 'max_depth': 15, 'min_child_weight': 188, 'eval_metric': 'logloss'}. Best is trial 6 with value: 0.7977266704420776.\u001b[0m\n",
      "[15:58:54] task [xgboost.dask]:tcp://192.168.1.200:35873 got new rank 0\n",
      "[15:58:54] task [xgboost.dask]:tcp://192.168.1.200:46877 got new rank 1\n",
      "\u001b[32m[I 2021-11-14 16:00:09,858]\u001b[0m Trial 33 finished with value: 0.7961825298936268 and parameters: {'objective': 'binary:logistic', 'tree_method': 'gpu_hist', 'lambda': 0.003701545060573451, 'alpha': 2.1635300709110927, 'colsample_bytree': 0.3820513645137926, 'subsample': 0.8996490388054756, 'learning_rate': 0.015300503781041152, 'max_depth': 11, 'min_child_weight': 183, 'eval_metric': 'logloss'}. Best is trial 6 with value: 0.7977266704420776.\u001b[0m\n",
      "[16:00:09] task [xgboost.dask]:tcp://192.168.1.200:35873 got new rank 0\n",
      "[16:00:09] task [xgboost.dask]:tcp://192.168.1.200:46877 got new rank 1\n",
      "\u001b[32m[I 2021-11-14 16:00:45,529]\u001b[0m Trial 34 finished with value: 0.7889087972523502 and parameters: {'objective': 'binary:logistic', 'tree_method': 'gpu_hist', 'lambda': 0.002973632991334043, 'alpha': 0.8414754240379237, 'colsample_bytree': 0.44715432852949477, 'subsample': 0.7228782164346855, 'learning_rate': 0.019039607200654708, 'max_depth': 3, 'min_child_weight': 137, 'eval_metric': 'logloss'}. Best is trial 6 with value: 0.7977266704420776.\u001b[0m\n",
      "[16:00:45] task [xgboost.dask]:tcp://192.168.1.200:46877 got new rank 0\n",
      "[16:00:45] task [xgboost.dask]:tcp://192.168.1.200:35873 got new rank 1\n",
      "\u001b[32m[I 2021-11-14 16:02:27,182]\u001b[0m Trial 35 finished with value: 0.7953211765673591 and parameters: {'objective': 'binary:logistic', 'tree_method': 'gpu_hist', 'lambda': 0.010683701391690413, 'alpha': 0.46844469382208354, 'colsample_bytree': 0.4842895786498747, 'subsample': 0.840132144254512, 'learning_rate': 0.010885817872604368, 'max_depth': 9, 'min_child_weight': 45, 'eval_metric': 'logloss'}. Best is trial 6 with value: 0.7977266704420776.\u001b[0m\n",
      "[16:02:27] task [xgboost.dask]:tcp://192.168.1.200:35873 got new rank 0\n",
      "[16:02:27] task [xgboost.dask]:tcp://192.168.1.200:46877 got new rank 1\n",
      "\u001b[32m[I 2021-11-14 16:03:52,590]\u001b[0m Trial 36 finished with value: 0.7682200266558683 and parameters: {'objective': 'binary:logistic', 'tree_method': 'gpu_hist', 'lambda': 0.005819727123328065, 'alpha': 2.4029763182418087, 'colsample_bytree': 0.7561758634853233, 'subsample': 0.896310566282613, 'learning_rate': 0.0018161412821987852, 'max_depth': 7, 'min_child_weight': 163, 'eval_metric': 'logloss'}. Best is trial 6 with value: 0.7977266704420776.\u001b[0m\n",
      "[16:03:52] task [xgboost.dask]:tcp://192.168.1.200:35873 got new rank 0\n",
      "[16:03:52] task [xgboost.dask]:tcp://192.168.1.200:46877 got new rank 1\n",
      "\u001b[32m[I 2021-11-14 16:06:14,938]\u001b[0m Trial 37 finished with value: 0.7949698118532298 and parameters: {'objective': 'binary:logistic', 'tree_method': 'gpu_hist', 'lambda': 0.023745320893794032, 'alpha': 0.006808304879449143, 'colsample_bytree': 0.601794686462004, 'subsample': 0.6619698888234653, 'learning_rate': 0.009413765782700388, 'max_depth': 17, 'min_child_weight': 92, 'eval_metric': 'logloss'}. Best is trial 6 with value: 0.7977266704420776.\u001b[0m\n",
      "[16:06:14] task [xgboost.dask]:tcp://192.168.1.200:46877 got new rank 0\n",
      "[16:06:14] task [xgboost.dask]:tcp://192.168.1.200:35873 got new rank 1\n",
      "\u001b[32m[I 2021-11-14 16:06:58,984]\u001b[0m Trial 38 finished with value: 0.7902619852996944 and parameters: {'objective': 'binary:logistic', 'tree_method': 'gpu_hist', 'lambda': 0.0017439336139678729, 'alpha': 0.33124657512130956, 'colsample_bytree': 0.42362480826626625, 'subsample': 0.5654404231724651, 'learning_rate': 0.06230798762109761, 'max_depth': 5, 'min_child_weight': 3, 'eval_metric': 'logloss'}. Best is trial 6 with value: 0.7977266704420776.\u001b[0m\n",
      "[16:06:59] task [xgboost.dask]:tcp://192.168.1.200:35873 got new rank 0\n",
      "[16:06:59] task [xgboost.dask]:tcp://192.168.1.200:46877 got new rank 1\n",
      "\u001b[32m[I 2021-11-14 16:10:37,947]\u001b[0m Trial 39 finished with value: 0.7834279857833943 and parameters: {'objective': 'binary:logistic', 'tree_method': 'gpu_hist', 'lambda': 0.003296777232243168, 'alpha': 0.09100972959722246, 'colsample_bytree': 0.9861594074720994, 'subsample': 0.8023784483819261, 'learning_rate': 0.004452855340835814, 'max_depth': 20, 'min_child_weight': 124, 'eval_metric': 'logloss'}. Best is trial 6 with value: 0.7977266704420776.\u001b[0m\n",
      "[16:10:37] task [xgboost.dask]:tcp://192.168.1.200:35873 got new rank 0\n",
      "[16:10:37] task [xgboost.dask]:tcp://192.168.1.200:46877 got new rank 1\n",
      "\u001b[32m[I 2021-11-14 16:13:42,219]\u001b[0m Trial 40 finished with value: 0.7934767130926781 and parameters: {'objective': 'binary:logistic', 'tree_method': 'gpu_hist', 'lambda': 1.1125453206059872, 'alpha': 1.2694912944964467, 'colsample_bytree': 0.6367787761482546, 'subsample': 0.7423278301810179, 'learning_rate': 0.007274273053305127, 'max_depth': 15, 'min_child_weight': 57, 'eval_metric': 'logloss'}. Best is trial 6 with value: 0.7977266704420776.\u001b[0m\n",
      "[16:13:42] task [xgboost.dask]:tcp://192.168.1.200:35873 got new rank 0\n",
      "[16:13:42] task [xgboost.dask]:tcp://192.168.1.200:46877 got new rank 1\n",
      "\u001b[32m[I 2021-11-14 16:14:58,127]\u001b[0m Trial 41 finished with value: 0.7973643015345631 and parameters: {'objective': 'binary:logistic', 'tree_method': 'gpu_hist', 'lambda': 0.0015899273040320637, 'alpha': 5.210291446468377, 'colsample_bytree': 0.3453645739416236, 'subsample': 0.9524098678133984, 'learning_rate': 0.026887635827627397, 'max_depth': 15, 'min_child_weight': 215, 'eval_metric': 'logloss'}. Best is trial 6 with value: 0.7977266704420776.\u001b[0m\n",
      "[16:14:58] task [xgboost.dask]:tcp://192.168.1.200:46877 got new rank 0\n",
      "[16:14:58] task [xgboost.dask]:tcp://192.168.1.200:35873 got new rank 1\n",
      "\u001b[32m[I 2021-11-14 16:16:16,008]\u001b[0m Trial 42 finished with value: 0.7965522497733166 and parameters: {'objective': 'binary:logistic', 'tree_method': 'gpu_hist', 'lambda': 0.0015378491842360429, 'alpha': 4.95790286189308, 'colsample_bytree': 0.34406782506936695, 'subsample': 0.9210796302623265, 'learning_rate': 0.03418374057849371, 'max_depth': 15, 'min_child_weight': 189, 'eval_metric': 'logloss'}. Best is trial 6 with value: 0.7977266704420776.\u001b[0m\n",
      "[16:16:16] task [xgboost.dask]:tcp://192.168.1.200:35873 got new rank 0\n",
      "[16:16:16] task [xgboost.dask]:tcp://192.168.1.200:46877 got new rank 1\n",
      "\u001b[32m[I 2021-11-14 16:17:31,496]\u001b[0m Trial 43 finished with value: 0.796793519117889 and parameters: {'objective': 'binary:logistic', 'tree_method': 'gpu_hist', 'lambda': 0.005338548735061646, 'alpha': 2.8538255739003353, 'colsample_bytree': 0.3656971733961829, 'subsample': 0.9605955632909976, 'learning_rate': 0.023217115453202253, 'max_depth': 15, 'min_child_weight': 227, 'eval_metric': 'logloss'}. Best is trial 6 with value: 0.7977266704420776.\u001b[0m\n",
      "[16:17:31] task [xgboost.dask]:tcp://192.168.1.200:35873 got new rank 0\n",
      "[16:17:31] task [xgboost.dask]:tcp://192.168.1.200:46877 got new rank 1\n",
      "\u001b[32m[I 2021-11-14 16:18:54,493]\u001b[0m Trial 44 finished with value: 0.7972469816573383 and parameters: {'objective': 'binary:logistic', 'tree_method': 'gpu_hist', 'lambda': 9.089375749536336, 'alpha': 0.6373304947020634, 'colsample_bytree': 0.3425140885848548, 'subsample': 0.9790371430585785, 'learning_rate': 0.017995672919648553, 'max_depth': 15, 'min_child_weight': 164, 'eval_metric': 'logloss'}. Best is trial 6 with value: 0.7977266704420776.\u001b[0m\n",
      "[16:18:54] task [xgboost.dask]:tcp://192.168.1.200:35873 got new rank 0\n",
      "[16:18:54] task [xgboost.dask]:tcp://192.168.1.200:46877 got new rank 1\n",
      "\u001b[32m[I 2021-11-14 16:19:49,844]\u001b[0m Trial 45 finished with value: 0.7964332128286881 and parameters: {'objective': 'binary:logistic', 'tree_method': 'gpu_hist', 'lambda': 0.002637823895389358, 'alpha': 9.912354484306373, 'colsample_bytree': 0.39937377087016634, 'subsample': 0.8772164357056325, 'learning_rate': 0.027161879138689973, 'max_depth': 7, 'min_child_weight': 217, 'eval_metric': 'logloss'}. Best is trial 6 with value: 0.7977266704420776.\u001b[0m\n",
      "[16:19:49] task [xgboost.dask]:tcp://192.168.1.200:46877 got new rank 0\n",
      "[16:19:49] task [xgboost.dask]:tcp://192.168.1.200:35873 got new rank 1\n",
      "\u001b[32m[I 2021-11-14 16:21:06,570]\u001b[0m Trial 46 finished with value: 0.7942283237250587 and parameters: {'objective': 'binary:logistic', 'tree_method': 'gpu_hist', 'lambda': 0.0015215719824219509, 'alpha': 5.647656910317799, 'colsample_bytree': 0.3091145444872927, 'subsample': 0.9280403683147771, 'learning_rate': 0.01147456164049017, 'max_depth': 13, 'min_child_weight': 195, 'eval_metric': 'logloss'}. Best is trial 6 with value: 0.7977266704420776.\u001b[0m\n",
      "[16:21:06] task [xgboost.dask]:tcp://192.168.1.200:35873 got new rank 0\n",
      "[16:21:06] task [xgboost.dask]:tcp://192.168.1.200:46877 got new rank 1\n",
      "\u001b[32m[I 2021-11-14 16:22:06,484]\u001b[0m Trial 47 finished with value: 0.7948157905508356 and parameters: {'objective': 'binary:logistic', 'tree_method': 'gpu_hist', 'lambda': 0.008826848616577575, 'alpha': 0.02335967137202583, 'colsample_bytree': 0.48479746181026806, 'subsample': 0.4413012127004742, 'learning_rate': 0.04310479854221477, 'max_depth': 15, 'min_child_weight': 243, 'eval_metric': 'logloss'}. Best is trial 6 with value: 0.7977266704420776.\u001b[0m\n",
      "[16:22:06] task [xgboost.dask]:tcp://192.168.1.200:46877 got new rank 0\n",
      "[16:22:06] task [xgboost.dask]:tcp://192.168.1.200:35873 got new rank 1\n",
      "\u001b[32m[I 2021-11-14 16:23:29,526]\u001b[0m Trial 48 finished with value: 0.7948273380072478 and parameters: {'objective': 'binary:logistic', 'tree_method': 'gpu_hist', 'lambda': 0.015305628888598528, 'alpha': 0.0013230962403868386, 'colsample_bytree': 0.6466811248791127, 'subsample': 0.7743798110151627, 'learning_rate': 0.0134543292664365, 'max_depth': 15, 'min_child_weight': 272, 'eval_metric': 'logloss'}. Best is trial 6 with value: 0.7977266704420776.\u001b[0m\n",
      "[16:23:29] task [xgboost.dask]:tcp://192.168.1.200:35873 got new rank 0\n",
      "[16:23:29] task [xgboost.dask]:tcp://192.168.1.200:46877 got new rank 1\n",
      "\u001b[32m[I 2021-11-14 16:24:40,764]\u001b[0m Trial 49 finished with value: 0.7971189942316868 and parameters: {'objective': 'binary:logistic', 'tree_method': 'gpu_hist', 'lambda': 0.0016775881914760805, 'alpha': 1.6289995594351303, 'colsample_bytree': 0.4257076813150773, 'subsample': 0.8390782423594264, 'learning_rate': 0.029741723242364154, 'max_depth': 11, 'min_child_weight': 172, 'eval_metric': 'logloss'}. Best is trial 6 with value: 0.7977266704420776.\u001b[0m\n",
      "[16:24:40] task [xgboost.dask]:tcp://192.168.1.200:46877 got new rank 0\n",
      "[16:24:40] task [xgboost.dask]:tcp://192.168.1.200:35873 got new rank 1\n",
      "\u001b[32m[I 2021-11-14 16:25:15,725]\u001b[0m Trial 50 finished with value: 0.796414501425077 and parameters: {'objective': 'binary:logistic', 'tree_method': 'gpu_hist', 'lambda': 0.13859961249348182, 'alpha': 3.596332527246401, 'colsample_bytree': 0.6894238990769767, 'subsample': 0.8758273545701716, 'learning_rate': 0.06816440548613471, 'max_depth': 3, 'min_child_weight': 211, 'eval_metric': 'logloss'}. Best is trial 6 with value: 0.7977266704420776.\u001b[0m\n",
      "[16:25:15] task [xgboost.dask]:tcp://192.168.1.200:35873 got new rank 0\n",
      "[16:25:15] task [xgboost.dask]:tcp://192.168.1.200:46877 got new rank 1\n",
      "\u001b[32m[I 2021-11-14 16:26:31,830]\u001b[0m Trial 51 finished with value: 0.7968575920936811 and parameters: {'objective': 'binary:logistic', 'tree_method': 'gpu_hist', 'lambda': 0.0010793188937986986, 'alpha': 5.902697238406201, 'colsample_bytree': 0.3254495566372368, 'subsample': 0.9505419370575209, 'learning_rate': 0.017756474019770964, 'max_depth': 15, 'min_child_weight': 210, 'eval_metric': 'logloss'}. Best is trial 6 with value: 0.7977266704420776.\u001b[0m\n"
     ]
    },
    {
     "name": "stdout",
     "output_type": "stream",
     "text": [
      "CPU times: user 2min 18s, sys: 52.7 s, total: 3min 11s\n",
      "Wall time: 1h 16min 41s\n"
     ]
    }
   ],
   "source": [
    "%%time\n",
    "study.optimize(objective, n_trials=50)"
   ]
  },
  {
   "cell_type": "code",
   "execution_count": 17,
   "id": "bb130c62-d24b-44d9-9893-26bc6dc7e05f",
   "metadata": {},
   "outputs": [
    {
     "data": {
      "text/plain": [
       "{'objective': 'binary:logistic',\n",
       " 'tree_method': 'gpu_hist',\n",
       " 'lambda': 0.008416757023168712,\n",
       " 'alpha': 0.017666476922893744,\n",
       " 'colsample_bytree': 0.8709207057046353,\n",
       " 'subsample': 0.8281737773756209,\n",
       " 'learning_rate': 0.02395255427503995,\n",
       " 'max_depth': 15,\n",
       " 'min_child_weight': 155,\n",
       " 'eval_metric': 'logloss'}"
      ]
     },
     "execution_count": 17,
     "metadata": {},
     "output_type": "execute_result"
    }
   ],
   "source": [
    "study.best_trial.params"
   ]
  },
  {
   "cell_type": "code",
   "execution_count": null,
   "id": "76520e67-8deb-4a05-94ef-2ff473c2bb2e",
   "metadata": {},
   "outputs": [],
   "source": [
    "%%time\n",
    "study.optimize(objective, n_trials=250)"
   ]
  }
 ],
 "metadata": {
  "kernelspec": {
   "display_name": "Python 3 (ipykernel)",
   "language": "python",
   "name": "python3"
  },
  "language_info": {
   "codemirror_mode": {
    "name": "ipython",
    "version": 3
   },
   "file_extension": ".py",
   "mimetype": "text/x-python",
   "name": "python",
   "nbconvert_exporter": "python",
   "pygments_lexer": "ipython3",
   "version": "3.8.10"
  }
 },
 "nbformat": 4,
 "nbformat_minor": 5
}
