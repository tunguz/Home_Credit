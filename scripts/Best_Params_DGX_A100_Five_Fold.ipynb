{
 "cells": [
  {
   "cell_type": "code",
   "execution_count": 1,
   "id": "1148928d-d4bc-42e5-9efd-fef990887509",
   "metadata": {},
   "outputs": [
    {
     "data": {
      "text/plain": [
       "'1.6.0-dev'"
      ]
     },
     "execution_count": 1,
     "metadata": {},
     "output_type": "execute_result"
    }
   ],
   "source": [
    "import numpy as np\n",
    "import pandas as pd\n",
    "import gc\n",
    "import time\n",
    "\n",
    "from sklearn.metrics import roc_auc_score, roc_curve\n",
    "from sklearn.model_selection import KFold, StratifiedKFold\n",
    "from tqdm import tqdm\n",
    "\n",
    "import warnings\n",
    "from time import time\n",
    "import xgboost as xgb\n",
    "xgb.__version__"
   ]
  },
  {
   "cell_type": "code",
   "execution_count": 2,
   "id": "4b96abf9-2c6a-403b-9b6b-da4cea36622a",
   "metadata": {},
   "outputs": [
    {
     "name": "stdout",
     "output_type": "stream",
     "text": [
      "CPU times: user 44.9 s, sys: 4.34 s, total: 49.2 s\n",
      "Wall time: 51.5 s\n"
     ]
    }
   ],
   "source": [
    "%%time\n",
    "train = pd.read_csv('../input/train_1830.csv')"
   ]
  },
  {
   "cell_type": "code",
   "execution_count": 3,
   "id": "cb0d625f-a9bb-43bc-b607-2ebae74ef980",
   "metadata": {},
   "outputs": [],
   "source": [
    "application_train = pd.read_csv('../input/application_train.csv')\n",
    "target = application_train.TARGET.values"
   ]
  },
  {
   "cell_type": "code",
   "execution_count": 4,
   "id": "052c30d6-941e-4ca9-b2d9-c34edccb1bff",
   "metadata": {},
   "outputs": [],
   "source": [
    "good_features = train.columns[2:]"
   ]
  },
  {
   "cell_type": "code",
   "execution_count": 5,
   "id": "39b49ef9-b27d-442e-9f6d-dea2ede74dfd",
   "metadata": {},
   "outputs": [],
   "source": [
    "params = {'alpha': 0.10267123481648575,\n",
    "          'colsample_bytree': 0.5581906611108047,\n",
    "          'eval_metric': 'auc',\n",
    "          'lambda': 0.4246900552568794,\n",
    "          'learning_rate': 0.017056331528057946,\n",
    "          'max_depth': 15,\n",
    "          'min_child_weight': 96,\n",
    "          'objective': 'binary:logistic',\n",
    "          'subsample': 0.8453437746562742,\n",
    "          'tree_method': 'gpu_hist'}"
   ]
  },
  {
   "cell_type": "code",
   "execution_count": 6,
   "id": "6a055997-07fb-4feb-964e-8e6d510fa573",
   "metadata": {},
   "outputs": [],
   "source": [
    "train.replace([np.inf, -np.inf], np.nan, inplace=True)"
   ]
  },
  {
   "cell_type": "code",
   "execution_count": 7,
   "id": "745d9efa-13ca-4207-a877-7fddb5f3fd3d",
   "metadata": {},
   "outputs": [
    {
     "name": "stdout",
     "output_type": "stream",
     "text": [
      "1\n",
      "[0]\ttrain-auc:0.76983\teval-auc:0.72185\n",
      "[100]\ttrain-auc:0.83528\teval-auc:0.77748\n",
      "[200]\ttrain-auc:0.84342\teval-auc:0.78223\n",
      "[300]\ttrain-auc:0.85803\teval-auc:0.78776\n",
      "[400]\ttrain-auc:0.87236\teval-auc:0.79169\n",
      "[500]\ttrain-auc:0.88437\teval-auc:0.79419\n",
      "[600]\ttrain-auc:0.89476\teval-auc:0.79555\n",
      "[700]\ttrain-auc:0.90397\teval-auc:0.79638\n",
      "[800]\ttrain-auc:0.91224\teval-auc:0.79696\n",
      "[900]\ttrain-auc:0.91975\teval-auc:0.79723\n",
      "[999]\ttrain-auc:0.92659\teval-auc:0.79749\n"
     ]
    },
    {
     "name": "stderr",
     "output_type": "stream",
     "text": [
      "/home/btunguz/.local/lib/python3.8/site-packages/xgboost/core.py:78: UserWarning: ntree_limit is deprecated, use `iteration_range` or model slicing instead.\n",
      "  warnings.warn(\n"
     ]
    },
    {
     "name": "stdout",
     "output_type": "stream",
     "text": [
      "Time elapsed: 81.62638068199158\n",
      "Fold AUC: 0.7975286768958999\n",
      "CPU times: user 1min 57s, sys: 3.43 s, total: 2min\n",
      "Wall time: 1min 21s\n"
     ]
    }
   ],
   "source": [
    "%%time\n",
    "start_time = time()\n",
    "kf = StratifiedKFold(5, shuffle=True, random_state=1974)\n",
    "i=1\n",
    "for train_index, test_index in kf.split(train,target):\n",
    "    #if i < 4:\n",
    "        print(i)\n",
    "        xgtrain, xgval = train[good_features].values[train_index], train[good_features].values[test_index]\n",
    "        y_train, y_val = target[train_index], target[test_index]\n",
    "        xgtrain = xgb.DMatrix(xgtrain, label = y_train ) \n",
    "        xgval = xgb.DMatrix(xgval, label = y_val ) \n",
    "        watchlist = [(xgtrain, 'train'), (xgval, 'eval')]\n",
    "        clf = xgb.train(params, xgtrain, num_boost_round=1000, evals=watchlist, \n",
    "                verbose_eval=500, \n",
    "                early_stopping_rounds = 500)\n",
    "        \n",
    "        #preds = clf.predict(xgtest)\n",
    "        ypred = clf.predict(xgval, ntree_limit=clf.best_ntree_limit)\n",
    "        #y_oof[test_index] = ypred\n",
    "        #preds_total += preds\n",
    "        #np.save(\"preds_hist_\"+str(i), preds)\n",
    "        #p.save(\"oof_preds_hist_\"+str(i), ypred)\n",
    "        print('Time elapsed:', time()-start_time)\n",
    "        #clf.save_model('xgb_gpu_hist_1812_2_fold_'+str(i)+'.model')\n",
    "        del clf\n",
    "        gc.collect()\n",
    "        i +=1\n",
    "        print('Fold AUC:', roc_auc_score(y_val, ypred))\n",
    "        \n",
    "        break"
   ]
  },
  {
   "cell_type": "code",
   "execution_count": 9,
   "id": "897cf953-3cb0-4f44-9447-c9cdb230938b",
   "metadata": {},
   "outputs": [
    {
     "name": "stdout",
     "output_type": "stream",
     "text": [
      "1\n",
      "[0]\ttrain-auc:0.76984\teval-auc:0.72185\n",
      "[500]\ttrain-auc:0.82837\teval-auc:0.77385\n",
      "[1000]\ttrain-auc:0.83324\teval-auc:0.77536\n",
      "[1500]\ttrain-auc:0.83546\teval-auc:0.77684\n",
      "[2000]\ttrain-auc:0.83700\teval-auc:0.77827\n",
      "[2500]\ttrain-auc:0.83861\teval-auc:0.77957\n",
      "[3000]\ttrain-auc:0.84110\teval-auc:0.78109\n",
      "[3500]\ttrain-auc:0.84450\teval-auc:0.78280\n",
      "[4000]\ttrain-auc:0.84843\teval-auc:0.78447\n",
      "[4500]\ttrain-auc:0.85278\teval-auc:0.78615\n",
      "[5000]\ttrain-auc:0.85735\teval-auc:0.78779\n",
      "[5500]\ttrain-auc:0.86178\teval-auc:0.78926\n",
      "[6000]\ttrain-auc:0.86620\teval-auc:0.79063\n",
      "[6500]\ttrain-auc:0.87045\teval-auc:0.79179\n",
      "[7000]\ttrain-auc:0.87443\teval-auc:0.79271\n",
      "[7500]\ttrain-auc:0.87819\teval-auc:0.79347\n",
      "[8000]\ttrain-auc:0.88167\teval-auc:0.79415\n",
      "[8500]\ttrain-auc:0.88499\teval-auc:0.79473\n",
      "[9000]\ttrain-auc:0.88822\teval-auc:0.79521\n",
      "[9500]\ttrain-auc:0.89136\teval-auc:0.79565\n",
      "[10000]\ttrain-auc:0.89437\teval-auc:0.79603\n",
      "[10500]\ttrain-auc:0.89716\teval-auc:0.79635\n",
      "[11000]\ttrain-auc:0.89992\teval-auc:0.79665\n",
      "[11500]\ttrain-auc:0.90259\teval-auc:0.79691\n",
      "[12000]\ttrain-auc:0.90510\teval-auc:0.79715\n",
      "[12500]\ttrain-auc:0.90760\teval-auc:0.79735\n",
      "[13000]\ttrain-auc:0.91003\teval-auc:0.79754\n",
      "[13500]\ttrain-auc:0.91234\teval-auc:0.79769\n",
      "[14000]\ttrain-auc:0.91467\teval-auc:0.79784\n",
      "[14500]\ttrain-auc:0.91691\teval-auc:0.79796\n",
      "[15000]\ttrain-auc:0.91905\teval-auc:0.79812\n",
      "[15500]\ttrain-auc:0.92120\teval-auc:0.79821\n",
      "[16000]\ttrain-auc:0.92323\teval-auc:0.79826\n",
      "[16500]\ttrain-auc:0.92521\teval-auc:0.79833\n",
      "[17000]\ttrain-auc:0.92711\teval-auc:0.79840\n",
      "[17500]\ttrain-auc:0.92896\teval-auc:0.79845\n",
      "[18000]\ttrain-auc:0.93083\teval-auc:0.79848\n",
      "[18500]\ttrain-auc:0.93264\teval-auc:0.79852\n",
      "[19000]\ttrain-auc:0.93444\teval-auc:0.79854\n",
      "[19500]\ttrain-auc:0.93616\teval-auc:0.79858\n",
      "[20000]\ttrain-auc:0.93781\teval-auc:0.79860\n",
      "[20500]\ttrain-auc:0.93943\teval-auc:0.79863\n",
      "[21000]\ttrain-auc:0.94105\teval-auc:0.79866\n",
      "[21500]\ttrain-auc:0.94263\teval-auc:0.79868\n",
      "[22000]\ttrain-auc:0.94417\teval-auc:0.79869\n",
      "[22500]\ttrain-auc:0.94568\teval-auc:0.79870\n",
      "[22618]\ttrain-auc:0.94603\teval-auc:0.79870\n"
     ]
    },
    {
     "name": "stderr",
     "output_type": "stream",
     "text": [
      "/home/btunguz/.local/lib/python3.8/site-packages/xgboost/core.py:78: UserWarning: ntree_limit is deprecated, use `iteration_range` or model slicing instead.\n",
      "  warnings.warn(\n"
     ]
    },
    {
     "name": "stdout",
     "output_type": "stream",
     "text": [
      "Time elapsed: 1596.120820760727\n",
      "Fold AUC: 0.7987088134041834\n",
      "CPU times: user 27min 35s, sys: 3.53 s, total: 27min 38s\n",
      "Wall time: 26min 36s\n"
     ]
    }
   ],
   "source": [
    "%%time\n",
    "params['learning_rate'] = 0.001\n",
    "\n",
    "\n",
    "\n",
    "start_time = time()\n",
    "kf = StratifiedKFold(5, shuffle=True, random_state=1974)\n",
    "i=1\n",
    "for train_index, test_index in kf.split(train,target):\n",
    "    #if i < 4:\n",
    "        print(i)\n",
    "        xgtrain, xgval = train[good_features].values[train_index], train[good_features].values[test_index]\n",
    "        y_train, y_val = target[train_index], target[test_index]\n",
    "        xgtrain = xgb.DMatrix(xgtrain, label = y_train ) \n",
    "        xgval = xgb.DMatrix(xgval, label = y_val ) \n",
    "        watchlist = [(xgtrain, 'train'), (xgval, 'eval')]\n",
    "        clf = xgb.train(params, xgtrain, num_boost_round=200000, evals=watchlist, \n",
    "                verbose_eval=500, \n",
    "                early_stopping_rounds = 500)\n",
    "        \n",
    "        #preds = clf.predict(xgtest)\n",
    "        ypred = clf.predict(xgval, ntree_limit=clf.best_ntree_limit)\n",
    "        #y_oof[test_index] = ypred\n",
    "        #preds_total += preds\n",
    "        #np.save(\"preds_hist_\"+str(i), preds)\n",
    "        #p.save(\"oof_preds_hist_\"+str(i), ypred)\n",
    "        print('Time elapsed:', time()-start_time)\n",
    "        #clf.save_model('xgb_gpu_hist_1812_2_fold_'+str(i)+'.model')\n",
    "        del clf\n",
    "        gc.collect()\n",
    "        i +=1\n",
    "        print('Fold AUC:', roc_auc_score(y_val, ypred))\n",
    "        \n",
    "        break"
   ]
  },
  {
   "cell_type": "code",
   "execution_count": 10,
   "id": "378f0bfd-6191-4d9f-b30c-95c54a2e5060",
   "metadata": {},
   "outputs": [
    {
     "name": "stdout",
     "output_type": "stream",
     "text": [
      "1\n",
      "[0]\ttrain-auc:0.76982\teval-auc:0.72182\n",
      "[2000]\ttrain-auc:0.82289\teval-auc:0.77257\n",
      "[4000]\ttrain-auc:0.82680\teval-auc:0.77369\n",
      "[6000]\ttrain-auc:0.82964\teval-auc:0.77449\n",
      "[8000]\ttrain-auc:0.83166\teval-auc:0.77509\n",
      "[10000]\ttrain-auc:0.83310\teval-auc:0.77559\n",
      "[12000]\ttrain-auc:0.83422\teval-auc:0.77615\n",
      "[14000]\ttrain-auc:0.83504\teval-auc:0.77672\n",
      "[16000]\ttrain-auc:0.83573\teval-auc:0.77732\n",
      "[18000]\ttrain-auc:0.83631\teval-auc:0.77786\n",
      "[20000]\ttrain-auc:0.83687\teval-auc:0.77836\n",
      "[22000]\ttrain-auc:0.83747\teval-auc:0.77886\n",
      "[24000]\ttrain-auc:0.83816\teval-auc:0.77938\n",
      "[26000]\ttrain-auc:0.83896\teval-auc:0.77991\n",
      "[28000]\ttrain-auc:0.83993\teval-auc:0.78051\n",
      "[30000]\ttrain-auc:0.84103\teval-auc:0.78113\n",
      "[32000]\ttrain-auc:0.84228\teval-auc:0.78178\n",
      "[34000]\ttrain-auc:0.84364\teval-auc:0.78243\n",
      "[36000]\ttrain-auc:0.84513\teval-auc:0.78312\n",
      "[38000]\ttrain-auc:0.84673\teval-auc:0.78382\n",
      "[40000]\ttrain-auc:0.84840\teval-auc:0.78451\n",
      "[42000]\ttrain-auc:0.85012\teval-auc:0.78519\n",
      "[44000]\ttrain-auc:0.85188\teval-auc:0.78586\n",
      "[46000]\ttrain-auc:0.85366\teval-auc:0.78653\n",
      "[48000]\ttrain-auc:0.85546\teval-auc:0.78718\n",
      "[50000]\ttrain-auc:0.85726\teval-auc:0.78781\n",
      "[52000]\ttrain-auc:0.85906\teval-auc:0.78841\n",
      "[54000]\ttrain-auc:0.86084\teval-auc:0.78899\n",
      "[56000]\ttrain-auc:0.86263\teval-auc:0.78956\n",
      "[58000]\ttrain-auc:0.86442\teval-auc:0.79011\n",
      "[60000]\ttrain-auc:0.86620\teval-auc:0.79063\n",
      "[62000]\ttrain-auc:0.86792\teval-auc:0.79111\n",
      "[64000]\ttrain-auc:0.86959\teval-auc:0.79157\n",
      "[66000]\ttrain-auc:0.87122\teval-auc:0.79197\n",
      "[68000]\ttrain-auc:0.87281\teval-auc:0.79236\n",
      "[70000]\ttrain-auc:0.87437\teval-auc:0.79272\n",
      "[72000]\ttrain-auc:0.87587\teval-auc:0.79305\n",
      "[74000]\ttrain-auc:0.87736\teval-auc:0.79336\n",
      "[76000]\ttrain-auc:0.87880\teval-auc:0.79367\n",
      "[78000]\ttrain-auc:0.88023\teval-auc:0.79394\n",
      "[80000]\ttrain-auc:0.88161\teval-auc:0.79420\n",
      "[82000]\ttrain-auc:0.88297\teval-auc:0.79445\n",
      "[84000]\ttrain-auc:0.88431\teval-auc:0.79467\n",
      "[86000]\ttrain-auc:0.88562\teval-auc:0.79487\n",
      "[88000]\ttrain-auc:0.88692\teval-auc:0.79507\n",
      "[90000]\ttrain-auc:0.88819\teval-auc:0.79526\n",
      "[92000]\ttrain-auc:0.88945\teval-auc:0.79544\n",
      "[94000]\ttrain-auc:0.89066\teval-auc:0.79561\n",
      "[96000]\ttrain-auc:0.89187\teval-auc:0.79578\n",
      "[98000]\ttrain-auc:0.89305\teval-auc:0.79593\n",
      "[100000]\ttrain-auc:0.89421\teval-auc:0.79608\n",
      "[102000]\ttrain-auc:0.89536\teval-auc:0.79621\n",
      "[104000]\ttrain-auc:0.89649\teval-auc:0.79634\n",
      "[106000]\ttrain-auc:0.89761\teval-auc:0.79647\n",
      "[108000]\ttrain-auc:0.89872\teval-auc:0.79659\n",
      "[110000]\ttrain-auc:0.89981\teval-auc:0.79670\n",
      "[112000]\ttrain-auc:0.90089\teval-auc:0.79681\n",
      "[114000]\ttrain-auc:0.90196\teval-auc:0.79691\n",
      "[116000]\ttrain-auc:0.90300\teval-auc:0.79700\n",
      "[118000]\ttrain-auc:0.90404\teval-auc:0.79709\n",
      "[120000]\ttrain-auc:0.90506\teval-auc:0.79718\n",
      "[122000]\ttrain-auc:0.90606\teval-auc:0.79726\n",
      "[124000]\ttrain-auc:0.90707\teval-auc:0.79734\n",
      "[126000]\ttrain-auc:0.90806\teval-auc:0.79741\n",
      "[128000]\ttrain-auc:0.90903\teval-auc:0.79749\n",
      "[130000]\ttrain-auc:0.90998\teval-auc:0.79756\n",
      "[132000]\ttrain-auc:0.91092\teval-auc:0.79763\n",
      "[134000]\ttrain-auc:0.91187\teval-auc:0.79769\n",
      "[136000]\ttrain-auc:0.91280\teval-auc:0.79775\n",
      "[138000]\ttrain-auc:0.91371\teval-auc:0.79781\n",
      "[140000]\ttrain-auc:0.91462\teval-auc:0.79786\n",
      "[142000]\ttrain-auc:0.91552\teval-auc:0.79791\n",
      "[144000]\ttrain-auc:0.91641\teval-auc:0.79797\n",
      "[146000]\ttrain-auc:0.91728\teval-auc:0.79802\n",
      "[148000]\ttrain-auc:0.91815\teval-auc:0.79806\n",
      "[150000]\ttrain-auc:0.91900\teval-auc:0.79810\n",
      "[152000]\ttrain-auc:0.91985\teval-auc:0.79814\n",
      "[154000]\ttrain-auc:0.92068\teval-auc:0.79818\n",
      "[156000]\ttrain-auc:0.92150\teval-auc:0.79822\n",
      "[158000]\ttrain-auc:0.92233\teval-auc:0.79826\n",
      "[160000]\ttrain-auc:0.92312\teval-auc:0.79828\n",
      "[162000]\ttrain-auc:0.92393\teval-auc:0.79832\n",
      "[164000]\ttrain-auc:0.92473\teval-auc:0.79835\n",
      "[166000]\ttrain-auc:0.92551\teval-auc:0.79838\n",
      "[168000]\ttrain-auc:0.92629\teval-auc:0.79840\n",
      "[170000]\ttrain-auc:0.92706\teval-auc:0.79843\n",
      "[172000]\ttrain-auc:0.92782\teval-auc:0.79846\n",
      "[174000]\ttrain-auc:0.92858\teval-auc:0.79848\n",
      "[176000]\ttrain-auc:0.92932\teval-auc:0.79849\n",
      "[178000]\ttrain-auc:0.93007\teval-auc:0.79851\n",
      "[180000]\ttrain-auc:0.93081\teval-auc:0.79853\n",
      "[182000]\ttrain-auc:0.93154\teval-auc:0.79855\n",
      "[184000]\ttrain-auc:0.93227\teval-auc:0.79857\n",
      "[186000]\ttrain-auc:0.93299\teval-auc:0.79859\n",
      "[188000]\ttrain-auc:0.93369\teval-auc:0.79860\n",
      "[190000]\ttrain-auc:0.93439\teval-auc:0.79862\n",
      "[192000]\ttrain-auc:0.93508\teval-auc:0.79863\n",
      "[194000]\ttrain-auc:0.93577\teval-auc:0.79864\n",
      "[196000]\ttrain-auc:0.93644\teval-auc:0.79866\n",
      "[198000]\ttrain-auc:0.93712\teval-auc:0.79868\n",
      "[200000]\ttrain-auc:0.93779\teval-auc:0.79869\n",
      "[202000]\ttrain-auc:0.93845\teval-auc:0.79869\n",
      "[204000]\ttrain-auc:0.93911\teval-auc:0.79870\n",
      "[206000]\ttrain-auc:0.93975\teval-auc:0.79871\n",
      "[208000]\ttrain-auc:0.94038\teval-auc:0.79872\n",
      "[210000]\ttrain-auc:0.94102\teval-auc:0.79873\n",
      "[212000]\ttrain-auc:0.94165\teval-auc:0.79873\n",
      "[214000]\ttrain-auc:0.94228\teval-auc:0.79874\n",
      "[216000]\ttrain-auc:0.94290\teval-auc:0.79875\n",
      "[218000]\ttrain-auc:0.94351\teval-auc:0.79875\n",
      "[220000]\ttrain-auc:0.94412\teval-auc:0.79876\n",
      "[222000]\ttrain-auc:0.94473\teval-auc:0.79876\n",
      "[223967]\ttrain-auc:0.94532\teval-auc:0.79876\n"
     ]
    },
    {
     "name": "stderr",
     "output_type": "stream",
     "text": [
      "/home/btunguz/.local/lib/python3.8/site-packages/xgboost/core.py:78: UserWarning: ntree_limit is deprecated, use `iteration_range` or model slicing instead.\n",
      "  warnings.warn(\n"
     ]
    },
    {
     "name": "stdout",
     "output_type": "stream",
     "text": [
      "Time elapsed: 15799.227672815323\n",
      "Fold AUC: 0.7987649921447728\n",
      "CPU times: user 4h 23min 47s, sys: 17.7 s, total: 4h 24min 4s\n",
      "Wall time: 4h 23min 19s\n"
     ]
    }
   ],
   "source": [
    "%%time\n",
    "params['learning_rate'] = 0.0001\n",
    "\n",
    "\n",
    "\n",
    "start_time = time()\n",
    "kf = StratifiedKFold(5, shuffle=True, random_state=1974)\n",
    "i=1\n",
    "for train_index, test_index in kf.split(train,target):\n",
    "    #if i < 4:\n",
    "        print(i)\n",
    "        xgtrain, xgval = train[good_features].values[train_index], train[good_features].values[test_index]\n",
    "        y_train, y_val = target[train_index], target[test_index]\n",
    "        xgtrain = xgb.DMatrix(xgtrain, label = y_train ) \n",
    "        xgval = xgb.DMatrix(xgval, label = y_val ) \n",
    "        watchlist = [(xgtrain, 'train'), (xgval, 'eval')]\n",
    "        clf = xgb.train(params, xgtrain, num_boost_round=2000000, evals=watchlist, \n",
    "                verbose_eval=2000, \n",
    "                early_stopping_rounds = 2000)\n",
    "        \n",
    "        #preds = clf.predict(xgtest)\n",
    "        ypred = clf.predict(xgval, ntree_limit=clf.best_ntree_limit)\n",
    "        #y_oof[test_index] = ypred\n",
    "        #preds_total += preds\n",
    "        #np.save(\"preds_hist_\"+str(i), preds)\n",
    "        #p.save(\"oof_preds_hist_\"+str(i), ypred)\n",
    "        print('Time elapsed:', time()-start_time)\n",
    "        #clf.save_model('xgb_gpu_hist_1812_2_fold_'+str(i)+'.model')\n",
    "        del clf\n",
    "        gc.collect()\n",
    "        i +=1\n",
    "        print('Fold AUC:', roc_auc_score(y_val, ypred))\n",
    "        \n",
    "        break"
   ]
  },
  {
   "cell_type": "code",
   "execution_count": 16,
   "id": "460e4b6f-3b48-4fc0-8229-64d9a7d79973",
   "metadata": {},
   "outputs": [
    {
     "data": {
      "text/plain": [
       "1"
      ]
     },
     "execution_count": 16,
     "metadata": {},
     "output_type": "execute_result"
    }
   ],
   "source": []
  },
  {
   "cell_type": "code",
   "execution_count": null,
   "id": "674f535e-65d3-45ce-8393-8ac883ed5ee1",
   "metadata": {},
   "outputs": [],
   "source": []
  }
 ],
 "metadata": {
  "kernelspec": {
   "display_name": "Python 3 (ipykernel)",
   "language": "python",
   "name": "python3"
  },
  "language_info": {
   "codemirror_mode": {
    "name": "ipython",
    "version": 3
   },
   "file_extension": ".py",
   "mimetype": "text/x-python",
   "name": "python",
   "nbconvert_exporter": "python",
   "pygments_lexer": "ipython3",
   "version": "3.8.10"
  }
 },
 "nbformat": 4,
 "nbformat_minor": 5
}
