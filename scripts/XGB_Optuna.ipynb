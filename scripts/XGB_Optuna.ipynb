{
 "cells": [
  {
   "cell_type": "code",
   "execution_count": 1,
   "id": "658e941e-f936-4e5c-bbf1-fa2774fbe7cd",
   "metadata": {},
   "outputs": [
    {
     "data": {
      "text/plain": [
       "'1.4.1'"
      ]
     },
     "execution_count": 1,
     "metadata": {},
     "output_type": "execute_result"
    }
   ],
   "source": [
    "import numpy as np\n",
    "import pandas as pd\n",
    "import xgboost as xgb\n",
    "from sklearn.model_selection import KFold, train_test_split\n",
    "from sklearn.metrics import roc_auc_score\n",
    "from sklearn.preprocessing import StandardScaler\n",
    "from sklearn.preprocessing import LabelEncoder\n",
    "import optuna\n",
    "import gc\n",
    "xgb.__version__"
   ]
  },
  {
   "cell_type": "code",
   "execution_count": 2,
   "id": "fb2d6a11-962b-4e1b-b5ea-68473a3b7976",
   "metadata": {},
   "outputs": [],
   "source": [
    "train_x = pd.read_csv('../input/xgtrain.csv')\n",
    "test_x = pd.read_csv('../input/xgval.csv')"
   ]
  },
  {
   "cell_type": "code",
   "execution_count": 4,
   "id": "d2c480d8-4476-4a34-9220-f3f0140c4be2",
   "metadata": {},
   "outputs": [],
   "source": [
    "train_y = train_x['target']\n",
    "test_y = test_x['target']\n",
    "\n",
    "del train_x['target']\n",
    "del test_x['target']"
   ]
  },
  {
   "cell_type": "code",
   "execution_count": 5,
   "id": "e0289e3e-e8a1-4800-8342-37719635e923",
   "metadata": {},
   "outputs": [],
   "source": [
    "dtrain = xgb.DMatrix(train_x, label=train_y)\n",
    "dvalid = xgb.DMatrix(test_x, label=test_y)"
   ]
  },
  {
   "cell_type": "code",
   "execution_count": 9,
   "id": "2085bcda-3df9-44ea-aa9c-7e4670f5eca4",
   "metadata": {},
   "outputs": [],
   "source": [
    "num_round = 1000"
   ]
  },
  {
   "cell_type": "code",
   "execution_count": 10,
   "id": "cdbf6fc8-e5cb-4d5b-b02a-af96618330c9",
   "metadata": {},
   "outputs": [],
   "source": [
    "def objective(trial):\n",
    "        \n",
    "    params = {\n",
    "        'objective': trial.suggest_categorical('objective',['binary:logistic']), \n",
    "        'tree_method': trial.suggest_categorical('tree_method',['gpu_hist']),  # 'gpu_hist','hist'\n",
    "        'lambda': trial.suggest_loguniform('lambda',1e-3,10.0),\n",
    "        'alpha': trial.suggest_loguniform('alpha',1e-3,10.0),\n",
    "        'colsample_bytree': trial.suggest_uniform('colsample_bytree', 0.3,1.0),\n",
    "        'subsample': trial.suggest_uniform('subsample', 0.4, 1.0),\n",
    "        'learning_rate': trial.suggest_loguniform('learning_rate', 0.001,0.1),\n",
    "        #'n_estimators': trial.suggest_categorical('n_estimators', [1000]),\n",
    "        'max_depth': trial.suggest_categorical('max_depth', [3,5,7,9,11,13,15,17,20]),\n",
    "        #'random_state': trial.suggest_categorical('random_state', [24,48,2020]),\n",
    "        'min_child_weight': trial.suggest_int('min_child_weight', 1,300),\n",
    "        'eval_metric': trial.suggest_categorical('eval_metric',['logloss']),\n",
    "\n",
    "    }\n",
    "\n",
    "    model = xgb.train(params, dtrain, num_round)\n",
    "    predictions = model.predict(dvalid)\n",
    "\n",
    "    roc = roc_auc_score(test_y, predictions)\n",
    "    \n",
    "    return roc"
   ]
  },
  {
   "cell_type": "code",
   "execution_count": 14,
   "id": "0069a21e-1739-4a3b-87c0-47ad9a9938a4",
   "metadata": {},
   "outputs": [
    {
     "name": "stderr",
     "output_type": "stream",
     "text": [
      "\u001b[32m[I 2021-11-11 14:45:10,737]\u001b[0m A new study created in memory with name: no-name-df3679f6-a4a4-4ff4-a89a-8e9977cf9aa1\u001b[0m\n"
     ]
    }
   ],
   "source": [
    "study = optuna.create_study(direction='maximize')"
   ]
  },
  {
   "cell_type": "code",
   "execution_count": 15,
   "id": "e4d34566-603d-4256-bd79-634661852bb1",
   "metadata": {},
   "outputs": [
    {
     "name": "stderr",
     "output_type": "stream",
     "text": [
      "\u001b[32m[I 2021-11-11 14:46:27,684]\u001b[0m Trial 0 finished with value: 0.7964336225024462 and parameters: {'objective': 'binary:logistic', 'tree_method': 'gpu_hist', 'lambda': 6.882095202467414, 'alpha': 6.39327622567277, 'colsample_bytree': 0.39229320094448367, 'subsample': 0.7036937554435, 'learning_rate': 0.018379130006791915, 'max_depth': 9, 'min_child_weight': 75, 'eval_metric': 'logloss'}. Best is trial 0 with value: 0.7964336225024462.\u001b[0m\n",
      "\u001b[32m[I 2021-11-11 14:48:24,800]\u001b[0m Trial 1 finished with value: 0.7698666426419725 and parameters: {'objective': 'binary:logistic', 'tree_method': 'gpu_hist', 'lambda': 0.0018443936511925065, 'alpha': 0.14186306755719222, 'colsample_bytree': 0.7025165196950625, 'subsample': 0.8411665467660081, 'learning_rate': 0.0015924454350358577, 'max_depth': 9, 'min_child_weight': 290, 'eval_metric': 'logloss'}. Best is trial 0 with value: 0.7964336225024462.\u001b[0m\n"
     ]
    },
    {
     "name": "stdout",
     "output_type": "stream",
     "text": [
      "CPU times: user 3min 25s, sys: 119 ms, total: 3min 25s\n",
      "Wall time: 3min 13s\n"
     ]
    }
   ],
   "source": [
    "%%time\n",
    "study.optimize(objective, n_trials=2)"
   ]
  },
  {
   "cell_type": "code",
   "execution_count": 16,
   "id": "c9350da1-d52c-4bd5-9c79-bdccc7882750",
   "metadata": {},
   "outputs": [
    {
     "name": "stderr",
     "output_type": "stream",
     "text": [
      "\u001b[32m[I 2021-11-11 14:51:34,823]\u001b[0m Trial 2 finished with value: 0.7885998551464839 and parameters: {'objective': 'binary:logistic', 'tree_method': 'gpu_hist', 'lambda': 0.008687560979105967, 'alpha': 0.004319790845675309, 'colsample_bytree': 0.43293691180853533, 'subsample': 0.41604977245229646, 'learning_rate': 0.027881900367360702, 'max_depth': 15, 'min_child_weight': 19, 'eval_metric': 'logloss'}. Best is trial 0 with value: 0.7964336225024462.\u001b[0m\n",
      "\u001b[32m[I 2021-11-11 14:52:44,472]\u001b[0m Trial 3 finished with value: 0.7960160812268354 and parameters: {'objective': 'binary:logistic', 'tree_method': 'gpu_hist', 'lambda': 0.2663639882616678, 'alpha': 0.0048980365901496615, 'colsample_bytree': 0.6640804474044715, 'subsample': 0.7788783351935874, 'learning_rate': 0.02241215768367555, 'max_depth': 9, 'min_child_weight': 259, 'eval_metric': 'logloss'}. Best is trial 0 with value: 0.7964336225024462.\u001b[0m\n",
      "\u001b[32m[I 2021-11-11 14:54:42,600]\u001b[0m Trial 4 finished with value: 0.7767519226256654 and parameters: {'objective': 'binary:logistic', 'tree_method': 'gpu_hist', 'lambda': 3.2379569282709477, 'alpha': 0.2602332744836357, 'colsample_bytree': 0.7579359249668773, 'subsample': 0.7845030642665414, 'learning_rate': 0.0036858872825233863, 'max_depth': 20, 'min_child_weight': 224, 'eval_metric': 'logloss'}. Best is trial 0 with value: 0.7964336225024462.\u001b[0m\n",
      "\u001b[32m[I 2021-11-11 14:55:15,765]\u001b[0m Trial 5 finished with value: 0.7898084158888298 and parameters: {'objective': 'binary:logistic', 'tree_method': 'gpu_hist', 'lambda': 2.097601788882659, 'alpha': 0.01823484443352775, 'colsample_bytree': 0.5635794664808267, 'subsample': 0.5892776254758734, 'learning_rate': 0.020828829095465295, 'max_depth': 3, 'min_child_weight': 12, 'eval_metric': 'logloss'}. Best is trial 0 with value: 0.7964336225024462.\u001b[0m\n",
      "\u001b[32m[I 2021-11-11 14:56:37,742]\u001b[0m Trial 6 finished with value: 0.7958450620258539 and parameters: {'objective': 'binary:logistic', 'tree_method': 'gpu_hist', 'lambda': 7.621793123805497, 'alpha': 4.763394620843022, 'colsample_bytree': 0.5743481120542865, 'subsample': 0.5693978773596388, 'learning_rate': 0.018936006778116403, 'max_depth': 15, 'min_child_weight': 170, 'eval_metric': 'logloss'}. Best is trial 0 with value: 0.7964336225024462.\u001b[0m\n",
      "\u001b[32m[I 2021-11-11 15:01:16,076]\u001b[0m Trial 7 finished with value: 0.7934128574220969 and parameters: {'objective': 'binary:logistic', 'tree_method': 'gpu_hist', 'lambda': 0.004177216672624392, 'alpha': 1.0923929056688773, 'colsample_bytree': 0.9510612233373068, 'subsample': 0.8577466794253106, 'learning_rate': 0.007551097252211593, 'max_depth': 17, 'min_child_weight': 52, 'eval_metric': 'logloss'}. Best is trial 0 with value: 0.7964336225024462.\u001b[0m\n",
      "\u001b[32m[I 2021-11-11 15:02:14,974]\u001b[0m Trial 8 finished with value: 0.7594145024581672 and parameters: {'objective': 'binary:logistic', 'tree_method': 'gpu_hist', 'lambda': 2.3988561537200774, 'alpha': 9.89075857345535, 'colsample_bytree': 0.6241756095217691, 'subsample': 0.7461870391407317, 'learning_rate': 0.0015501959886180812, 'max_depth': 7, 'min_child_weight': 235, 'eval_metric': 'logloss'}. Best is trial 0 with value: 0.7964336225024462.\u001b[0m\n",
      "\u001b[32m[I 2021-11-11 15:03:56,417]\u001b[0m Trial 9 finished with value: 0.7949586010417754 and parameters: {'objective': 'binary:logistic', 'tree_method': 'gpu_hist', 'lambda': 0.0012002527834836562, 'alpha': 0.11246446489392167, 'colsample_bytree': 0.6212499560286908, 'subsample': 0.7671612294289507, 'learning_rate': 0.012237783064209392, 'max_depth': 17, 'min_child_weight': 204, 'eval_metric': 'logloss'}. Best is trial 0 with value: 0.7964336225024462.\u001b[0m\n",
      "\u001b[32m[I 2021-11-11 15:04:35,274]\u001b[0m Trial 10 finished with value: 0.7930258065612422 and parameters: {'objective': 'binary:logistic', 'tree_method': 'gpu_hist', 'lambda': 0.1810655903888541, 'alpha': 0.9068639161141624, 'colsample_bytree': 0.3148455652141151, 'subsample': 0.9957131391578136, 'learning_rate': 0.09401634805307028, 'max_depth': 5, 'min_child_weight': 101, 'eval_metric': 'logloss'}. Best is trial 0 with value: 0.7964336225024462.\u001b[0m\n",
      "\u001b[32m[I 2021-11-11 15:05:39,361]\u001b[0m Trial 11 finished with value: 0.7913951464774273 and parameters: {'objective': 'binary:logistic', 'tree_method': 'gpu_hist', 'lambda': 0.11288701018436527, 'alpha': 0.0015927108125239938, 'colsample_bytree': 0.4176969884832207, 'subsample': 0.637368153979932, 'learning_rate': 0.06048327177154538, 'max_depth': 9, 'min_child_weight': 114, 'eval_metric': 'logloss'}. Best is trial 0 with value: 0.7964336225024462.\u001b[0m\n",
      "\u001b[32m[I 2021-11-11 15:06:48,271]\u001b[0m Trial 12 finished with value: 0.7960776747857949 and parameters: {'objective': 'binary:logistic', 'tree_method': 'gpu_hist', 'lambda': 0.41989230893841517, 'alpha': 0.018269997265072956, 'colsample_bytree': 0.8869311907934492, 'subsample': 0.9271101301592061, 'learning_rate': 0.04034501979635592, 'max_depth': 9, 'min_child_weight': 300, 'eval_metric': 'logloss'}. Best is trial 0 with value: 0.7964336225024462.\u001b[0m\n",
      "\u001b[32m[I 2021-11-11 15:08:26,970]\u001b[0m Trial 13 finished with value: 0.7926640005098479 and parameters: {'objective': 'binary:logistic', 'tree_method': 'gpu_hist', 'lambda': 0.5329871491672717, 'alpha': 0.030185670853550558, 'colsample_bytree': 0.9891913286615983, 'subsample': 0.9980998645447385, 'learning_rate': 0.04473186876452303, 'max_depth': 11, 'min_child_weight': 90, 'eval_metric': 'logloss'}. Best is trial 0 with value: 0.7964336225024462.\u001b[0m\n",
      "\u001b[32m[I 2021-11-11 15:11:05,878]\u001b[0m Trial 14 finished with value: 0.7886753277398972 and parameters: {'objective': 'binary:logistic', 'tree_method': 'gpu_hist', 'lambda': 0.019538494901188856, 'alpha': 0.02907615619528919, 'colsample_bytree': 0.8221422573393513, 'subsample': 0.9058132214429466, 'learning_rate': 0.006203424866120098, 'max_depth': 13, 'min_child_weight': 149, 'eval_metric': 'logloss'}. Best is trial 0 with value: 0.7964336225024462.\u001b[0m\n",
      "\u001b[32m[I 2021-11-11 15:12:31,527]\u001b[0m Trial 15 finished with value: 0.792103189196212 and parameters: {'objective': 'binary:logistic', 'tree_method': 'gpu_hist', 'lambda': 0.0343798159843552, 'alpha': 0.6016014404671572, 'colsample_bytree': 0.871439379016999, 'subsample': 0.4647466068070504, 'learning_rate': 0.04089663067829741, 'max_depth': 9, 'min_child_weight': 63, 'eval_metric': 'logloss'}. Best is trial 0 with value: 0.7964336225024462.\u001b[0m\n",
      "\u001b[32m[I 2021-11-11 15:13:38,807]\u001b[0m Trial 16 finished with value: 0.792302212270356 and parameters: {'objective': 'binary:logistic', 'tree_method': 'gpu_hist', 'lambda': 0.7202637363824892, 'alpha': 3.408395971172437, 'colsample_bytree': 0.4483087968436915, 'subsample': 0.6748005912585701, 'learning_rate': 0.011674726264593484, 'max_depth': 9, 'min_child_weight': 299, 'eval_metric': 'logloss'}. Best is trial 0 with value: 0.7964336225024462.\u001b[0m\n",
      "\u001b[32m[I 2021-11-11 15:14:43,576]\u001b[0m Trial 17 finished with value: 0.7828873143879527 and parameters: {'objective': 'binary:logistic', 'tree_method': 'gpu_hist', 'lambda': 7.2923218972993595, 'alpha': 0.014574926180196601, 'colsample_bytree': 0.32249151690858135, 'subsample': 0.9253130925986646, 'learning_rate': 0.09474447778722557, 'max_depth': 11, 'min_child_weight': 150, 'eval_metric': 'logloss'}. Best is trial 0 with value: 0.7964336225024462.\u001b[0m\n",
      "\u001b[32m[I 2021-11-11 15:16:12,234]\u001b[0m Trial 18 finished with value: 0.7732324581170034 and parameters: {'objective': 'binary:logistic', 'tree_method': 'gpu_hist', 'lambda': 0.917343445322232, 'alpha': 0.054114052049203394, 'colsample_bytree': 0.886615734701646, 'subsample': 0.49583585202263286, 'learning_rate': 0.0033111727183603424, 'max_depth': 7, 'min_child_weight': 181, 'eval_metric': 'logloss'}. Best is trial 0 with value: 0.7964336225024462.\u001b[0m\n",
      "\u001b[32m[I 2021-11-11 15:19:03,758]\u001b[0m Trial 19 finished with value: 0.7913056826345742 and parameters: {'objective': 'binary:logistic', 'tree_method': 'gpu_hist', 'lambda': 0.07390771914176514, 'alpha': 0.00664347258187874, 'colsample_bytree': 0.7623968680670581, 'subsample': 0.7130381206834877, 'learning_rate': 0.032908169969075536, 'max_depth': 20, 'min_child_weight': 57, 'eval_metric': 'logloss'}. Best is trial 0 with value: 0.7964336225024462.\u001b[0m\n",
      "\u001b[32m[I 2021-11-11 15:19:38,741]\u001b[0m Trial 20 finished with value: 0.785241837722382 and parameters: {'objective': 'binary:logistic', 'tree_method': 'gpu_hist', 'lambda': 1.2991803134859816, 'alpha': 0.001304851767611391, 'colsample_bytree': 0.5097892616354737, 'subsample': 0.9178813273096301, 'learning_rate': 0.014695234899880436, 'max_depth': 3, 'min_child_weight': 125, 'eval_metric': 'logloss'}. Best is trial 0 with value: 0.7964336225024462.\u001b[0m\n",
      "\u001b[32m[I 2021-11-11 15:20:49,858]\u001b[0m Trial 21 finished with value: 0.7966735363612356 and parameters: {'objective': 'binary:logistic', 'tree_method': 'gpu_hist', 'lambda': 0.3585612373787048, 'alpha': 0.005045339800702845, 'colsample_bytree': 0.7189235474246247, 'subsample': 0.8194341327700834, 'learning_rate': 0.024532302326433872, 'max_depth': 9, 'min_child_weight': 265, 'eval_metric': 'logloss'}. Best is trial 21 with value: 0.7966735363612356.\u001b[0m\n",
      "\u001b[32m[I 2021-11-11 15:21:55,245]\u001b[0m Trial 22 finished with value: 0.794297613807103 and parameters: {'objective': 'binary:logistic', 'tree_method': 'gpu_hist', 'lambda': 0.40181706314761, 'alpha': 0.00942048920848834, 'colsample_bytree': 0.7214066532389427, 'subsample': 0.8382238063885361, 'learning_rate': 0.05248294008494612, 'max_depth': 9, 'min_child_weight': 273, 'eval_metric': 'logloss'}. Best is trial 21 with value: 0.7966735363612356.\u001b[0m\n",
      "\u001b[32m[I 2021-11-11 15:23:06,237]\u001b[0m Trial 23 finished with value: 0.7971174855635421 and parameters: {'objective': 'binary:logistic', 'tree_method': 'gpu_hist', 'lambda': 0.07382375583625363, 'alpha': 0.0023919654661293415, 'colsample_bytree': 0.8157006290650177, 'subsample': 0.8206021006500338, 'learning_rate': 0.03048344086934949, 'max_depth': 9, 'min_child_weight': 269, 'eval_metric': 'logloss'}. Best is trial 23 with value: 0.7971174855635421.\u001b[0m\n",
      "\u001b[32m[I 2021-11-11 15:24:36,903]\u001b[0m Trial 24 finished with value: 0.7951696097451341 and parameters: {'objective': 'binary:logistic', 'tree_method': 'gpu_hist', 'lambda': 0.04495517540997813, 'alpha': 0.0021598962517684903, 'colsample_bytree': 0.8110200494641331, 'subsample': 0.709428384006702, 'learning_rate': 0.01572027460518148, 'max_depth': 13, 'min_child_weight': 252, 'eval_metric': 'logloss'}. Best is trial 23 with value: 0.7971174855635421.\u001b[0m\n",
      "\u001b[32m[I 2021-11-11 15:25:32,170]\u001b[0m Trial 25 finished with value: 0.78581574078438 and parameters: {'objective': 'binary:logistic', 'tree_method': 'gpu_hist', 'lambda': 0.01435494615751649, 'alpha': 0.002532148891654969, 'colsample_bytree': 0.8096405221736486, 'subsample': 0.6355312824510119, 'learning_rate': 0.00882192240411488, 'max_depth': 5, 'min_child_weight': 216, 'eval_metric': 'logloss'}. Best is trial 23 with value: 0.7971174855635421.\u001b[0m\n",
      "\u001b[32m[I 2021-11-11 15:26:44,887]\u001b[0m Trial 26 finished with value: 0.7962982306689114 and parameters: {'objective': 'binary:logistic', 'tree_method': 'gpu_hist', 'lambda': 0.11307403924564428, 'alpha': 0.0031933261946410977, 'colsample_bytree': 0.6848633885234644, 'subsample': 0.8159939543370057, 'learning_rate': 0.02645194415851482, 'max_depth': 9, 'min_child_weight': 194, 'eval_metric': 'logloss'}. Best is trial 23 with value: 0.7971174855635421.\u001b[0m\n",
      "\u001b[32m[I 2021-11-11 15:27:47,310]\u001b[0m Trial 27 finished with value: 0.7919272717220337 and parameters: {'objective': 'binary:logistic', 'tree_method': 'gpu_hist', 'lambda': 0.05131969015699982, 'alpha': 0.30025875876569885, 'colsample_bytree': 0.4988084346423338, 'subsample': 0.7386599497261797, 'learning_rate': 0.0671926533823735, 'max_depth': 9, 'min_child_weight': 245, 'eval_metric': 'logloss'}. Best is trial 23 with value: 0.7971174855635421.\u001b[0m\n",
      "\u001b[32m[I 2021-11-11 15:29:20,501]\u001b[0m Trial 28 finished with value: 0.7777384134731795 and parameters: {'objective': 'binary:logistic', 'tree_method': 'gpu_hist', 'lambda': 0.21212628062251856, 'alpha': 0.054148543478163995, 'colsample_bytree': 0.3719718006061704, 'subsample': 0.8844033789248377, 'learning_rate': 0.0039096885035121995, 'max_depth': 9, 'min_child_weight': 271, 'eval_metric': 'logloss'}. Best is trial 23 with value: 0.7971174855635421.\u001b[0m\n",
      "\u001b[32m[I 2021-11-11 15:31:23,847]\u001b[0m Trial 29 finished with value: 0.7849988495292154 and parameters: {'objective': 'binary:logistic', 'tree_method': 'gpu_hist', 'lambda': 4.966150701493357, 'alpha': 0.001064844823378924, 'colsample_bytree': 0.7256903274667155, 'subsample': 0.8139189329681108, 'learning_rate': 0.005027454425730895, 'max_depth': 9, 'min_child_weight': 80, 'eval_metric': 'logloss'}. Best is trial 23 with value: 0.7971174855635421.\u001b[0m\n",
      "\u001b[32m[I 2021-11-11 15:32:53,544]\u001b[0m Trial 30 finished with value: 0.7951274952827848 and parameters: {'objective': 'binary:logistic', 'tree_method': 'gpu_hist', 'lambda': 0.00455503651161534, 'alpha': 1.977345716426801, 'colsample_bytree': 0.5568034673932294, 'subsample': 0.6790050981770371, 'learning_rate': 0.029829763574574054, 'max_depth': 9, 'min_child_weight': 34, 'eval_metric': 'logloss'}. Best is trial 23 with value: 0.7971174855635421.\u001b[0m\n",
      "\u001b[32m[I 2021-11-11 15:34:06,433]\u001b[0m Trial 31 finished with value: 0.7964098151135204 and parameters: {'objective': 'binary:logistic', 'tree_method': 'gpu_hist', 'lambda': 0.10648847467675338, 'alpha': 0.003110595050284067, 'colsample_bytree': 0.6992775834884015, 'subsample': 0.8135863648998811, 'learning_rate': 0.02700103917790658, 'max_depth': 9, 'min_child_weight': 188, 'eval_metric': 'logloss'}. Best is trial 23 with value: 0.7971174855635421.\u001b[0m\n",
      "\u001b[32m[I 2021-11-11 15:35:40,575]\u001b[0m Trial 32 finished with value: 0.7958015511103459 and parameters: {'objective': 'binary:logistic', 'tree_method': 'gpu_hist', 'lambda': 0.026740935093428387, 'alpha': 0.00802481154636201, 'colsample_bytree': 0.7588505520913478, 'subsample': 0.8630327913958313, 'learning_rate': 0.016813264912861656, 'max_depth': 15, 'min_child_weight': 274, 'eval_metric': 'logloss'}. Best is trial 23 with value: 0.7971174855635421.\u001b[0m\n",
      "\u001b[32m[I 2021-11-11 15:37:59,726]\u001b[0m Trial 33 finished with value: 0.7716837114105577 and parameters: {'objective': 'binary:logistic', 'tree_method': 'gpu_hist', 'lambda': 0.07701659887488248, 'alpha': 0.003733585660714437, 'colsample_bytree': 0.6561598661544887, 'subsample': 0.7987473145933218, 'learning_rate': 0.0010078934660594054, 'max_depth': 9, 'min_child_weight': 134, 'eval_metric': 'logloss'}. Best is trial 23 with value: 0.7971174855635421.\u001b[0m\n",
      "\u001b[32m[I 2021-11-11 15:39:14,896]\u001b[0m Trial 34 finished with value: 0.7966209556249578 and parameters: {'objective': 'binary:logistic', 'tree_method': 'gpu_hist', 'lambda': 0.16055300594784022, 'alpha': 0.0050137318563379454, 'colsample_bytree': 0.7072899323609814, 'subsample': 0.7626429529094418, 'learning_rate': 0.024270169665747562, 'max_depth': 9, 'min_child_weight': 171, 'eval_metric': 'logloss'}. Best is trial 23 with value: 0.7971174855635421.\u001b[0m\n",
      "\u001b[32m[I 2021-11-11 15:39:49,413]\u001b[0m Trial 35 finished with value: 0.7897724500952349 and parameters: {'objective': 'binary:logistic', 'tree_method': 'gpu_hist', 'lambda': 1.287318523714245, 'alpha': 0.23114942931438395, 'colsample_bytree': 0.8545949896678946, 'subsample': 0.7369509332886348, 'learning_rate': 0.02165335583629105, 'max_depth': 3, 'min_child_weight': 232, 'eval_metric': 'logloss'}. Best is trial 23 with value: 0.7971174855635421.\u001b[0m\n",
      "\u001b[32m[I 2021-11-11 15:41:34,814]\u001b[0m Trial 36 finished with value: 0.7941396845732929 and parameters: {'objective': 'binary:logistic', 'tree_method': 'gpu_hist', 'lambda': 0.23281248061855128, 'alpha': 0.005653561736557114, 'colsample_bytree': 0.616417850318456, 'subsample': 0.7704440156455654, 'learning_rate': 0.035657411640943354, 'max_depth': 20, 'min_child_weight': 166, 'eval_metric': 'logloss'}. Best is trial 23 with value: 0.7971174855635421.\u001b[0m\n",
      "\u001b[32m[I 2021-11-11 15:43:06,896]\u001b[0m Trial 37 finished with value: 0.7962235702982534 and parameters: {'objective': 'binary:logistic', 'tree_method': 'gpu_hist', 'lambda': 0.009352360547001375, 'alpha': 0.011747000406636421, 'colsample_bytree': 0.763335607541687, 'subsample': 0.6471903638515849, 'learning_rate': 0.022929409673517136, 'max_depth': 17, 'min_child_weight': 214, 'eval_metric': 'logloss'}. Best is trial 23 with value: 0.7971174855635421.\u001b[0m\n",
      "\u001b[32m[I 2021-11-11 15:44:45,462]\u001b[0m Trial 38 finished with value: 0.7948787930312855 and parameters: {'objective': 'binary:logistic', 'tree_method': 'gpu_hist', 'lambda': 1.9464720026060267, 'alpha': 0.055251088870868555, 'colsample_bytree': 0.9438314787608821, 'subsample': 0.8503707060226666, 'learning_rate': 0.01383056811242648, 'max_depth': 15, 'min_child_weight': 281, 'eval_metric': 'logloss'}. Best is trial 23 with value: 0.7971174855635421.\u001b[0m\n",
      "\u001b[32m[I 2021-11-11 15:46:02,636]\u001b[0m Trial 39 finished with value: 0.7924117572521251 and parameters: {'objective': 'binary:logistic', 'tree_method': 'gpu_hist', 'lambda': 4.408985523324429, 'alpha': 9.415742960148327, 'colsample_bytree': 0.5748130497860406, 'subsample': 0.5947897985460129, 'learning_rate': 0.01002531631770268, 'max_depth': 7, 'min_child_weight': 32, 'eval_metric': 'logloss'}. Best is trial 23 with value: 0.7971174855635421.\u001b[0m\n",
      "\u001b[32m[I 2021-11-11 15:46:51,927]\u001b[0m Trial 40 finished with value: 0.7933600736301303 and parameters: {'objective': 'binary:logistic', 'tree_method': 'gpu_hist', 'lambda': 0.16557020810401615, 'alpha': 0.001984917736944481, 'colsample_bytree': 0.7854264070210305, 'subsample': 0.7504001051171156, 'learning_rate': 0.019390518459126378, 'max_depth': 5, 'min_child_weight': 258, 'eval_metric': 'logloss'}. Best is trial 23 with value: 0.7971174855635421.\u001b[0m\n",
      "\u001b[32m[I 2021-11-11 15:48:05,840]\u001b[0m Trial 41 finished with value: 0.7967251659419181 and parameters: {'objective': 'binary:logistic', 'tree_method': 'gpu_hist', 'lambda': 0.31948338607716065, 'alpha': 0.004168974028127814, 'colsample_bytree': 0.6996713034539507, 'subsample': 0.7896433667268375, 'learning_rate': 0.027209999921455622, 'max_depth': 9, 'min_child_weight': 174, 'eval_metric': 'logloss'}. Best is trial 23 with value: 0.7971174855635421.\u001b[0m\n",
      "\u001b[32m[I 2021-11-11 15:49:21,683]\u001b[0m Trial 42 finished with value: 0.796606809411966 and parameters: {'objective': 'binary:logistic', 'tree_method': 'gpu_hist', 'lambda': 0.3324524658651024, 'alpha': 0.00496002354115569, 'colsample_bytree': 0.6719467985279302, 'subsample': 0.9571039233642016, 'learning_rate': 0.02355236451552737, 'max_depth': 9, 'min_child_weight': 163, 'eval_metric': 'logloss'}. Best is trial 23 with value: 0.7971174855635421.\u001b[0m\n",
      "\u001b[32m[I 2021-11-11 15:50:25,837]\u001b[0m Trial 43 finished with value: 0.7915772019332183 and parameters: {'objective': 'binary:logistic', 'tree_method': 'gpu_hist', 'lambda': 0.3298156281010216, 'alpha': 0.004550431641137663, 'colsample_bytree': 0.6712154237459673, 'subsample': 0.9719164436784925, 'learning_rate': 0.07070046064770498, 'max_depth': 9, 'min_child_weight': 168, 'eval_metric': 'logloss'}. Best is trial 23 with value: 0.7971174855635421.\u001b[0m\n",
      "\u001b[32m[I 2021-11-11 15:51:31,462]\u001b[0m Trial 44 finished with value: 0.793954107704371 and parameters: {'objective': 'binary:logistic', 'tree_method': 'gpu_hist', 'lambda': 0.5805831919855144, 'alpha': 0.00578119227110033, 'colsample_bytree': 0.6290583371080956, 'subsample': 0.8889895443659325, 'learning_rate': 0.05199135025045324, 'max_depth': 9, 'min_child_weight': 202, 'eval_metric': 'logloss'}. Best is trial 23 with value: 0.7971174855635421.\u001b[0m\n",
      "\u001b[32m[I 2021-11-11 15:52:48,952]\u001b[0m Trial 45 finished with value: 0.7963930184894318 and parameters: {'objective': 'binary:logistic', 'tree_method': 'gpu_hist', 'lambda': 0.30839465557400597, 'alpha': 0.025651489791752025, 'colsample_bytree': 0.7207716643285693, 'subsample': 0.9417065411060299, 'learning_rate': 0.02602423961068749, 'max_depth': 9, 'min_child_weight': 138, 'eval_metric': 'logloss'}. Best is trial 23 with value: 0.7971174855635421.\u001b[0m\n",
      "\u001b[32m[I 2021-11-11 15:54:14,859]\u001b[0m Trial 46 finished with value: 0.7955955885189748 and parameters: {'objective': 'binary:logistic', 'tree_method': 'gpu_hist', 'lambda': 0.14205248517382213, 'alpha': 0.001606021356408025, 'colsample_bytree': 0.8348971446109347, 'subsample': 0.9519792022670045, 'learning_rate': 0.03449461887838655, 'max_depth': 11, 'min_child_weight': 180, 'eval_metric': 'logloss'}. Best is trial 23 with value: 0.7971174855635421.\u001b[0m\n",
      "\u001b[32m[I 2021-11-11 15:55:39,984]\u001b[0m Trial 47 finished with value: 0.7962652180887565 and parameters: {'objective': 'binary:logistic', 'tree_method': 'gpu_hist', 'lambda': 0.0661350100195768, 'alpha': 0.00424265101981434, 'colsample_bytree': 0.5945232975821371, 'subsample': 0.7876644875885295, 'learning_rate': 0.01975722217766903, 'max_depth': 13, 'min_child_weight': 240, 'eval_metric': 'logloss'}. Best is trial 23 with value: 0.7971174855635421.\u001b[0m\n",
      "\u001b[32m[I 2021-11-11 15:56:48,683]\u001b[0m Trial 48 finished with value: 0.7945500316214705 and parameters: {'objective': 'binary:logistic', 'tree_method': 'gpu_hist', 'lambda': 0.24763701003769156, 'alpha': 0.011299819644104333, 'colsample_bytree': 0.6954496650345571, 'subsample': 0.8371825239568075, 'learning_rate': 0.05142894933093093, 'max_depth': 9, 'min_child_weight': 162, 'eval_metric': 'logloss'}. Best is trial 23 with value: 0.7971174855635421.\u001b[0m\n",
      "\u001b[32m[I 2021-11-11 15:58:48,252]\u001b[0m Trial 49 finished with value: 0.7919299488509844 and parameters: {'objective': 'binary:logistic', 'tree_method': 'gpu_hist', 'lambda': 0.8200107155103308, 'alpha': 0.0079529949565305, 'colsample_bytree': 0.7289399830001444, 'subsample': 0.8685933045423587, 'learning_rate': 0.040429816376244404, 'max_depth': 17, 'min_child_weight': 105, 'eval_metric': 'logloss'}. Best is trial 23 with value: 0.7971174855635421.\u001b[0m\n",
      "\u001b[32m[I 2021-11-11 16:00:08,874]\u001b[0m Trial 50 finished with value: 0.7937847984460327 and parameters: {'objective': 'binary:logistic', 'tree_method': 'gpu_hist', 'lambda': 0.4638749597276076, 'alpha': 0.019649632726423373, 'colsample_bytree': 0.6478284925275726, 'subsample': 0.7859366604979152, 'learning_rate': 0.012429953823894526, 'max_depth': 9, 'min_child_weight': 225, 'eval_metric': 'logloss'}. Best is trial 23 with value: 0.7971174855635421.\u001b[0m\n",
      "\u001b[32m[I 2021-11-11 16:01:30,990]\u001b[0m Trial 51 finished with value: 0.7968578450226972 and parameters: {'objective': 'binary:logistic', 'tree_method': 'gpu_hist', 'lambda': 0.15597124319201475, 'alpha': 0.002981249885277301, 'colsample_bytree': 0.7851382924575873, 'subsample': 0.721840473382724, 'learning_rate': 0.02321734470006174, 'max_depth': 9, 'min_child_weight': 120, 'eval_metric': 'logloss'}. Best is trial 23 with value: 0.7971174855635421.\u001b[0m\n"
     ]
    },
    {
     "name": "stdout",
     "output_type": "stream",
     "text": [
      "CPU times: user 1h 16min 52s, sys: 2.12 s, total: 1h 16min 54s\n",
      "Wall time: 1h 12min 17s\n"
     ]
    }
   ],
   "source": [
    "%%time\n",
    "study.optimize(objective, n_trials=50)"
   ]
  },
  {
   "cell_type": "code",
   "execution_count": 17,
   "id": "a51f3059-fe95-4c8f-aa68-d37467c36c7f",
   "metadata": {},
   "outputs": [
    {
     "data": {
      "text/plain": [
       "{'objective': 'binary:logistic',\n",
       " 'tree_method': 'gpu_hist',\n",
       " 'lambda': 0.07382375583625363,\n",
       " 'alpha': 0.0023919654661293415,\n",
       " 'colsample_bytree': 0.8157006290650177,\n",
       " 'subsample': 0.8206021006500338,\n",
       " 'learning_rate': 0.03048344086934949,\n",
       " 'max_depth': 9,\n",
       " 'min_child_weight': 269,\n",
       " 'eval_metric': 'logloss'}"
      ]
     },
     "execution_count": 17,
     "metadata": {},
     "output_type": "execute_result"
    }
   ],
   "source": [
    "study.best_trial.params"
   ]
  },
  {
   "cell_type": "code",
   "execution_count": null,
   "id": "4ac27eea-fb37-4a70-80d5-0cf77347ac15",
   "metadata": {},
   "outputs": [],
   "source": []
  }
 ],
 "metadata": {
  "kernelspec": {
   "display_name": "Python 3 (ipykernel)",
   "language": "python",
   "name": "python3"
  },
  "language_info": {
   "codemirror_mode": {
    "name": "ipython",
    "version": 3
   },
   "file_extension": ".py",
   "mimetype": "text/x-python",
   "name": "python",
   "nbconvert_exporter": "python",
   "pygments_lexer": "ipython3",
   "version": "3.8.10"
  }
 },
 "nbformat": 4,
 "nbformat_minor": 5
}
