{
 "cells": [
  {
   "cell_type": "code",
   "execution_count": 1,
   "id": "658e941e-f936-4e5c-bbf1-fa2774fbe7cd",
   "metadata": {},
   "outputs": [
    {
     "data": {
      "text/plain": [
       "'1.5.0'"
      ]
     },
     "execution_count": 1,
     "metadata": {},
     "output_type": "execute_result"
    }
   ],
   "source": [
    "import numpy as np\n",
    "import pandas as pd\n",
    "import xgboost as xgb\n",
    "from sklearn.model_selection import KFold, train_test_split\n",
    "from sklearn.metrics import roc_auc_score\n",
    "from sklearn.preprocessing import StandardScaler\n",
    "from sklearn.preprocessing import LabelEncoder\n",
    "import optuna\n",
    "import gc\n",
    "xgb.__version__"
   ]
  },
  {
   "cell_type": "code",
   "execution_count": 2,
   "id": "fb2d6a11-962b-4e1b-b5ea-68473a3b7976",
   "metadata": {},
   "outputs": [],
   "source": [
    "train_x = pd.read_csv('../input/xgtrain.csv')\n",
    "test_x = pd.read_csv('../input/xgval.csv')"
   ]
  },
  {
   "cell_type": "code",
   "execution_count": 3,
   "id": "d2c480d8-4476-4a34-9220-f3f0140c4be2",
   "metadata": {},
   "outputs": [],
   "source": [
    "train_y = train_x['target']\n",
    "test_y = test_x['target']\n",
    "\n",
    "del train_x['target']\n",
    "del test_x['target']"
   ]
  },
  {
   "cell_type": "code",
   "execution_count": 4,
   "id": "724598ae-cf25-4f48-866d-0dac522cfd22",
   "metadata": {},
   "outputs": [],
   "source": [
    "train_x.replace([np.inf, -np.inf], np.nan, inplace=True)\n",
    "test_x.replace([np.inf, -np.inf], np.nan, inplace=True)"
   ]
  },
  {
   "cell_type": "code",
   "execution_count": 5,
   "id": "e0289e3e-e8a1-4800-8342-37719635e923",
   "metadata": {},
   "outputs": [],
   "source": [
    "dtrain = xgb.DMatrix(train_x, label=train_y)\n",
    "dvalid = xgb.DMatrix(test_x, label=test_y)"
   ]
  },
  {
   "cell_type": "code",
   "execution_count": 6,
   "id": "2085bcda-3df9-44ea-aa9c-7e4670f5eca4",
   "metadata": {},
   "outputs": [],
   "source": [
    "num_round = 1000"
   ]
  },
  {
   "cell_type": "code",
   "execution_count": 7,
   "id": "cdbf6fc8-e5cb-4d5b-b02a-af96618330c9",
   "metadata": {},
   "outputs": [],
   "source": [
    "def objective(trial):\n",
    "        \n",
    "    params = {\n",
    "        'objective': trial.suggest_categorical('objective',['binary:logistic']), \n",
    "        'tree_method': trial.suggest_categorical('tree_method',['gpu_hist']),  # 'gpu_hist','hist'\n",
    "        'lambda': trial.suggest_loguniform('lambda',1e-3,10.0),\n",
    "        'alpha': trial.suggest_loguniform('alpha',1e-3,10.0),\n",
    "        'colsample_bytree': trial.suggest_uniform('colsample_bytree', 0.3,1.0),\n",
    "        'subsample': trial.suggest_uniform('subsample', 0.4, 1.0),\n",
    "        'learning_rate': trial.suggest_loguniform('learning_rate', 0.001,0.1),\n",
    "        #'n_estimators': trial.suggest_categorical('n_estimators', [1000]),\n",
    "        'max_depth': trial.suggest_categorical('max_depth', [3,5,7,9,11,13,15,17,20]),\n",
    "        #'random_state': trial.suggest_categorical('random_state', [24,48,2020]),\n",
    "        'min_child_weight': trial.suggest_int('min_child_weight', 1,300),\n",
    "        'eval_metric': trial.suggest_categorical('eval_metric',['logloss']),\n",
    "\n",
    "    }\n",
    "\n",
    "    model = xgb.train(params, dtrain, num_round)\n",
    "    predictions = model.predict(dvalid)\n",
    "\n",
    "    roc = roc_auc_score(test_y, predictions)\n",
    "    \n",
    "    return roc"
   ]
  },
  {
   "cell_type": "code",
   "execution_count": 8,
   "id": "0069a21e-1739-4a3b-87c0-47ad9a9938a4",
   "metadata": {},
   "outputs": [
    {
     "name": "stderr",
     "output_type": "stream",
     "text": [
      "\u001b[32m[I 2021-11-14 13:12:49,110]\u001b[0m A new study created in memory with name: no-name-9ae846cd-c193-4869-940c-d507f2353a15\u001b[0m\n"
     ]
    }
   ],
   "source": [
    "study = optuna.create_study(direction='maximize')"
   ]
  },
  {
   "cell_type": "code",
   "execution_count": 9,
   "id": "e4d34566-603d-4256-bd79-634661852bb1",
   "metadata": {},
   "outputs": [
    {
     "name": "stderr",
     "output_type": "stream",
     "text": [
      "\u001b[32m[I 2021-11-14 13:13:44,723]\u001b[0m Trial 0 finished with value: 0.7599902989254044 and parameters: {'objective': 'binary:logistic', 'tree_method': 'gpu_hist', 'lambda': 1.2767801092284488, 'alpha': 0.010838285032591802, 'colsample_bytree': 0.6215133356593129, 'subsample': 0.9163982927024152, 'learning_rate': 0.0013327977499660696, 'max_depth': 5, 'min_child_weight': 195, 'eval_metric': 'logloss'}. Best is trial 0 with value: 0.7599902989254044.\u001b[0m\n",
      "\u001b[32m[I 2021-11-14 13:16:57,164]\u001b[0m Trial 1 finished with value: 0.7730942252850145 and parameters: {'objective': 'binary:logistic', 'tree_method': 'gpu_hist', 'lambda': 0.5413020892709048, 'alpha': 0.06757242655647304, 'colsample_bytree': 0.9478087079374942, 'subsample': 0.701343831900148, 'learning_rate': 0.0015111027192229393, 'max_depth': 15, 'min_child_weight': 132, 'eval_metric': 'logloss'}. Best is trial 1 with value: 0.7730942252850145.\u001b[0m\n"
     ]
    },
    {
     "name": "stdout",
     "output_type": "stream",
     "text": [
      "CPU times: user 4min 14s, sys: 225 ms, total: 4min 14s\n",
      "Wall time: 4min 3s\n"
     ]
    }
   ],
   "source": [
    "%%time\n",
    "study.optimize(objective, n_trials=2)"
   ]
  },
  {
   "cell_type": "code",
   "execution_count": null,
   "id": "c9350da1-d52c-4bd5-9c79-bdccc7882750",
   "metadata": {},
   "outputs": [
    {
     "name": "stderr",
     "output_type": "stream",
     "text": [
      "\u001b[32m[I 2021-11-14 13:17:28,265]\u001b[0m Trial 2 finished with value: 0.7447187548682155 and parameters: {'objective': 'binary:logistic', 'tree_method': 'gpu_hist', 'lambda': 0.031884295075786204, 'alpha': 0.019275246876602856, 'colsample_bytree': 0.35920920781450877, 'subsample': 0.4096600473494486, 'learning_rate': 0.00157749203914937, 'max_depth': 3, 'min_child_weight': 98, 'eval_metric': 'logloss'}. Best is trial 1 with value: 0.7730942252850145.\u001b[0m\n",
      "\u001b[32m[I 2021-11-14 13:18:54,672]\u001b[0m Trial 3 finished with value: 0.7867325176265696 and parameters: {'objective': 'binary:logistic', 'tree_method': 'gpu_hist', 'lambda': 0.04174785621450093, 'alpha': 0.9653706462566634, 'colsample_bytree': 0.4171517448821714, 'subsample': 0.9817759401632996, 'learning_rate': 0.0064583697026000435, 'max_depth': 15, 'min_child_weight': 292, 'eval_metric': 'logloss'}. Best is trial 3 with value: 0.7867325176265696.\u001b[0m\n",
      "\u001b[32m[I 2021-11-14 13:19:49,824]\u001b[0m Trial 4 finished with value: 0.7950120670296091 and parameters: {'objective': 'binary:logistic', 'tree_method': 'gpu_hist', 'lambda': 0.7426216283038297, 'alpha': 0.12290881206424968, 'colsample_bytree': 0.483299948915428, 'subsample': 0.49792356393665593, 'learning_rate': 0.01571557618025152, 'max_depth': 7, 'min_child_weight': 172, 'eval_metric': 'logloss'}. Best is trial 4 with value: 0.7950120670296091.\u001b[0m\n",
      "\u001b[32m[I 2021-11-14 13:21:34,093]\u001b[0m Trial 5 finished with value: 0.775503158638112 and parameters: {'objective': 'binary:logistic', 'tree_method': 'gpu_hist', 'lambda': 0.001271940274311498, 'alpha': 0.011754565658038313, 'colsample_bytree': 0.5327205926376266, 'subsample': 0.6022460919417155, 'learning_rate': 0.0030665685273331754, 'max_depth': 15, 'min_child_weight': 216, 'eval_metric': 'logloss'}. Best is trial 4 with value: 0.7950120670296091.\u001b[0m\n",
      "\u001b[32m[I 2021-11-14 13:22:36,422]\u001b[0m Trial 6 finished with value: 0.7908549257231194 and parameters: {'objective': 'binary:logistic', 'tree_method': 'gpu_hist', 'lambda': 0.01783734493743219, 'alpha': 0.19592405622135464, 'colsample_bytree': 0.8246708267693776, 'subsample': 0.7693483460472825, 'learning_rate': 0.05587337270108087, 'max_depth': 7, 'min_child_weight': 17, 'eval_metric': 'logloss'}. Best is trial 4 with value: 0.7950120670296091.\u001b[0m\n",
      "\u001b[32m[I 2021-11-14 13:25:21,024]\u001b[0m Trial 7 finished with value: 0.79565244054948 and parameters: {'objective': 'binary:logistic', 'tree_method': 'gpu_hist', 'lambda': 0.040668849519680646, 'alpha': 0.0060193204697278355, 'colsample_bytree': 0.6654919431384434, 'subsample': 0.9137480051312559, 'learning_rate': 0.020520361508516907, 'max_depth': 15, 'min_child_weight': 42, 'eval_metric': 'logloss'}. Best is trial 7 with value: 0.79565244054948.\u001b[0m\n",
      "\u001b[32m[I 2021-11-14 13:27:11,654]\u001b[0m Trial 8 finished with value: 0.7959892475956691 and parameters: {'objective': 'binary:logistic', 'tree_method': 'gpu_hist', 'lambda': 0.06402852681700724, 'alpha': 0.7753455572822124, 'colsample_bytree': 0.7503057635943404, 'subsample': 0.9985444428536618, 'learning_rate': 0.027267621796288947, 'max_depth': 15, 'min_child_weight': 118, 'eval_metric': 'logloss'}. Best is trial 8 with value: 0.7959892475956691.\u001b[0m\n",
      "\u001b[32m[I 2021-11-14 13:28:02,161]\u001b[0m Trial 9 finished with value: 0.7890562174636655 and parameters: {'objective': 'binary:logistic', 'tree_method': 'gpu_hist', 'lambda': 0.9472821692029683, 'alpha': 0.011310926093791022, 'colsample_bytree': 0.8170971949502948, 'subsample': 0.9506334961597642, 'learning_rate': 0.09956891936608096, 'max_depth': 7, 'min_child_weight': 141, 'eval_metric': 'logloss'}. Best is trial 8 with value: 0.7959892475956691.\u001b[0m\n",
      "\u001b[32m[I 2021-11-14 13:30:36,887]\u001b[0m Trial 10 finished with value: 0.7953541428365675 and parameters: {'objective': 'binary:logistic', 'tree_method': 'gpu_hist', 'lambda': 9.274070807882984, 'alpha': 9.637280702340595, 'colsample_bytree': 0.751935673116436, 'subsample': 0.8389877567165692, 'learning_rate': 0.03553405560513845, 'max_depth': 17, 'min_child_weight': 70, 'eval_metric': 'logloss'}. Best is trial 8 with value: 0.7959892475956691.\u001b[0m\n",
      "\u001b[32m[I 2021-11-14 13:33:50,674]\u001b[0m Trial 11 finished with value: 0.7943954777431906 and parameters: {'objective': 'binary:logistic', 'tree_method': 'gpu_hist', 'lambda': 0.003853393167426079, 'alpha': 0.0024509510572263402, 'colsample_bytree': 0.6971136858429533, 'subsample': 0.8451675226341058, 'learning_rate': 0.017585885608769992, 'max_depth': 11, 'min_child_weight': 7, 'eval_metric': 'logloss'}. Best is trial 8 with value: 0.7959892475956691.\u001b[0m\n",
      "\u001b[32m[I 2021-11-14 13:36:27,507]\u001b[0m Trial 12 finished with value: 0.7954884303321452 and parameters: {'objective': 'binary:logistic', 'tree_method': 'gpu_hist', 'lambda': 0.11990546913860875, 'alpha': 1.1786342139954618, 'colsample_bytree': 0.6222368432664118, 'subsample': 0.9992934592832873, 'learning_rate': 0.025373419947140687, 'max_depth': 20, 'min_child_weight': 66, 'eval_metric': 'logloss'}. Best is trial 8 with value: 0.7959892475956691.\u001b[0m\n",
      "\u001b[32m[I 2021-11-14 13:38:31,958]\u001b[0m Trial 13 finished with value: 0.7925311985269414 and parameters: {'objective': 'binary:logistic', 'tree_method': 'gpu_hist', 'lambda': 0.15051313362280933, 'alpha': 0.0013125914129570935, 'colsample_bytree': 0.8140759845218087, 'subsample': 0.8604976412745226, 'learning_rate': 0.008256998372766658, 'max_depth': 9, 'min_child_weight': 54, 'eval_metric': 'logloss'}. Best is trial 8 with value: 0.7959892475956691.\u001b[0m\n",
      "\u001b[32m[I 2021-11-14 13:40:18,326]\u001b[0m Trial 14 finished with value: 0.7915900193782813 and parameters: {'objective': 'binary:logistic', 'tree_method': 'gpu_hist', 'lambda': 0.008273483840172726, 'alpha': 0.7342946084867513, 'colsample_bytree': 0.9891623505899868, 'subsample': 0.7171123510710148, 'learning_rate': 0.04841489800205526, 'max_depth': 13, 'min_child_weight': 110, 'eval_metric': 'logloss'}. Best is trial 8 with value: 0.7959892475956691.\u001b[0m\n"
     ]
    }
   ],
   "source": [
    "%%time\n",
    "study.optimize(objective, n_trials=50)"
   ]
  },
  {
   "cell_type": "code",
   "execution_count": 17,
   "id": "a51f3059-fe95-4c8f-aa68-d37467c36c7f",
   "metadata": {},
   "outputs": [
    {
     "data": {
      "text/plain": [
       "{'objective': 'binary:logistic',\n",
       " 'tree_method': 'gpu_hist',\n",
       " 'lambda': 0.07382375583625363,\n",
       " 'alpha': 0.0023919654661293415,\n",
       " 'colsample_bytree': 0.8157006290650177,\n",
       " 'subsample': 0.8206021006500338,\n",
       " 'learning_rate': 0.03048344086934949,\n",
       " 'max_depth': 9,\n",
       " 'min_child_weight': 269,\n",
       " 'eval_metric': 'logloss'}"
      ]
     },
     "execution_count": 17,
     "metadata": {},
     "output_type": "execute_result"
    }
   ],
   "source": [
    "study.best_trial.params"
   ]
  },
  {
   "cell_type": "code",
   "execution_count": null,
   "id": "4ac27eea-fb37-4a70-80d5-0cf77347ac15",
   "metadata": {},
   "outputs": [],
   "source": []
  }
 ],
 "metadata": {
  "kernelspec": {
   "display_name": "Python 3 (ipykernel)",
   "language": "python",
   "name": "python3"
  },
  "language_info": {
   "codemirror_mode": {
    "name": "ipython",
    "version": 3
   },
   "file_extension": ".py",
   "mimetype": "text/x-python",
   "name": "python",
   "nbconvert_exporter": "python",
   "pygments_lexer": "ipython3",
   "version": "3.8.10"
  }
 },
 "nbformat": 4,
 "nbformat_minor": 5
}
