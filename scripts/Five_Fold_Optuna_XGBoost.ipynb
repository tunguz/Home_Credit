{
 "cells": [
  {
   "cell_type": "code",
   "execution_count": 1,
   "id": "75ea85fe-0cbf-46f8-b19d-af696892b1bc",
   "metadata": {},
   "outputs": [
    {
     "data": {
      "text/plain": [
       "'1.5.1'"
      ]
     },
     "execution_count": 1,
     "metadata": {},
     "output_type": "execute_result"
    }
   ],
   "source": [
    "from dask.distributed import Client\n",
    "from dask_cuda import LocalCUDACluster\n",
    "from dask import dataframe as dd\n",
    "import pandas as pd\n",
    "import numpy as np\n",
    "import xgboost as xgb\n",
    "from sklearn.model_selection import StratifiedKFold\n",
    "from sklearn.metrics import roc_auc_score\n",
    "from sklearn.preprocessing import StandardScaler\n",
    "from sklearn.preprocessing import LabelEncoder\n",
    "import optuna\n",
    "import gc\n",
    "xgb.__version__"
   ]
  },
  {
   "cell_type": "code",
   "execution_count": 2,
   "id": "363f4bf4-b806-4474-adb2-ae28885357fa",
   "metadata": {},
   "outputs": [
    {
     "name": "stdout",
     "output_type": "stream",
     "text": [
      "Thu Dec  2 12:57:25 2021       \n",
      "+-----------------------------------------------------------------------------+\n",
      "| NVIDIA-SMI 470.57.02    Driver Version: 470.57.02    CUDA Version: 11.4     |\n",
      "|-------------------------------+----------------------+----------------------+\n",
      "| GPU  Name        Persistence-M| Bus-Id        Disp.A | Volatile Uncorr. ECC |\n",
      "| Fan  Temp  Perf  Pwr:Usage/Cap|         Memory-Usage | GPU-Util  Compute M. |\n",
      "|                               |                      |               MIG M. |\n",
      "|===============================+======================+======================|\n",
      "|   0  NVIDIA TITAN RTX    On   | 00000000:09:00.0 Off |                  N/A |\n",
      "| 41%   38C    P8    28W / 280W |  23171MiB / 24220MiB |      0%      Default |\n",
      "|                               |                      |                  N/A |\n",
      "+-------------------------------+----------------------+----------------------+\n",
      "|   1  NVIDIA TITAN RTX    On   | 00000000:41:00.0  On |                  N/A |\n",
      "| 41%   38C    P8    33W / 280W |  23221MiB / 24217MiB |      3%      Default |\n",
      "|                               |                      |                  N/A |\n",
      "+-------------------------------+----------------------+----------------------+\n",
      "                                                                               \n",
      "+-----------------------------------------------------------------------------+\n",
      "| Processes:                                                                  |\n",
      "|  GPU   GI   CI        PID   Type   Process name                  GPU Memory |\n",
      "|        ID   ID                                                   Usage      |\n",
      "|=============================================================================|\n",
      "|    0   N/A  N/A      1230      G   /usr/lib/xorg/Xorg                  4MiB |\n",
      "|    0   N/A  N/A     20669      C   /usr/bin/python3                 4341MiB |\n",
      "|    0   N/A  N/A     28780      C   /usr/bin/python3                  241MiB |\n",
      "|    0   N/A  N/A     74666      C   /usr/bin/python3                18581MiB |\n",
      "|    1   N/A  N/A      1230      G   /usr/lib/xorg/Xorg                178MiB |\n",
      "|    1   N/A  N/A      1488      G   /usr/bin/gnome-shell               27MiB |\n",
      "|    1   N/A  N/A      2053      G   /usr/lib/firefox/firefox          187MiB |\n",
      "|    1   N/A  N/A     10155      G   ...mviewer/tv_bin/TeamViewer       12MiB |\n",
      "|    1   N/A  N/A     11685      G   /usr/lib/firefox/firefox            3MiB |\n",
      "|    1   N/A  N/A     74666      C   /usr/bin/python3                22805MiB |\n",
      "+-----------------------------------------------------------------------------+\n"
     ]
    }
   ],
   "source": [
    "!nvidia-smi"
   ]
  },
  {
   "cell_type": "code",
   "execution_count": 3,
   "id": "7732ad39-c2d9-488f-a425-6c47443989a3",
   "metadata": {},
   "outputs": [
    {
     "name": "stderr",
     "output_type": "stream",
     "text": [
      "distributed.preloading - INFO - Import preload module: dask_cuda.initialize\n",
      "distributed.preloading - INFO - Import preload module: dask_cuda.initialize\n"
     ]
    }
   ],
   "source": [
    "cluster = LocalCUDACluster(CUDA_VISIBLE_DEVICES=[0,1])\n",
    "client = Client(cluster)"
   ]
  },
  {
   "cell_type": "code",
   "execution_count": 4,
   "id": "68f5171c-5524-449a-8576-ecf44578e8af",
   "metadata": {},
   "outputs": [
    {
     "name": "stdout",
     "output_type": "stream",
     "text": [
      "Thu Dec  2 12:57:29 2021       \n",
      "+-----------------------------------------------------------------------------+\n",
      "| NVIDIA-SMI 470.57.02    Driver Version: 470.57.02    CUDA Version: 11.4     |\n",
      "|-------------------------------+----------------------+----------------------+\n",
      "| GPU  Name        Persistence-M| Bus-Id        Disp.A | Volatile Uncorr. ECC |\n",
      "| Fan  Temp  Perf  Pwr:Usage/Cap|         Memory-Usage | GPU-Util  Compute M. |\n",
      "|                               |                      |               MIG M. |\n",
      "|===============================+======================+======================|\n",
      "|   0  NVIDIA TITAN RTX    On   | 00000000:09:00.0 Off |                  N/A |\n",
      "| 41%   39C    P2    65W / 280W |  23489MiB / 24220MiB |      1%      Default |\n",
      "|                               |                      |                  N/A |\n",
      "+-------------------------------+----------------------+----------------------+\n",
      "|   1  NVIDIA TITAN RTX    On   | 00000000:41:00.0  On |                  N/A |\n",
      "| 41%   39C    P2    73W / 280W |  23392MiB / 24217MiB |      0%      Default |\n",
      "|                               |                      |                  N/A |\n",
      "+-------------------------------+----------------------+----------------------+\n",
      "                                                                               \n",
      "+-----------------------------------------------------------------------------+\n",
      "| Processes:                                                                  |\n",
      "|  GPU   GI   CI        PID   Type   Process name                  GPU Memory |\n",
      "|        ID   ID                                                   Usage      |\n",
      "|=============================================================================|\n",
      "|    0   N/A  N/A      1230      G   /usr/lib/xorg/Xorg                  4MiB |\n",
      "|    0   N/A  N/A     20669      C   /usr/bin/python3                 4341MiB |\n",
      "|    0   N/A  N/A     28780      C   /usr/bin/python3                  241MiB |\n",
      "|    0   N/A  N/A     74666      C   /usr/bin/python3                18581MiB |\n",
      "|    0   N/A  N/A    125390      C   /usr/bin/python3                  159MiB |\n",
      "|    0   N/A  N/A    125479      C   /usr/bin/python3                  159MiB |\n",
      "|    1   N/A  N/A      1230      G   /usr/lib/xorg/Xorg                178MiB |\n",
      "|    1   N/A  N/A      1488      G   /usr/bin/gnome-shell               27MiB |\n",
      "|    1   N/A  N/A      2053      G   /usr/lib/firefox/firefox          199MiB |\n",
      "|    1   N/A  N/A     10155      G   ...mviewer/tv_bin/TeamViewer       12MiB |\n",
      "|    1   N/A  N/A     11685      G   /usr/lib/firefox/firefox            3MiB |\n",
      "|    1   N/A  N/A     74666      C   /usr/bin/python3                22805MiB |\n",
      "|    1   N/A  N/A    125477      C   /usr/bin/python3                  159MiB |\n",
      "+-----------------------------------------------------------------------------+\n"
     ]
    }
   ],
   "source": [
    "!nvidia-smi"
   ]
  },
  {
   "cell_type": "code",
   "execution_count": 6,
   "id": "a4d4f878-20e0-4090-97c9-bfe63d86d7d8",
   "metadata": {},
   "outputs": [
    {
     "name": "stdout",
     "output_type": "stream",
     "text": [
      "Loading fold 0\n",
      "Loading fold 1\n",
      "Loading fold 2\n",
      "Loading fold 3\n",
      "Loading fold 4\n",
      "CPU times: user 4.25 s, sys: 78.9 ms, total: 4.33 s\n",
      "Wall time: 4.2 s\n"
     ]
    }
   ],
   "source": [
    "%%time\n",
    "train_folds = []\n",
    "val_folds = []\n",
    "train_ys = []\n",
    "val_ys = []\n",
    "\n",
    "for i in range(5):\n",
    "    print(f'Loading fold {i}')\n",
    "    train_fold = dd.read_csv(f'../input/xgtrain_fold_{i}.csv')\n",
    "    val_fold = dd.read_csv(f'../input/xgval_fold_{i}.csv')\n",
    "    \n",
    "    train_fold = train_fold.replace([np.inf, -np.inf], np.nan)\n",
    "    val_fold = val_fold.replace([np.inf, -np.inf], np.nan)\n",
    "    \n",
    "    train_y = train_fold['target']\n",
    "    train_fold = train_fold[train_fold.columns.difference(['target'])]\n",
    "    \n",
    "    val_y = val_fold['target']\n",
    "    val_fold = val_fold[val_fold.columns.difference(['target'])]\n",
    "    \n",
    "    train_folds.append(train_fold)\n",
    "    val_folds.append(val_fold)\n",
    "    \n",
    "    train_ys.append(train_y)\n",
    "    val_ys.append(val_y)"
   ]
  },
  {
   "cell_type": "code",
   "execution_count": 7,
   "id": "0a6778d6-86a2-4346-8c36-8a5732c52796",
   "metadata": {},
   "outputs": [],
   "source": [
    "application_train = pd.read_csv('../input/application_train.csv')\n",
    "target = application_train.TARGET.values\n",
    "train_oof = np.zeros((application_train.shape[0],))"
   ]
  },
  {
   "cell_type": "code",
   "execution_count": 8,
   "id": "db0e70fd-d1ef-4905-a0c7-da0decf93e86",
   "metadata": {},
   "outputs": [],
   "source": [
    "num_round = 1000\n",
    "\n",
    "def objective(trial):\n",
    "        \n",
    "    params = {\n",
    "        'objective': trial.suggest_categorical('objective',['binary:logistic']), \n",
    "        'tree_method': trial.suggest_categorical('tree_method',['gpu_hist']),  # 'gpu_hist','hist'\n",
    "        'lambda': trial.suggest_loguniform('lambda',1e-3,10.0),\n",
    "        'alpha': trial.suggest_loguniform('alpha',1e-3,10.0),\n",
    "        'colsample_bytree': trial.suggest_uniform('colsample_bytree', 0.3,1.0),\n",
    "        'subsample': trial.suggest_uniform('subsample', 0.4, 1.0),\n",
    "        'learning_rate': trial.suggest_loguniform('learning_rate', 0.001,0.1),\n",
    "        #'n_estimators': trial.suggest_categorical('n_estimators', [1000]),\n",
    "        'max_depth': trial.suggest_categorical('max_depth', [3,5,7,9,11,13,15,17,20]),\n",
    "        #'random_state': trial.suggest_categorical('random_state', [24,48,2020]),\n",
    "        'min_child_weight': trial.suggest_int('min_child_weight', 1,300),\n",
    "        'eval_metric': trial.suggest_categorical('eval_metric',['logloss']),\n",
    "\n",
    "    }\n",
    "    \n",
    "    #start_time = time()\n",
    "    kf = StratifiedKFold(5, shuffle=True, random_state=1974)\n",
    "\n",
    "    for i, (train_index, test_index) in enumerate(kf.split(application_train,target)):\n",
    "        dtrain = xgb.dask.DaskDMatrix(client, train_folds[i], train_ys[i])\n",
    "        dval = xgb.dask.DaskDMatrix(client, val_folds[i], val_ys[i])\n",
    "        \n",
    "        output = xgb.dask.train(client, params, dtrain, num_round)\n",
    "        booster = output['booster']  # booster is the trained model\n",
    "        booster.set_param({'predictor': 'gpu_predictor'})\n",
    "        predictions = xgb.dask.predict(client, booster, dval)\n",
    "        predictions = predictions.compute()\n",
    "        train_oof[val_index] = predictions\n",
    "\n",
    "\n",
    "    roc = roc_auc_score(target, train_oof)\n",
    "    \n",
    "    return roc"
   ]
  },
  {
   "cell_type": "code",
   "execution_count": 9,
   "id": "27cf4525-bfec-4b7c-a5a1-017b5481d82a",
   "metadata": {},
   "outputs": [
    {
     "name": "stderr",
     "output_type": "stream",
     "text": [
      "\u001b[32m[I 2021-12-02 13:00:32,850]\u001b[0m A new study created in memory with name: no-name-d1fa903c-ed0e-4e86-bc32-3ed457a4674d\u001b[0m\n"
     ]
    }
   ],
   "source": [
    "study = optuna.create_study(direction='maximize')"
   ]
  },
  {
   "cell_type": "code",
   "execution_count": 10,
   "id": "2bf7bfb0-13d3-4c2e-97e0-65dd7ef33353",
   "metadata": {},
   "outputs": [
    {
     "name": "stderr",
     "output_type": "stream",
     "text": [
      "[13:01:35] task [xgboost.dask]:tcp://192.168.1.200:44387 got new rank 0\n",
      "[13:01:35] task [xgboost.dask]:tcp://192.168.1.200:44983 got new rank 1\n",
      "distributed.worker - WARNING - Compute Failed\n",
      "Function:  dispatched_train\n",
      "args:      ('tcp://192.168.1.200:44387', [b'DMLC_NUM_WORKER=2', b'DMLC_TRACKER_URI=192.168.1.200', b'DMLC_TRACKER_PORT=9091', b'DMLC_TASK_ID=[xgboost.dask]:tcp://192.168.1.200:44387'], {'feature_names': None, 'feature_types': None, 'feature_weights': None, 'meta_names': ['labels'], 'missing': None, 'enable_categorical': False, 'parts': [(      ACT_AMT_ANNUITY_MAX  ...  total_credit_None\n",
      "0                     0.0  ...         865055.565\n",
      "1                     NaN  ...                NaN\n",
      "2                     NaN  ...         146250.000\n",
      "3                     NaN  ...         468445.500\n",
      "4                     NaN  ...        4800811.500\n",
      "...                   ...  ...                ...\n",
      "6562                  NaN  ...         508927.500\n",
      "6563                  NaN  ...        1098612.000\n",
      "6564                  NaN  ...                NaN\n",
      "6565                  NaN  ...                NaN\n",
      "6566                  NaN  ...         136957.500\n",
      "\n",
      "[6567 rows x 1828 columns], 0       1\n",
      "1       0\n",
      "2       0\n",
      "3       0\n",
      "4 \n",
      "kwargs:    {}\n",
      "Exception: XGBoostError('[13:01:44] ../src/tree/updater_gpu_hist.cu:770: Exception in gpu_hist: [13:01:44] ../src/c_api/../data/../common/device_helpers.cuh:428: Memory allocation error on worker 0: Caching allocator\\n- Free memory: 405274624\\n- Requested memory: 271294719\\n\\nStack trace:\\n  [bt] (0) /home/tunguz/.local/lib/python3.8/site-packages/xgboost/lib/libxgboost.so(+0x3147d9) [0x7ff7221c77d9]\\n  [bt] (1) /home/tunguz/.local/lib/python3.8/site-packages/xgboost/lib/libxgboost.so(+0x3184fb) [0x7ff7221cb4fb]\\n  [bt] (2) /home/tunguz/.local/lib/python3.8/site-packages/xgboost/lib/libxgboost.so(+0x3262a1) [0x7ff7221d92a1]\\n  [bt] (3) /home/tunguz/.local/lib/python3.8/site-packages/xgboost/lib/libxgboost.so(+0x327e8d) [0x7ff7221dae8d]\\n  [bt] (4) /home/tunguz/.local/lib/python3.8/site-packages/xgboost/lib/libxgboost.so(+0x37fd40) [0x7ff722232d40]\\n  [bt] (5) /home/tunguz/.local/lib/python3.8/site-packages/xgboost/lib/libxgboost.so(+0x38036e) [0x7ff72223336e]\\n  [bt] (6) /home/tunguz/.local/lib/python3.8/site-packages/xgboost/lib/libxgboost.so(+0x14ce2b) [0x7ff721fffe2b]\\n  [bt] (7) /home/tunguz/.local/lib/python3.8/site-packages/xgboost/lib/libxgboost.so(+0x4d7e36) [0x7ff72238ae36]\\n  [bt] (8) /home/tunguz/.local/lib/python3.8/site-packages/xgboost/lib/libxgboost.so(+0x4e1b86) [0x7ff722394b86]\\n\\n\\n\\nStack trace:\\n  [bt] (0) /home/tunguz/.local/lib/python3.8/site-packages/xgboost/lib/libxgboost.so(+0x4c2e69) [0x7ff722375e69]\\n  [bt] (1) /home/tunguz/.local/lib/python3.8/site-packages/xgboost/lib/libxgboost.so(+0x4e1edf) [0x7ff722394edf]\\n  [bt] (2) /home/tunguz/.local/lib/python3.8/site-packages/xgboost/lib/libxgboost.so(+0x17d4a3) [0x7ff7220304a3]\\n  [bt] (3) /home/tunguz/.local/lib/python3.8/site-packages/xgboost/lib/libxgboost.so(+0x17e027) [0x7ff722031027]\\n  [bt] (4) /home/tunguz/.local/lib/python3.8/site-packages/xgboost/lib/libxgboost.so(+0x1b481a) [0x7ff72206781a]\\n  [bt] (5) /home/tunguz/.local/lib/python3.8/site-packages/xgboost/lib/libxgboost.so(XGBoosterUpdateOneIter+0x68) [0x7ff721f4c4e8]\\n  [bt] (6) /lib/x86_64-linux-gnu/libffi.so.7(+0x6ff5) [0x7ff8d0205ff5]\\n  [bt] (7) /lib/x86_64-linux-gnu/libffi.so.7(+0x640a) [0x7ff8d020540a]\\n  [bt] (8) /usr/lib/python3.8/lib-dynload/_ctypes.cpython-38-x86_64-linux-gnu.so(_ctypes_callproc+0x5b6) [0x7ff8d021e306]\\n\\n')\n",
      "\n",
      "\u001b[33m[W 2021-12-02 13:01:45,405]\u001b[0m Trial 0 failed because of the following error: XGBoostError('[13:01:44] ../src/tree/updater_gpu_hist.cu:770: Exception in gpu_hist: [13:01:44] ../src/c_api/../data/../common/device_helpers.cuh:428: Memory allocation error on worker 0: Caching allocator\\n- Free memory: 405274624\\n- Requested memory: 271294719\\n\\nStack trace:\\n  [bt] (0) /home/tunguz/.local/lib/python3.8/site-packages/xgboost/lib/libxgboost.so(+0x3147d9) [0x7ff7221c77d9]\\n  [bt] (1) /home/tunguz/.local/lib/python3.8/site-packages/xgboost/lib/libxgboost.so(+0x3184fb) [0x7ff7221cb4fb]\\n  [bt] (2) /home/tunguz/.local/lib/python3.8/site-packages/xgboost/lib/libxgboost.so(+0x3262a1) [0x7ff7221d92a1]\\n  [bt] (3) /home/tunguz/.local/lib/python3.8/site-packages/xgboost/lib/libxgboost.so(+0x327e8d) [0x7ff7221dae8d]\\n  [bt] (4) /home/tunguz/.local/lib/python3.8/site-packages/xgboost/lib/libxgboost.so(+0x37fd40) [0x7ff722232d40]\\n  [bt] (5) /home/tunguz/.local/lib/python3.8/site-packages/xgboost/lib/libxgboost.so(+0x38036e) [0x7ff72223336e]\\n  [bt] (6) /home/tunguz/.local/lib/python3.8/site-packages/xgboost/lib/libxgboost.so(+0x14ce2b) [0x7ff721fffe2b]\\n  [bt] (7) /home/tunguz/.local/lib/python3.8/site-packages/xgboost/lib/libxgboost.so(+0x4d7e36) [0x7ff72238ae36]\\n  [bt] (8) /home/tunguz/.local/lib/python3.8/site-packages/xgboost/lib/libxgboost.so(+0x4e1b86) [0x7ff722394b86]\\n\\n\\n\\nStack trace:\\n  [bt] (0) /home/tunguz/.local/lib/python3.8/site-packages/xgboost/lib/libxgboost.so(+0x4c2e69) [0x7ff722375e69]\\n  [bt] (1) /home/tunguz/.local/lib/python3.8/site-packages/xgboost/lib/libxgboost.so(+0x4e1edf) [0x7ff722394edf]\\n  [bt] (2) /home/tunguz/.local/lib/python3.8/site-packages/xgboost/lib/libxgboost.so(+0x17d4a3) [0x7ff7220304a3]\\n  [bt] (3) /home/tunguz/.local/lib/python3.8/site-packages/xgboost/lib/libxgboost.so(+0x17e027) [0x7ff722031027]\\n  [bt] (4) /home/tunguz/.local/lib/python3.8/site-packages/xgboost/lib/libxgboost.so(+0x1b481a) [0x7ff72206781a]\\n  [bt] (5) /home/tunguz/.local/lib/python3.8/site-packages/xgboost/lib/libxgboost.so(XGBoosterUpdateOneIter+0x68) [0x7ff721f4c4e8]\\n  [bt] (6) /lib/x86_64-linux-gnu/libffi.so.7(+0x6ff5) [0x7ff8d0205ff5]\\n  [bt] (7) /lib/x86_64-linux-gnu/libffi.so.7(+0x640a) [0x7ff8d020540a]\\n  [bt] (8) /usr/lib/python3.8/lib-dynload/_ctypes.cpython-38-x86_64-linux-gnu.so(_ctypes_callproc+0x5b6) [0x7ff8d021e306]\\n\\n')\u001b[0m\n",
      "Traceback (most recent call last):\n",
      "  File \"/usr/local/lib/python3.8/dist-packages/optuna/study/_optimize.py\", line 213, in _run_trial\n",
      "    value_or_values = func(trial)\n",
      "  File \"/tmp/ipykernel_125390/1659783861.py\", line 28, in objective\n",
      "    output = xgb.dask.train(client, params, dtrain, num_round)\n",
      "  File \"/home/tunguz/.local/lib/python3.8/site-packages/xgboost/dask.py\", line 981, in train\n",
      "    return client.sync(_train_async, global_config=config.get_config(), **args)\n",
      "  File \"/home/tunguz/.local/lib/python3.8/site-packages/distributed/client.py\", line 860, in sync\n",
      "    return sync(\n",
      "  File \"/home/tunguz/.local/lib/python3.8/site-packages/distributed/utils.py\", line 326, in sync\n",
      "    raise exc.with_traceback(tb)\n",
      "  File \"/home/tunguz/.local/lib/python3.8/site-packages/distributed/utils.py\", line 309, in f\n",
      "    result[0] = yield future\n",
      "  File \"/usr/local/lib/python3.8/dist-packages/tornado/gen.py\", line 762, in run\n",
      "    value = future.result()\n",
      "  File \"/home/tunguz/.local/lib/python3.8/site-packages/xgboost/dask.py\", line 931, in _train_async\n",
      "    results = await client.gather(futures, asynchronous=True)\n",
      "  File \"/home/tunguz/.local/lib/python3.8/site-packages/distributed/client.py\", line 1831, in _gather\n",
      "    raise exception.with_traceback(traceback)\n",
      "  File \"/home/tunguz/.local/lib/python3.8/site-packages/xgboost/dask.py\", line 886, in dispatched_train\n",
      "    bst = worker_train(params=local_param,\n",
      "  File \"/home/tunguz/.local/lib/python3.8/site-packages/xgboost/training.py\", line 188, in train\n",
      "    bst = _train_internal(params, dtrain,\n",
      "  File \"/home/tunguz/.local/lib/python3.8/site-packages/xgboost/training.py\", line 81, in _train_internal\n",
      "    bst.update(dtrain, i, obj)\n",
      "  File \"/home/tunguz/.local/lib/python3.8/site-packages/xgboost/core.py\", line 1680, in update\n",
      "    _check_call(_LIB.XGBoosterUpdateOneIter(self.handle,\n",
      "  File \"/home/tunguz/.local/lib/python3.8/site-packages/xgboost/core.py\", line 218, in _check_call\n",
      "    raise XGBoostError(py_str(_LIB.XGBGetLastError()))\n",
      "xgboost.core.XGBoostError: [13:01:44] ../src/tree/updater_gpu_hist.cu:770: Exception in gpu_hist: [13:01:44] ../src/c_api/../data/../common/device_helpers.cuh:428: Memory allocation error on worker 0: Caching allocator\n",
      "- Free memory: 405274624\n",
      "- Requested memory: 271294719\n",
      "\n",
      "Stack trace:\n",
      "  [bt] (0) /home/tunguz/.local/lib/python3.8/site-packages/xgboost/lib/libxgboost.so(+0x3147d9) [0x7ff7221c77d9]\n",
      "  [bt] (1) /home/tunguz/.local/lib/python3.8/site-packages/xgboost/lib/libxgboost.so(+0x3184fb) [0x7ff7221cb4fb]\n",
      "  [bt] (2) /home/tunguz/.local/lib/python3.8/site-packages/xgboost/lib/libxgboost.so(+0x3262a1) [0x7ff7221d92a1]\n",
      "  [bt] (3) /home/tunguz/.local/lib/python3.8/site-packages/xgboost/lib/libxgboost.so(+0x327e8d) [0x7ff7221dae8d]\n",
      "  [bt] (4) /home/tunguz/.local/lib/python3.8/site-packages/xgboost/lib/libxgboost.so(+0x37fd40) [0x7ff722232d40]\n",
      "  [bt] (5) /home/tunguz/.local/lib/python3.8/site-packages/xgboost/lib/libxgboost.so(+0x38036e) [0x7ff72223336e]\n",
      "  [bt] (6) /home/tunguz/.local/lib/python3.8/site-packages/xgboost/lib/libxgboost.so(+0x14ce2b) [0x7ff721fffe2b]\n",
      "  [bt] (7) /home/tunguz/.local/lib/python3.8/site-packages/xgboost/lib/libxgboost.so(+0x4d7e36) [0x7ff72238ae36]\n",
      "  [bt] (8) /home/tunguz/.local/lib/python3.8/site-packages/xgboost/lib/libxgboost.so(+0x4e1b86) [0x7ff722394b86]\n",
      "\n",
      "\n",
      "\n",
      "Stack trace:\n",
      "  [bt] (0) /home/tunguz/.local/lib/python3.8/site-packages/xgboost/lib/libxgboost.so(+0x4c2e69) [0x7ff722375e69]\n",
      "  [bt] (1) /home/tunguz/.local/lib/python3.8/site-packages/xgboost/lib/libxgboost.so(+0x4e1edf) [0x7ff722394edf]\n",
      "  [bt] (2) /home/tunguz/.local/lib/python3.8/site-packages/xgboost/lib/libxgboost.so(+0x17d4a3) [0x7ff7220304a3]\n",
      "  [bt] (3) /home/tunguz/.local/lib/python3.8/site-packages/xgboost/lib/libxgboost.so(+0x17e027) [0x7ff722031027]\n",
      "  [bt] (4) /home/tunguz/.local/lib/python3.8/site-packages/xgboost/lib/libxgboost.so(+0x1b481a) [0x7ff72206781a]\n",
      "  [bt] (5) /home/tunguz/.local/lib/python3.8/site-packages/xgboost/lib/libxgboost.so(XGBoosterUpdateOneIter+0x68) [0x7ff721f4c4e8]\n",
      "  [bt] (6) /lib/x86_64-linux-gnu/libffi.so.7(+0x6ff5) [0x7ff8d0205ff5]\n",
      "  [bt] (7) /lib/x86_64-linux-gnu/libffi.so.7(+0x640a) [0x7ff8d020540a]\n",
      "  [bt] (8) /usr/lib/python3.8/lib-dynload/_ctypes.cpython-38-x86_64-linux-gnu.so(_ctypes_callproc+0x5b6) [0x7ff8d021e306]\n",
      "\n",
      "\n"
     ]
    },
    {
     "ename": "XGBoostError",
     "evalue": "[13:01:44] ../src/tree/updater_gpu_hist.cu:770: Exception in gpu_hist: [13:01:44] ../src/c_api/../data/../common/device_helpers.cuh:428: Memory allocation error on worker 0: Caching allocator\n- Free memory: 405274624\n- Requested memory: 271294719\n\nStack trace:\n  [bt] (0) /home/tunguz/.local/lib/python3.8/site-packages/xgboost/lib/libxgboost.so(+0x3147d9) [0x7ff7221c77d9]\n  [bt] (1) /home/tunguz/.local/lib/python3.8/site-packages/xgboost/lib/libxgboost.so(+0x3184fb) [0x7ff7221cb4fb]\n  [bt] (2) /home/tunguz/.local/lib/python3.8/site-packages/xgboost/lib/libxgboost.so(+0x3262a1) [0x7ff7221d92a1]\n  [bt] (3) /home/tunguz/.local/lib/python3.8/site-packages/xgboost/lib/libxgboost.so(+0x327e8d) [0x7ff7221dae8d]\n  [bt] (4) /home/tunguz/.local/lib/python3.8/site-packages/xgboost/lib/libxgboost.so(+0x37fd40) [0x7ff722232d40]\n  [bt] (5) /home/tunguz/.local/lib/python3.8/site-packages/xgboost/lib/libxgboost.so(+0x38036e) [0x7ff72223336e]\n  [bt] (6) /home/tunguz/.local/lib/python3.8/site-packages/xgboost/lib/libxgboost.so(+0x14ce2b) [0x7ff721fffe2b]\n  [bt] (7) /home/tunguz/.local/lib/python3.8/site-packages/xgboost/lib/libxgboost.so(+0x4d7e36) [0x7ff72238ae36]\n  [bt] (8) /home/tunguz/.local/lib/python3.8/site-packages/xgboost/lib/libxgboost.so(+0x4e1b86) [0x7ff722394b86]\n\n\n\nStack trace:\n  [bt] (0) /home/tunguz/.local/lib/python3.8/site-packages/xgboost/lib/libxgboost.so(+0x4c2e69) [0x7ff722375e69]\n  [bt] (1) /home/tunguz/.local/lib/python3.8/site-packages/xgboost/lib/libxgboost.so(+0x4e1edf) [0x7ff722394edf]\n  [bt] (2) /home/tunguz/.local/lib/python3.8/site-packages/xgboost/lib/libxgboost.so(+0x17d4a3) [0x7ff7220304a3]\n  [bt] (3) /home/tunguz/.local/lib/python3.8/site-packages/xgboost/lib/libxgboost.so(+0x17e027) [0x7ff722031027]\n  [bt] (4) /home/tunguz/.local/lib/python3.8/site-packages/xgboost/lib/libxgboost.so(+0x1b481a) [0x7ff72206781a]\n  [bt] (5) /home/tunguz/.local/lib/python3.8/site-packages/xgboost/lib/libxgboost.so(XGBoosterUpdateOneIter+0x68) [0x7ff721f4c4e8]\n  [bt] (6) /lib/x86_64-linux-gnu/libffi.so.7(+0x6ff5) [0x7ff8d0205ff5]\n  [bt] (7) /lib/x86_64-linux-gnu/libffi.so.7(+0x640a) [0x7ff8d020540a]\n  [bt] (8) /usr/lib/python3.8/lib-dynload/_ctypes.cpython-38-x86_64-linux-gnu.so(_ctypes_callproc+0x5b6) [0x7ff8d021e306]\n\n",
     "output_type": "error",
     "traceback": [
      "\u001b[0;31m---------------------------------------------------------------------------\u001b[0m",
      "\u001b[0;31mXGBoostError\u001b[0m                              Traceback (most recent call last)",
      "\u001b[0;32m<timed eval>\u001b[0m in \u001b[0;36m<module>\u001b[0;34m\u001b[0m\n",
      "\u001b[0;32m/usr/local/lib/python3.8/dist-packages/optuna/study/study.py\u001b[0m in \u001b[0;36moptimize\u001b[0;34m(self, func, n_trials, timeout, n_jobs, catch, callbacks, gc_after_trial, show_progress_bar)\u001b[0m\n\u001b[1;32m    398\u001b[0m             )\n\u001b[1;32m    399\u001b[0m \u001b[0;34m\u001b[0m\u001b[0m\n\u001b[0;32m--> 400\u001b[0;31m         _optimize(\n\u001b[0m\u001b[1;32m    401\u001b[0m             \u001b[0mstudy\u001b[0m\u001b[0;34m=\u001b[0m\u001b[0mself\u001b[0m\u001b[0;34m,\u001b[0m\u001b[0;34m\u001b[0m\u001b[0;34m\u001b[0m\u001b[0m\n\u001b[1;32m    402\u001b[0m             \u001b[0mfunc\u001b[0m\u001b[0;34m=\u001b[0m\u001b[0mfunc\u001b[0m\u001b[0;34m,\u001b[0m\u001b[0;34m\u001b[0m\u001b[0;34m\u001b[0m\u001b[0m\n",
      "\u001b[0;32m/usr/local/lib/python3.8/dist-packages/optuna/study/_optimize.py\u001b[0m in \u001b[0;36m_optimize\u001b[0;34m(study, func, n_trials, timeout, n_jobs, catch, callbacks, gc_after_trial, show_progress_bar)\u001b[0m\n\u001b[1;32m     64\u001b[0m     \u001b[0;32mtry\u001b[0m\u001b[0;34m:\u001b[0m\u001b[0;34m\u001b[0m\u001b[0;34m\u001b[0m\u001b[0m\n\u001b[1;32m     65\u001b[0m         \u001b[0;32mif\u001b[0m \u001b[0mn_jobs\u001b[0m \u001b[0;34m==\u001b[0m \u001b[0;36m1\u001b[0m\u001b[0;34m:\u001b[0m\u001b[0;34m\u001b[0m\u001b[0;34m\u001b[0m\u001b[0m\n\u001b[0;32m---> 66\u001b[0;31m             _optimize_sequential(\n\u001b[0m\u001b[1;32m     67\u001b[0m                 \u001b[0mstudy\u001b[0m\u001b[0;34m,\u001b[0m\u001b[0;34m\u001b[0m\u001b[0;34m\u001b[0m\u001b[0m\n\u001b[1;32m     68\u001b[0m                 \u001b[0mfunc\u001b[0m\u001b[0;34m,\u001b[0m\u001b[0;34m\u001b[0m\u001b[0;34m\u001b[0m\u001b[0m\n",
      "\u001b[0;32m/usr/local/lib/python3.8/dist-packages/optuna/study/_optimize.py\u001b[0m in \u001b[0;36m_optimize_sequential\u001b[0;34m(study, func, n_trials, timeout, catch, callbacks, gc_after_trial, reseed_sampler_rng, time_start, progress_bar)\u001b[0m\n\u001b[1;32m    161\u001b[0m \u001b[0;34m\u001b[0m\u001b[0m\n\u001b[1;32m    162\u001b[0m         \u001b[0;32mtry\u001b[0m\u001b[0;34m:\u001b[0m\u001b[0;34m\u001b[0m\u001b[0;34m\u001b[0m\u001b[0m\n\u001b[0;32m--> 163\u001b[0;31m             \u001b[0mtrial\u001b[0m \u001b[0;34m=\u001b[0m \u001b[0m_run_trial\u001b[0m\u001b[0;34m(\u001b[0m\u001b[0mstudy\u001b[0m\u001b[0;34m,\u001b[0m \u001b[0mfunc\u001b[0m\u001b[0;34m,\u001b[0m \u001b[0mcatch\u001b[0m\u001b[0;34m)\u001b[0m\u001b[0;34m\u001b[0m\u001b[0;34m\u001b[0m\u001b[0m\n\u001b[0m\u001b[1;32m    164\u001b[0m         \u001b[0;32mexcept\u001b[0m \u001b[0mException\u001b[0m\u001b[0;34m:\u001b[0m\u001b[0;34m\u001b[0m\u001b[0;34m\u001b[0m\u001b[0m\n\u001b[1;32m    165\u001b[0m             \u001b[0;32mraise\u001b[0m\u001b[0;34m\u001b[0m\u001b[0;34m\u001b[0m\u001b[0m\n",
      "\u001b[0;32m/usr/local/lib/python3.8/dist-packages/optuna/study/_optimize.py\u001b[0m in \u001b[0;36m_run_trial\u001b[0;34m(study, func, catch)\u001b[0m\n\u001b[1;32m    262\u001b[0m \u001b[0;34m\u001b[0m\u001b[0m\n\u001b[1;32m    263\u001b[0m     \u001b[0;32mif\u001b[0m \u001b[0mstate\u001b[0m \u001b[0;34m==\u001b[0m \u001b[0mTrialState\u001b[0m\u001b[0;34m.\u001b[0m\u001b[0mFAIL\u001b[0m \u001b[0;32mand\u001b[0m \u001b[0mfunc_err\u001b[0m \u001b[0;32mis\u001b[0m \u001b[0;32mnot\u001b[0m \u001b[0;32mNone\u001b[0m \u001b[0;32mand\u001b[0m \u001b[0;32mnot\u001b[0m \u001b[0misinstance\u001b[0m\u001b[0;34m(\u001b[0m\u001b[0mfunc_err\u001b[0m\u001b[0;34m,\u001b[0m \u001b[0mcatch\u001b[0m\u001b[0;34m)\u001b[0m\u001b[0;34m:\u001b[0m\u001b[0;34m\u001b[0m\u001b[0;34m\u001b[0m\u001b[0m\n\u001b[0;32m--> 264\u001b[0;31m         \u001b[0;32mraise\u001b[0m \u001b[0mfunc_err\u001b[0m\u001b[0;34m\u001b[0m\u001b[0;34m\u001b[0m\u001b[0m\n\u001b[0m\u001b[1;32m    265\u001b[0m     \u001b[0;32mreturn\u001b[0m \u001b[0mtrial\u001b[0m\u001b[0;34m\u001b[0m\u001b[0;34m\u001b[0m\u001b[0m\n\u001b[1;32m    266\u001b[0m \u001b[0;34m\u001b[0m\u001b[0m\n",
      "\u001b[0;32m/usr/local/lib/python3.8/dist-packages/optuna/study/_optimize.py\u001b[0m in \u001b[0;36m_run_trial\u001b[0;34m(study, func, catch)\u001b[0m\n\u001b[1;32m    211\u001b[0m \u001b[0;34m\u001b[0m\u001b[0m\n\u001b[1;32m    212\u001b[0m     \u001b[0;32mtry\u001b[0m\u001b[0;34m:\u001b[0m\u001b[0;34m\u001b[0m\u001b[0;34m\u001b[0m\u001b[0m\n\u001b[0;32m--> 213\u001b[0;31m         \u001b[0mvalue_or_values\u001b[0m \u001b[0;34m=\u001b[0m \u001b[0mfunc\u001b[0m\u001b[0;34m(\u001b[0m\u001b[0mtrial\u001b[0m\u001b[0;34m)\u001b[0m\u001b[0;34m\u001b[0m\u001b[0;34m\u001b[0m\u001b[0m\n\u001b[0m\u001b[1;32m    214\u001b[0m     \u001b[0;32mexcept\u001b[0m \u001b[0mexceptions\u001b[0m\u001b[0;34m.\u001b[0m\u001b[0mTrialPruned\u001b[0m \u001b[0;32mas\u001b[0m \u001b[0me\u001b[0m\u001b[0;34m:\u001b[0m\u001b[0;34m\u001b[0m\u001b[0;34m\u001b[0m\u001b[0m\n\u001b[1;32m    215\u001b[0m         \u001b[0;31m# TODO(mamu): Handle multi-objective cases.\u001b[0m\u001b[0;34m\u001b[0m\u001b[0;34m\u001b[0m\u001b[0;34m\u001b[0m\u001b[0m\n",
      "\u001b[0;32m/tmp/ipykernel_125390/1659783861.py\u001b[0m in \u001b[0;36mobjective\u001b[0;34m(trial)\u001b[0m\n\u001b[1;32m     26\u001b[0m         \u001b[0mdval\u001b[0m \u001b[0;34m=\u001b[0m \u001b[0mxgb\u001b[0m\u001b[0;34m.\u001b[0m\u001b[0mdask\u001b[0m\u001b[0;34m.\u001b[0m\u001b[0mDaskDMatrix\u001b[0m\u001b[0;34m(\u001b[0m\u001b[0mclient\u001b[0m\u001b[0;34m,\u001b[0m \u001b[0mval_folds\u001b[0m\u001b[0;34m[\u001b[0m\u001b[0mi\u001b[0m\u001b[0;34m]\u001b[0m\u001b[0;34m,\u001b[0m \u001b[0mval_ys\u001b[0m\u001b[0;34m[\u001b[0m\u001b[0mi\u001b[0m\u001b[0;34m]\u001b[0m\u001b[0;34m)\u001b[0m\u001b[0;34m\u001b[0m\u001b[0;34m\u001b[0m\u001b[0m\n\u001b[1;32m     27\u001b[0m \u001b[0;34m\u001b[0m\u001b[0m\n\u001b[0;32m---> 28\u001b[0;31m         \u001b[0moutput\u001b[0m \u001b[0;34m=\u001b[0m \u001b[0mxgb\u001b[0m\u001b[0;34m.\u001b[0m\u001b[0mdask\u001b[0m\u001b[0;34m.\u001b[0m\u001b[0mtrain\u001b[0m\u001b[0;34m(\u001b[0m\u001b[0mclient\u001b[0m\u001b[0;34m,\u001b[0m \u001b[0mparams\u001b[0m\u001b[0;34m,\u001b[0m \u001b[0mdtrain\u001b[0m\u001b[0;34m,\u001b[0m \u001b[0mnum_round\u001b[0m\u001b[0;34m)\u001b[0m\u001b[0;34m\u001b[0m\u001b[0;34m\u001b[0m\u001b[0m\n\u001b[0m\u001b[1;32m     29\u001b[0m         \u001b[0mbooster\u001b[0m \u001b[0;34m=\u001b[0m \u001b[0moutput\u001b[0m\u001b[0;34m[\u001b[0m\u001b[0;34m'booster'\u001b[0m\u001b[0;34m]\u001b[0m  \u001b[0;31m# booster is the trained model\u001b[0m\u001b[0;34m\u001b[0m\u001b[0;34m\u001b[0m\u001b[0m\n\u001b[1;32m     30\u001b[0m         \u001b[0mbooster\u001b[0m\u001b[0;34m.\u001b[0m\u001b[0mset_param\u001b[0m\u001b[0;34m(\u001b[0m\u001b[0;34m{\u001b[0m\u001b[0;34m'predictor'\u001b[0m\u001b[0;34m:\u001b[0m \u001b[0;34m'gpu_predictor'\u001b[0m\u001b[0;34m}\u001b[0m\u001b[0;34m)\u001b[0m\u001b[0;34m\u001b[0m\u001b[0;34m\u001b[0m\u001b[0m\n",
      "\u001b[0;32m~/.local/lib/python3.8/site-packages/xgboost/dask.py\u001b[0m in \u001b[0;36mtrain\u001b[0;34m(client, params, dtrain, num_boost_round, evals, obj, feval, early_stopping_rounds, xgb_model, verbose_eval, callbacks)\u001b[0m\n\u001b[1;32m    979\u001b[0m     \u001b[0mclient\u001b[0m \u001b[0;34m=\u001b[0m \u001b[0m_xgb_get_client\u001b[0m\u001b[0;34m(\u001b[0m\u001b[0mclient\u001b[0m\u001b[0;34m)\u001b[0m\u001b[0;34m\u001b[0m\u001b[0;34m\u001b[0m\u001b[0m\n\u001b[1;32m    980\u001b[0m     \u001b[0margs\u001b[0m \u001b[0;34m=\u001b[0m \u001b[0mlocals\u001b[0m\u001b[0;34m(\u001b[0m\u001b[0;34m)\u001b[0m\u001b[0;34m\u001b[0m\u001b[0;34m\u001b[0m\u001b[0m\n\u001b[0;32m--> 981\u001b[0;31m     \u001b[0;32mreturn\u001b[0m \u001b[0mclient\u001b[0m\u001b[0;34m.\u001b[0m\u001b[0msync\u001b[0m\u001b[0;34m(\u001b[0m\u001b[0m_train_async\u001b[0m\u001b[0;34m,\u001b[0m \u001b[0mglobal_config\u001b[0m\u001b[0;34m=\u001b[0m\u001b[0mconfig\u001b[0m\u001b[0;34m.\u001b[0m\u001b[0mget_config\u001b[0m\u001b[0;34m(\u001b[0m\u001b[0;34m)\u001b[0m\u001b[0;34m,\u001b[0m \u001b[0;34m**\u001b[0m\u001b[0margs\u001b[0m\u001b[0;34m)\u001b[0m\u001b[0;34m\u001b[0m\u001b[0;34m\u001b[0m\u001b[0m\n\u001b[0m\u001b[1;32m    982\u001b[0m \u001b[0;34m\u001b[0m\u001b[0m\n\u001b[1;32m    983\u001b[0m \u001b[0;34m\u001b[0m\u001b[0m\n",
      "\u001b[0;32m~/.local/lib/python3.8/site-packages/distributed/client.py\u001b[0m in \u001b[0;36msync\u001b[0;34m(self, func, asynchronous, callback_timeout, *args, **kwargs)\u001b[0m\n\u001b[1;32m    858\u001b[0m             \u001b[0;32mreturn\u001b[0m \u001b[0mfuture\u001b[0m\u001b[0;34m\u001b[0m\u001b[0;34m\u001b[0m\u001b[0m\n\u001b[1;32m    859\u001b[0m         \u001b[0;32melse\u001b[0m\u001b[0;34m:\u001b[0m\u001b[0;34m\u001b[0m\u001b[0;34m\u001b[0m\u001b[0m\n\u001b[0;32m--> 860\u001b[0;31m             return sync(\n\u001b[0m\u001b[1;32m    861\u001b[0m                 \u001b[0mself\u001b[0m\u001b[0;34m.\u001b[0m\u001b[0mloop\u001b[0m\u001b[0;34m,\u001b[0m \u001b[0mfunc\u001b[0m\u001b[0;34m,\u001b[0m \u001b[0;34m*\u001b[0m\u001b[0margs\u001b[0m\u001b[0;34m,\u001b[0m \u001b[0mcallback_timeout\u001b[0m\u001b[0;34m=\u001b[0m\u001b[0mcallback_timeout\u001b[0m\u001b[0;34m,\u001b[0m \u001b[0;34m**\u001b[0m\u001b[0mkwargs\u001b[0m\u001b[0;34m\u001b[0m\u001b[0;34m\u001b[0m\u001b[0m\n\u001b[1;32m    862\u001b[0m             )\n",
      "\u001b[0;32m~/.local/lib/python3.8/site-packages/distributed/utils.py\u001b[0m in \u001b[0;36msync\u001b[0;34m(loop, func, callback_timeout, *args, **kwargs)\u001b[0m\n\u001b[1;32m    324\u001b[0m     \u001b[0;32mif\u001b[0m \u001b[0merror\u001b[0m\u001b[0;34m[\u001b[0m\u001b[0;36m0\u001b[0m\u001b[0;34m]\u001b[0m\u001b[0;34m:\u001b[0m\u001b[0;34m\u001b[0m\u001b[0;34m\u001b[0m\u001b[0m\n\u001b[1;32m    325\u001b[0m         \u001b[0mtyp\u001b[0m\u001b[0;34m,\u001b[0m \u001b[0mexc\u001b[0m\u001b[0;34m,\u001b[0m \u001b[0mtb\u001b[0m \u001b[0;34m=\u001b[0m \u001b[0merror\u001b[0m\u001b[0;34m[\u001b[0m\u001b[0;36m0\u001b[0m\u001b[0;34m]\u001b[0m\u001b[0;34m\u001b[0m\u001b[0;34m\u001b[0m\u001b[0m\n\u001b[0;32m--> 326\u001b[0;31m         \u001b[0;32mraise\u001b[0m \u001b[0mexc\u001b[0m\u001b[0;34m.\u001b[0m\u001b[0mwith_traceback\u001b[0m\u001b[0;34m(\u001b[0m\u001b[0mtb\u001b[0m\u001b[0;34m)\u001b[0m\u001b[0;34m\u001b[0m\u001b[0;34m\u001b[0m\u001b[0m\n\u001b[0m\u001b[1;32m    327\u001b[0m     \u001b[0;32melse\u001b[0m\u001b[0;34m:\u001b[0m\u001b[0;34m\u001b[0m\u001b[0;34m\u001b[0m\u001b[0m\n\u001b[1;32m    328\u001b[0m         \u001b[0;32mreturn\u001b[0m \u001b[0mresult\u001b[0m\u001b[0;34m[\u001b[0m\u001b[0;36m0\u001b[0m\u001b[0;34m]\u001b[0m\u001b[0;34m\u001b[0m\u001b[0;34m\u001b[0m\u001b[0m\n",
      "\u001b[0;32m~/.local/lib/python3.8/site-packages/distributed/utils.py\u001b[0m in \u001b[0;36mf\u001b[0;34m()\u001b[0m\n\u001b[1;32m    307\u001b[0m             \u001b[0;32mif\u001b[0m \u001b[0mcallback_timeout\u001b[0m \u001b[0;32mis\u001b[0m \u001b[0;32mnot\u001b[0m \u001b[0;32mNone\u001b[0m\u001b[0;34m:\u001b[0m\u001b[0;34m\u001b[0m\u001b[0;34m\u001b[0m\u001b[0m\n\u001b[1;32m    308\u001b[0m                 \u001b[0mfuture\u001b[0m \u001b[0;34m=\u001b[0m \u001b[0masyncio\u001b[0m\u001b[0;34m.\u001b[0m\u001b[0mwait_for\u001b[0m\u001b[0;34m(\u001b[0m\u001b[0mfuture\u001b[0m\u001b[0;34m,\u001b[0m \u001b[0mcallback_timeout\u001b[0m\u001b[0;34m)\u001b[0m\u001b[0;34m\u001b[0m\u001b[0;34m\u001b[0m\u001b[0m\n\u001b[0;32m--> 309\u001b[0;31m             \u001b[0mresult\u001b[0m\u001b[0;34m[\u001b[0m\u001b[0;36m0\u001b[0m\u001b[0;34m]\u001b[0m \u001b[0;34m=\u001b[0m \u001b[0;32myield\u001b[0m \u001b[0mfuture\u001b[0m\u001b[0;34m\u001b[0m\u001b[0;34m\u001b[0m\u001b[0m\n\u001b[0m\u001b[1;32m    310\u001b[0m         \u001b[0;32mexcept\u001b[0m \u001b[0mException\u001b[0m\u001b[0;34m:\u001b[0m\u001b[0;34m\u001b[0m\u001b[0;34m\u001b[0m\u001b[0m\n\u001b[1;32m    311\u001b[0m             \u001b[0merror\u001b[0m\u001b[0;34m[\u001b[0m\u001b[0;36m0\u001b[0m\u001b[0;34m]\u001b[0m \u001b[0;34m=\u001b[0m \u001b[0msys\u001b[0m\u001b[0;34m.\u001b[0m\u001b[0mexc_info\u001b[0m\u001b[0;34m(\u001b[0m\u001b[0;34m)\u001b[0m\u001b[0;34m\u001b[0m\u001b[0;34m\u001b[0m\u001b[0m\n",
      "\u001b[0;32m/usr/local/lib/python3.8/dist-packages/tornado/gen.py\u001b[0m in \u001b[0;36mrun\u001b[0;34m(self)\u001b[0m\n\u001b[1;32m    760\u001b[0m \u001b[0;34m\u001b[0m\u001b[0m\n\u001b[1;32m    761\u001b[0m                     \u001b[0;32mtry\u001b[0m\u001b[0;34m:\u001b[0m\u001b[0;34m\u001b[0m\u001b[0;34m\u001b[0m\u001b[0m\n\u001b[0;32m--> 762\u001b[0;31m                         \u001b[0mvalue\u001b[0m \u001b[0;34m=\u001b[0m \u001b[0mfuture\u001b[0m\u001b[0;34m.\u001b[0m\u001b[0mresult\u001b[0m\u001b[0;34m(\u001b[0m\u001b[0;34m)\u001b[0m\u001b[0;34m\u001b[0m\u001b[0;34m\u001b[0m\u001b[0m\n\u001b[0m\u001b[1;32m    763\u001b[0m                     \u001b[0;32mexcept\u001b[0m \u001b[0mException\u001b[0m\u001b[0;34m:\u001b[0m\u001b[0;34m\u001b[0m\u001b[0;34m\u001b[0m\u001b[0m\n\u001b[1;32m    764\u001b[0m                         \u001b[0mexc_info\u001b[0m \u001b[0;34m=\u001b[0m \u001b[0msys\u001b[0m\u001b[0;34m.\u001b[0m\u001b[0mexc_info\u001b[0m\u001b[0;34m(\u001b[0m\u001b[0;34m)\u001b[0m\u001b[0;34m\u001b[0m\u001b[0;34m\u001b[0m\u001b[0m\n",
      "\u001b[0;32m~/.local/lib/python3.8/site-packages/xgboost/dask.py\u001b[0m in \u001b[0;36m_train_async\u001b[0;34m(client, global_config, params, dtrain, num_boost_round, evals, obj, feval, early_stopping_rounds, verbose_eval, xgb_model, callbacks)\u001b[0m\n\u001b[1;32m    929\u001b[0m             \u001b[0mfutures\u001b[0m\u001b[0;34m.\u001b[0m\u001b[0mappend\u001b[0m\u001b[0;34m(\u001b[0m\u001b[0mf\u001b[0m\u001b[0;34m)\u001b[0m\u001b[0;34m\u001b[0m\u001b[0;34m\u001b[0m\u001b[0m\n\u001b[1;32m    930\u001b[0m \u001b[0;34m\u001b[0m\u001b[0m\n\u001b[0;32m--> 931\u001b[0;31m         \u001b[0mresults\u001b[0m \u001b[0;34m=\u001b[0m \u001b[0;32mawait\u001b[0m \u001b[0mclient\u001b[0m\u001b[0;34m.\u001b[0m\u001b[0mgather\u001b[0m\u001b[0;34m(\u001b[0m\u001b[0mfutures\u001b[0m\u001b[0;34m,\u001b[0m \u001b[0masynchronous\u001b[0m\u001b[0;34m=\u001b[0m\u001b[0;32mTrue\u001b[0m\u001b[0;34m)\u001b[0m\u001b[0;34m\u001b[0m\u001b[0;34m\u001b[0m\u001b[0m\n\u001b[0m\u001b[1;32m    932\u001b[0m \u001b[0;34m\u001b[0m\u001b[0m\n\u001b[1;32m    933\u001b[0m         \u001b[0;32mreturn\u001b[0m \u001b[0mlist\u001b[0m\u001b[0;34m(\u001b[0m\u001b[0mfilter\u001b[0m\u001b[0;34m(\u001b[0m\u001b[0;32mlambda\u001b[0m \u001b[0mret\u001b[0m\u001b[0;34m:\u001b[0m \u001b[0mret\u001b[0m \u001b[0;32mis\u001b[0m \u001b[0;32mnot\u001b[0m \u001b[0;32mNone\u001b[0m\u001b[0;34m,\u001b[0m \u001b[0mresults\u001b[0m\u001b[0;34m)\u001b[0m\u001b[0;34m)\u001b[0m\u001b[0;34m[\u001b[0m\u001b[0;36m0\u001b[0m\u001b[0;34m]\u001b[0m\u001b[0;34m\u001b[0m\u001b[0;34m\u001b[0m\u001b[0m\n",
      "\u001b[0;32m~/.local/lib/python3.8/site-packages/distributed/client.py\u001b[0m in \u001b[0;36m_gather\u001b[0;34m(self, futures, errors, direct, local_worker)\u001b[0m\n\u001b[1;32m   1829\u001b[0m                             \u001b[0mexc\u001b[0m \u001b[0;34m=\u001b[0m \u001b[0mCancelledError\u001b[0m\u001b[0;34m(\u001b[0m\u001b[0mkey\u001b[0m\u001b[0;34m)\u001b[0m\u001b[0;34m\u001b[0m\u001b[0;34m\u001b[0m\u001b[0m\n\u001b[1;32m   1830\u001b[0m                         \u001b[0;32melse\u001b[0m\u001b[0;34m:\u001b[0m\u001b[0;34m\u001b[0m\u001b[0;34m\u001b[0m\u001b[0m\n\u001b[0;32m-> 1831\u001b[0;31m                             \u001b[0;32mraise\u001b[0m \u001b[0mexception\u001b[0m\u001b[0;34m.\u001b[0m\u001b[0mwith_traceback\u001b[0m\u001b[0;34m(\u001b[0m\u001b[0mtraceback\u001b[0m\u001b[0;34m)\u001b[0m\u001b[0;34m\u001b[0m\u001b[0;34m\u001b[0m\u001b[0m\n\u001b[0m\u001b[1;32m   1832\u001b[0m                         \u001b[0;32mraise\u001b[0m \u001b[0mexc\u001b[0m\u001b[0;34m\u001b[0m\u001b[0;34m\u001b[0m\u001b[0m\n\u001b[1;32m   1833\u001b[0m                     \u001b[0;32mif\u001b[0m \u001b[0merrors\u001b[0m \u001b[0;34m==\u001b[0m \u001b[0;34m\"skip\"\u001b[0m\u001b[0;34m:\u001b[0m\u001b[0;34m\u001b[0m\u001b[0;34m\u001b[0m\u001b[0m\n",
      "\u001b[0;32m~/.local/lib/python3.8/site-packages/xgboost/dask.py\u001b[0m in \u001b[0;36mdispatched_train\u001b[0;34m()\u001b[0m\n\u001b[1;32m    884\u001b[0m                 \u001b[0;32melse\u001b[0m\u001b[0;34m:\u001b[0m\u001b[0;34m\u001b[0m\u001b[0;34m\u001b[0m\u001b[0m\n\u001b[1;32m    885\u001b[0m                     \u001b[0mlocal_param\u001b[0m\u001b[0;34m[\u001b[0m\u001b[0mp\u001b[0m\u001b[0;34m]\u001b[0m \u001b[0;34m=\u001b[0m \u001b[0mworker\u001b[0m\u001b[0;34m.\u001b[0m\u001b[0mnthreads\u001b[0m\u001b[0;34m\u001b[0m\u001b[0;34m\u001b[0m\u001b[0m\n\u001b[0;32m--> 886\u001b[0;31m             bst = worker_train(params=local_param,\n\u001b[0m\u001b[1;32m    887\u001b[0m                                \u001b[0mdtrain\u001b[0m\u001b[0;34m=\u001b[0m\u001b[0mlocal_dtrain\u001b[0m\u001b[0;34m,\u001b[0m\u001b[0;34m\u001b[0m\u001b[0;34m\u001b[0m\u001b[0m\n\u001b[1;32m    888\u001b[0m                                \u001b[0mnum_boost_round\u001b[0m\u001b[0;34m=\u001b[0m\u001b[0mnum_boost_round\u001b[0m\u001b[0;34m,\u001b[0m\u001b[0;34m\u001b[0m\u001b[0;34m\u001b[0m\u001b[0m\n",
      "\u001b[0;32m~/.local/lib/python3.8/site-packages/xgboost/training.py\u001b[0m in \u001b[0;36mtrain\u001b[0;34m()\u001b[0m\n\u001b[1;32m    186\u001b[0m     \u001b[0mBooster\u001b[0m \u001b[0;34m:\u001b[0m \u001b[0ma\u001b[0m \u001b[0mtrained\u001b[0m \u001b[0mbooster\u001b[0m \u001b[0mmodel\u001b[0m\u001b[0;34m\u001b[0m\u001b[0;34m\u001b[0m\u001b[0m\n\u001b[1;32m    187\u001b[0m     \"\"\"\n\u001b[0;32m--> 188\u001b[0;31m     bst = _train_internal(params, dtrain,\n\u001b[0m\u001b[1;32m    189\u001b[0m                           \u001b[0mnum_boost_round\u001b[0m\u001b[0;34m=\u001b[0m\u001b[0mnum_boost_round\u001b[0m\u001b[0;34m,\u001b[0m\u001b[0;34m\u001b[0m\u001b[0;34m\u001b[0m\u001b[0m\n\u001b[1;32m    190\u001b[0m                           \u001b[0mevals\u001b[0m\u001b[0;34m=\u001b[0m\u001b[0mevals\u001b[0m\u001b[0;34m,\u001b[0m\u001b[0;34m\u001b[0m\u001b[0;34m\u001b[0m\u001b[0m\n",
      "\u001b[0;32m~/.local/lib/python3.8/site-packages/xgboost/training.py\u001b[0m in \u001b[0;36m_train_internal\u001b[0;34m()\u001b[0m\n\u001b[1;32m     79\u001b[0m         \u001b[0;32mif\u001b[0m \u001b[0mcallbacks\u001b[0m\u001b[0;34m.\u001b[0m\u001b[0mbefore_iteration\u001b[0m\u001b[0;34m(\u001b[0m\u001b[0mbst\u001b[0m\u001b[0;34m,\u001b[0m \u001b[0mi\u001b[0m\u001b[0;34m,\u001b[0m \u001b[0mdtrain\u001b[0m\u001b[0;34m,\u001b[0m \u001b[0mevals\u001b[0m\u001b[0;34m)\u001b[0m\u001b[0;34m:\u001b[0m\u001b[0;34m\u001b[0m\u001b[0;34m\u001b[0m\u001b[0m\n\u001b[1;32m     80\u001b[0m             \u001b[0;32mbreak\u001b[0m\u001b[0;34m\u001b[0m\u001b[0;34m\u001b[0m\u001b[0m\n\u001b[0;32m---> 81\u001b[0;31m         \u001b[0mbst\u001b[0m\u001b[0;34m.\u001b[0m\u001b[0mupdate\u001b[0m\u001b[0;34m(\u001b[0m\u001b[0mdtrain\u001b[0m\u001b[0;34m,\u001b[0m \u001b[0mi\u001b[0m\u001b[0;34m,\u001b[0m \u001b[0mobj\u001b[0m\u001b[0;34m)\u001b[0m\u001b[0;34m\u001b[0m\u001b[0;34m\u001b[0m\u001b[0m\n\u001b[0m\u001b[1;32m     82\u001b[0m         \u001b[0;32mif\u001b[0m \u001b[0mcallbacks\u001b[0m\u001b[0;34m.\u001b[0m\u001b[0mafter_iteration\u001b[0m\u001b[0;34m(\u001b[0m\u001b[0mbst\u001b[0m\u001b[0;34m,\u001b[0m \u001b[0mi\u001b[0m\u001b[0;34m,\u001b[0m \u001b[0mdtrain\u001b[0m\u001b[0;34m,\u001b[0m \u001b[0mevals\u001b[0m\u001b[0;34m)\u001b[0m\u001b[0;34m:\u001b[0m\u001b[0;34m\u001b[0m\u001b[0;34m\u001b[0m\u001b[0m\n\u001b[1;32m     83\u001b[0m             \u001b[0;32mbreak\u001b[0m\u001b[0;34m\u001b[0m\u001b[0;34m\u001b[0m\u001b[0m\n",
      "\u001b[0;32m~/.local/lib/python3.8/site-packages/xgboost/core.py\u001b[0m in \u001b[0;36mupdate\u001b[0;34m()\u001b[0m\n\u001b[1;32m   1678\u001b[0m \u001b[0;34m\u001b[0m\u001b[0m\n\u001b[1;32m   1679\u001b[0m         \u001b[0;32mif\u001b[0m \u001b[0mfobj\u001b[0m \u001b[0;32mis\u001b[0m \u001b[0;32mNone\u001b[0m\u001b[0;34m:\u001b[0m\u001b[0;34m\u001b[0m\u001b[0;34m\u001b[0m\u001b[0m\n\u001b[0;32m-> 1680\u001b[0;31m             _check_call(_LIB.XGBoosterUpdateOneIter(self.handle,\n\u001b[0m\u001b[1;32m   1681\u001b[0m                                                     \u001b[0mctypes\u001b[0m\u001b[0;34m.\u001b[0m\u001b[0mc_int\u001b[0m\u001b[0;34m(\u001b[0m\u001b[0miteration\u001b[0m\u001b[0;34m)\u001b[0m\u001b[0;34m,\u001b[0m\u001b[0;34m\u001b[0m\u001b[0;34m\u001b[0m\u001b[0m\n\u001b[1;32m   1682\u001b[0m                                                     dtrain.handle))\n",
      "\u001b[0;32m~/.local/lib/python3.8/site-packages/xgboost/core.py\u001b[0m in \u001b[0;36m_check_call\u001b[0;34m()\u001b[0m\n\u001b[1;32m    216\u001b[0m     \"\"\"\n\u001b[1;32m    217\u001b[0m     \u001b[0;32mif\u001b[0m \u001b[0mret\u001b[0m \u001b[0;34m!=\u001b[0m \u001b[0;36m0\u001b[0m\u001b[0;34m:\u001b[0m\u001b[0;34m\u001b[0m\u001b[0;34m\u001b[0m\u001b[0m\n\u001b[0;32m--> 218\u001b[0;31m         \u001b[0;32mraise\u001b[0m \u001b[0mXGBoostError\u001b[0m\u001b[0;34m(\u001b[0m\u001b[0mpy_str\u001b[0m\u001b[0;34m(\u001b[0m\u001b[0m_LIB\u001b[0m\u001b[0;34m.\u001b[0m\u001b[0mXGBGetLastError\u001b[0m\u001b[0;34m(\u001b[0m\u001b[0;34m)\u001b[0m\u001b[0;34m)\u001b[0m\u001b[0;34m)\u001b[0m\u001b[0;34m\u001b[0m\u001b[0;34m\u001b[0m\u001b[0m\n\u001b[0m\u001b[1;32m    219\u001b[0m \u001b[0;34m\u001b[0m\u001b[0m\n\u001b[1;32m    220\u001b[0m \u001b[0;34m\u001b[0m\u001b[0m\n",
      "\u001b[0;31mXGBoostError\u001b[0m: [13:01:44] ../src/tree/updater_gpu_hist.cu:770: Exception in gpu_hist: [13:01:44] ../src/c_api/../data/../common/device_helpers.cuh:428: Memory allocation error on worker 0: Caching allocator\n- Free memory: 405274624\n- Requested memory: 271294719\n\nStack trace:\n  [bt] (0) /home/tunguz/.local/lib/python3.8/site-packages/xgboost/lib/libxgboost.so(+0x3147d9) [0x7ff7221c77d9]\n  [bt] (1) /home/tunguz/.local/lib/python3.8/site-packages/xgboost/lib/libxgboost.so(+0x3184fb) [0x7ff7221cb4fb]\n  [bt] (2) /home/tunguz/.local/lib/python3.8/site-packages/xgboost/lib/libxgboost.so(+0x3262a1) [0x7ff7221d92a1]\n  [bt] (3) /home/tunguz/.local/lib/python3.8/site-packages/xgboost/lib/libxgboost.so(+0x327e8d) [0x7ff7221dae8d]\n  [bt] (4) /home/tunguz/.local/lib/python3.8/site-packages/xgboost/lib/libxgboost.so(+0x37fd40) [0x7ff722232d40]\n  [bt] (5) /home/tunguz/.local/lib/python3.8/site-packages/xgboost/lib/libxgboost.so(+0x38036e) [0x7ff72223336e]\n  [bt] (6) /home/tunguz/.local/lib/python3.8/site-packages/xgboost/lib/libxgboost.so(+0x14ce2b) [0x7ff721fffe2b]\n  [bt] (7) /home/tunguz/.local/lib/python3.8/site-packages/xgboost/lib/libxgboost.so(+0x4d7e36) [0x7ff72238ae36]\n  [bt] (8) /home/tunguz/.local/lib/python3.8/site-packages/xgboost/lib/libxgboost.so(+0x4e1b86) [0x7ff722394b86]\n\n\n\nStack trace:\n  [bt] (0) /home/tunguz/.local/lib/python3.8/site-packages/xgboost/lib/libxgboost.so(+0x4c2e69) [0x7ff722375e69]\n  [bt] (1) /home/tunguz/.local/lib/python3.8/site-packages/xgboost/lib/libxgboost.so(+0x4e1edf) [0x7ff722394edf]\n  [bt] (2) /home/tunguz/.local/lib/python3.8/site-packages/xgboost/lib/libxgboost.so(+0x17d4a3) [0x7ff7220304a3]\n  [bt] (3) /home/tunguz/.local/lib/python3.8/site-packages/xgboost/lib/libxgboost.so(+0x17e027) [0x7ff722031027]\n  [bt] (4) /home/tunguz/.local/lib/python3.8/site-packages/xgboost/lib/libxgboost.so(+0x1b481a) [0x7ff72206781a]\n  [bt] (5) /home/tunguz/.local/lib/python3.8/site-packages/xgboost/lib/libxgboost.so(XGBoosterUpdateOneIter+0x68) [0x7ff721f4c4e8]\n  [bt] (6) /lib/x86_64-linux-gnu/libffi.so.7(+0x6ff5) [0x7ff8d0205ff5]\n  [bt] (7) /lib/x86_64-linux-gnu/libffi.so.7(+0x640a) [0x7ff8d020540a]\n  [bt] (8) /usr/lib/python3.8/lib-dynload/_ctypes.cpython-38-x86_64-linux-gnu.so(_ctypes_callproc+0x5b6) [0x7ff8d021e306]\n\n"
     ]
    },
    {
     "name": "stderr",
     "output_type": "stream",
     "text": [
      "distributed.worker - WARNING - Compute Failed\n",
      "Function:  dispatched_train\n",
      "args:      ('tcp://192.168.1.200:44983', [b'DMLC_NUM_WORKER=2', b'DMLC_TRACKER_URI=192.168.1.200', b'DMLC_TRACKER_PORT=9091', b'DMLC_TASK_ID=[xgboost.dask]:tcp://192.168.1.200:44983'], {'feature_names': None, 'feature_types': None, 'feature_weights': None, 'meta_names': ['labels'], 'missing': None, 'enable_categorical': False, 'parts': [(      ACT_AMT_ANNUITY_MAX  ...  total_credit_None\n",
      "0                     NaN  ...        2413192.500\n",
      "1                     NaN  ...        2092986.000\n",
      "2                     NaN  ...         131395.500\n",
      "3                     NaN  ...        1802266.830\n",
      "4                     NaN  ...          79156.125\n",
      "...                   ...  ...                ...\n",
      "6570                  NaN  ...         488983.725\n",
      "6571                  NaN  ...         213781.500\n",
      "6572                  NaN  ...        6467192.505\n",
      "6573                  NaN  ...         585000.000\n",
      "6574              36504.0  ...        1077651.000\n",
      "\n",
      "[6575 rows x 1828 columns], 0       0\n",
      "1       0\n",
      "2       0\n",
      "3       0\n",
      "4 \n",
      "kwargs:    {}\n",
      "Exception: XGBoostError('[13:01:44] ../src/tree/updater_gpu_hist.cu:770: Exception in gpu_hist: [13:01:44] ../src/c_api/../data/../common/device_helpers.cuh:428: Memory allocation error on worker 1: Caching allocator\\n- Free memory: 455671808\\n- Requested memory: 305730815\\n\\nStack trace:\\n  [bt] (0) /home/tunguz/.local/lib/python3.8/site-packages/xgboost/lib/libxgboost.so(+0x3147d9) [0x7f0f011517d9]\\n  [bt] (1) /home/tunguz/.local/lib/python3.8/site-packages/xgboost/lib/libxgboost.so(+0x3184fb) [0x7f0f011554fb]\\n  [bt] (2) /home/tunguz/.local/lib/python3.8/site-packages/xgboost/lib/libxgboost.so(+0x3262a1) [0x7f0f011632a1]\\n  [bt] (3) /home/tunguz/.local/lib/python3.8/site-packages/xgboost/lib/libxgboost.so(+0x327e8d) [0x7f0f01164e8d]\\n  [bt] (4) /home/tunguz/.local/lib/python3.8/site-packages/xgboost/lib/libxgboost.so(+0x37fd40) [0x7f0f011bcd40]\\n  [bt] (5) /home/tunguz/.local/lib/python3.8/site-packages/xgboost/lib/libxgboost.so(+0x38036e) [0x7f0f011bd36e]\\n  [bt] (6) /home/tunguz/.local/lib/python3.8/site-packages/xgboost/lib/libxgboost.so(+0x14ce2b) [0x7f0f00f89e2b]\\n  [bt] (7) /home/tunguz/.local/lib/python3.8/site-packages/xgboost/lib/libxgboost.so(+0x4d7e36) [0x7f0f01314e36]\\n  [bt] (8) /home/tunguz/.local/lib/python3.8/site-packages/xgboost/lib/libxgboost.so(+0x4e1b86) [0x7f0f0131eb86]\\n\\n\\n\\nStack trace:\\n  [bt] (0) /home/tunguz/.local/lib/python3.8/site-packages/xgboost/lib/libxgboost.so(+0x4c2e69) [0x7f0f012ffe69]\\n  [bt] (1) /home/tunguz/.local/lib/python3.8/site-packages/xgboost/lib/libxgboost.so(+0x4e1edf) [0x7f0f0131eedf]\\n  [bt] (2) /home/tunguz/.local/lib/python3.8/site-packages/xgboost/lib/libxgboost.so(+0x17d4a3) [0x7f0f00fba4a3]\\n  [bt] (3) /home/tunguz/.local/lib/python3.8/site-packages/xgboost/lib/libxgboost.so(+0x17e027) [0x7f0f00fbb027]\\n  [bt] (4) /home/tunguz/.local/lib/python3.8/site-packages/xgboost/lib/libxgboost.so(+0x1b481a) [0x7f0f00ff181a]\\n  [bt] (5) /home/tunguz/.local/lib/python3.8/site-packages/xgboost/lib/libxgboost.so(XGBoosterUpdateOneIter+0x68) [0x7f0f00ed64e8]\\n  [bt] (6) /lib/x86_64-linux-gnu/libffi.so.7(+0x6ff5) [0x7f10d6e99ff5]\\n  [bt] (7) /lib/x86_64-linux-gnu/libffi.so.7(+0x640a) [0x7f10d6e9940a]\\n  [bt] (8) /usr/lib/python3.8/lib-dynload/_ctypes.cpython-38-x86_64-linux-gnu.so(_ctypes_callproc+0x5b6) [0x7f10d6eb2306]\\n\\n')\n",
      "\n"
     ]
    }
   ],
   "source": [
    "%%time\n",
    "study.optimize(objective, n_trials=1)"
   ]
  },
  {
   "cell_type": "code",
   "execution_count": null,
   "id": "228262f9-57c9-47a2-bca2-d5ee4a5a5d79",
   "metadata": {},
   "outputs": [],
   "source": []
  }
 ],
 "metadata": {
  "kernelspec": {
   "display_name": "Python 3 (ipykernel)",
   "language": "python",
   "name": "python3"
  },
  "language_info": {
   "codemirror_mode": {
    "name": "ipython",
    "version": 3
   },
   "file_extension": ".py",
   "mimetype": "text/x-python",
   "name": "python",
   "nbconvert_exporter": "python",
   "pygments_lexer": "ipython3",
   "version": "3.8.10"
  }
 },
 "nbformat": 4,
 "nbformat_minor": 5
}
